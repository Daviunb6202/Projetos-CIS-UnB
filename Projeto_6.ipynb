{
  "cells": [
    {
      "cell_type": "markdown",
      "metadata": {
        "id": "view-in-github",
        "colab_type": "text"
      },
      "source": [
        "<a href=\"https://colab.research.google.com/github/Daviunb6202/Projetos-CIS-UnB/blob/main/Projeto_6.ipynb\" target=\"_parent\"><img src=\"https://colab.research.google.com/assets/colab-badge.svg\" alt=\"Open In Colab\"/></a>"
      ]
    },
    {
      "cell_type": "markdown",
      "source": [
        "# Análise:\n",
        "\n",
        "## Pré-processamento:\n",
        "  Por meio do Sklearn, consegui normalizar, lemmantizar, tokenizar e vetorizar os textos em formato \"Panda Series\", mas ainda sim, o gradiente explodiu após 8 horas rodando no primeiro modelo RNN! Então tentei pelo Keras.Tensorflow, em que finalmente consegui este formato que criasse o dataset sem formato de tupla. \n",
        "  A única observação é que toda essa pipeline foi adaptada com base numa solução vinda de uma função já movida para um módulo de \"desuso\" do keras. Por conta disso, não consegui realizar o cálculo de frequência de palavra no texto (tf_idf), visto que esse é um argumento do método \"text_to_sequences()\", e este método não roda nos tensores/datasets construídos \n",
        "\n",
        "## Modelo 1 - RNN Simples \n",
        "O modelo foi composto de duas camadas de RNN simples e contou com quase 80 de acurácia de teste e quase 70 de acurácia na validação. Entender o funcionamento da camada de embedding e seu formato de input foi um desafio nessa fase. Assim como nos outros dois modelos seguintes, não foi possível utilizar os métodos predict() ou evaluate() junto com o score() do sklearn, devido a impossibilidade de extrair as labels do dataset em si.\n",
        "\n",
        "## Modelo 2 - LSTM Unidirecional\n",
        "\n",
        "Apesar de ter um nível de complexidade maior, a célula LSTM performou um pouco pior na parte de treinamento.\n",
        "\n",
        "## Modelo 3 - LSTM Bidirecional \n",
        "Com 75 de acurácia no treinamento, e 70 na validação, o resultado foi levemente abaixo do esperado.\n",
        "\n",
        "## Modelo Support Vector Machine linear via Sklearn \n",
        " \n",
        "Para que fosse possível usar este  modelo sklearn, foi necessário utilizar uma outra pipeline de préprocessamento, em que foi possível utilizar o método tf_idf de frequência de palavras(o que provavelmente pesou no resultado). Com resultado muito parecido com o primeiro modelo, obteve uma acurácia de quase 80%."
      ],
      "metadata": {
        "id": "CbaBxyjIY-r7"
      }
    },
    {
      "cell_type": "code",
      "source": [
        " from google.colab import drive"
      ],
      "metadata": {
        "id": "KxRUpxmdY_pi"
      },
      "execution_count": null,
      "outputs": []
    },
    {
      "cell_type": "code",
      "execution_count": null,
      "metadata": {
        "id": "kCFogbBZmzdL"
      },
      "outputs": [],
      "source": [
        "!pip install --user tensorflow-addons"
      ]
    },
    {
      "cell_type": "code",
      "execution_count": null,
      "metadata": {
        "id": "UOI_rpeym0l8"
      },
      "outputs": [],
      "source": [
        "!pip install --user tensorflow --upgrade --force-reinstall"
      ]
    },
    {
      "cell_type": "code",
      "execution_count": null,
      "metadata": {
        "id": "aM8YsYmRph7G"
      },
      "outputs": [],
      "source": [
        "pip install --upgrade tensorflow-gpu"
      ]
    },
    {
      "cell_type": "code",
      "execution_count": null,
      "metadata": {
        "colab": {
          "base_uri": "https://localhost:8080/"
        },
        "id": "AEPT4bp5B6F6",
        "outputId": "f73d016a-7c24-4b0f-d576-ad1e02a71feb"
      },
      "outputs": [
        {
          "name": "stdout",
          "output_type": "stream",
          "text": [
            "Requirement already satisfied: spacy in /usr/local/lib/python3.7/dist-packages (2.2.4)\n",
            "Requirement already satisfied: setuptools in /usr/local/lib/python3.7/dist-packages (from spacy) (57.4.0)\n",
            "Requirement already satisfied: cymem<2.1.0,>=2.0.2 in /usr/local/lib/python3.7/dist-packages (from spacy) (2.0.6)\n",
            "Requirement already satisfied: catalogue<1.1.0,>=0.0.7 in /usr/local/lib/python3.7/dist-packages (from spacy) (1.0.0)\n",
            "Requirement already satisfied: srsly<1.1.0,>=1.0.2 in /usr/local/lib/python3.7/dist-packages (from spacy) (1.0.5)\n",
            "Requirement already satisfied: preshed<3.1.0,>=3.0.2 in /usr/local/lib/python3.7/dist-packages (from spacy) (3.0.6)\n",
            "Requirement already satisfied: blis<0.5.0,>=0.4.0 in /usr/local/lib/python3.7/dist-packages (from spacy) (0.4.1)\n",
            "Requirement already satisfied: murmurhash<1.1.0,>=0.28.0 in /usr/local/lib/python3.7/dist-packages (from spacy) (1.0.6)\n",
            "Requirement already satisfied: wasabi<1.1.0,>=0.4.0 in /usr/local/lib/python3.7/dist-packages (from spacy) (0.9.0)\n",
            "Requirement already satisfied: plac<1.2.0,>=0.9.6 in /usr/local/lib/python3.7/dist-packages (from spacy) (1.1.3)\n",
            "Requirement already satisfied: requests<3.0.0,>=2.13.0 in /usr/local/lib/python3.7/dist-packages (from spacy) (2.27.1)\n",
            "Requirement already satisfied: tqdm<5.0.0,>=4.38.0 in /usr/local/lib/python3.7/dist-packages (from spacy) (4.63.0)\n",
            "Requirement already satisfied: thinc==7.4.0 in /usr/local/lib/python3.7/dist-packages (from spacy) (7.4.0)\n",
            "Requirement already satisfied: numpy>=1.15.0 in /usr/local/lib/python3.7/dist-packages (from spacy) (1.21.5)\n",
            "Requirement already satisfied: importlib-metadata>=0.20 in /usr/local/lib/python3.7/dist-packages (from catalogue<1.1.0,>=0.0.7->spacy) (4.11.3)\n",
            "Requirement already satisfied: zipp>=0.5 in /usr/local/lib/python3.7/dist-packages (from importlib-metadata>=0.20->catalogue<1.1.0,>=0.0.7->spacy) (3.7.0)\n",
            "Requirement already satisfied: typing-extensions>=3.6.4 in /usr/local/lib/python3.7/dist-packages (from importlib-metadata>=0.20->catalogue<1.1.0,>=0.0.7->spacy) (3.10.0.2)\n",
            "Requirement already satisfied: idna<4,>=2.5 in /usr/local/lib/python3.7/dist-packages (from requests<3.0.0,>=2.13.0->spacy) (2.10)\n",
            "Requirement already satisfied: charset-normalizer~=2.0.0 in /usr/local/lib/python3.7/dist-packages (from requests<3.0.0,>=2.13.0->spacy) (2.0.12)\n",
            "Requirement already satisfied: certifi>=2017.4.17 in /usr/local/lib/python3.7/dist-packages (from requests<3.0.0,>=2.13.0->spacy) (2021.10.8)\n",
            "Requirement already satisfied: urllib3<1.27,>=1.21.1 in /usr/local/lib/python3.7/dist-packages (from requests<3.0.0,>=2.13.0->spacy) (1.24.3)\n",
            "Collecting en_core_web_md==2.2.5\n",
            "  Downloading https://github.com/explosion/spacy-models/releases/download/en_core_web_md-2.2.5/en_core_web_md-2.2.5.tar.gz (96.4 MB)\n",
            "\u001b[K     |████████████████████████████████| 96.4 MB 2.8 MB/s \n",
            "\u001b[?25hRequirement already satisfied: spacy>=2.2.2 in /usr/local/lib/python3.7/dist-packages (from en_core_web_md==2.2.5) (2.2.4)\n",
            "Requirement already satisfied: thinc==7.4.0 in /usr/local/lib/python3.7/dist-packages (from spacy>=2.2.2->en_core_web_md==2.2.5) (7.4.0)\n",
            "Requirement already satisfied: setuptools in /usr/local/lib/python3.7/dist-packages (from spacy>=2.2.2->en_core_web_md==2.2.5) (57.4.0)\n",
            "Requirement already satisfied: numpy>=1.15.0 in /usr/local/lib/python3.7/dist-packages (from spacy>=2.2.2->en_core_web_md==2.2.5) (1.21.5)\n",
            "Requirement already satisfied: plac<1.2.0,>=0.9.6 in /usr/local/lib/python3.7/dist-packages (from spacy>=2.2.2->en_core_web_md==2.2.5) (1.1.3)\n",
            "Requirement already satisfied: cymem<2.1.0,>=2.0.2 in /usr/local/lib/python3.7/dist-packages (from spacy>=2.2.2->en_core_web_md==2.2.5) (2.0.6)\n",
            "Requirement already satisfied: wasabi<1.1.0,>=0.4.0 in /usr/local/lib/python3.7/dist-packages (from spacy>=2.2.2->en_core_web_md==2.2.5) (0.9.0)\n",
            "Requirement already satisfied: murmurhash<1.1.0,>=0.28.0 in /usr/local/lib/python3.7/dist-packages (from spacy>=2.2.2->en_core_web_md==2.2.5) (1.0.6)\n",
            "Requirement already satisfied: catalogue<1.1.0,>=0.0.7 in /usr/local/lib/python3.7/dist-packages (from spacy>=2.2.2->en_core_web_md==2.2.5) (1.0.0)\n",
            "Requirement already satisfied: requests<3.0.0,>=2.13.0 in /usr/local/lib/python3.7/dist-packages (from spacy>=2.2.2->en_core_web_md==2.2.5) (2.27.1)\n",
            "Requirement already satisfied: tqdm<5.0.0,>=4.38.0 in /usr/local/lib/python3.7/dist-packages (from spacy>=2.2.2->en_core_web_md==2.2.5) (4.63.0)\n",
            "Requirement already satisfied: preshed<3.1.0,>=3.0.2 in /usr/local/lib/python3.7/dist-packages (from spacy>=2.2.2->en_core_web_md==2.2.5) (3.0.6)\n",
            "Requirement already satisfied: srsly<1.1.0,>=1.0.2 in /usr/local/lib/python3.7/dist-packages (from spacy>=2.2.2->en_core_web_md==2.2.5) (1.0.5)\n",
            "Requirement already satisfied: blis<0.5.0,>=0.4.0 in /usr/local/lib/python3.7/dist-packages (from spacy>=2.2.2->en_core_web_md==2.2.5) (0.4.1)\n",
            "Requirement already satisfied: importlib-metadata>=0.20 in /usr/local/lib/python3.7/dist-packages (from catalogue<1.1.0,>=0.0.7->spacy>=2.2.2->en_core_web_md==2.2.5) (4.11.3)\n",
            "Requirement already satisfied: zipp>=0.5 in /usr/local/lib/python3.7/dist-packages (from importlib-metadata>=0.20->catalogue<1.1.0,>=0.0.7->spacy>=2.2.2->en_core_web_md==2.2.5) (3.7.0)\n",
            "Requirement already satisfied: typing-extensions>=3.6.4 in /usr/local/lib/python3.7/dist-packages (from importlib-metadata>=0.20->catalogue<1.1.0,>=0.0.7->spacy>=2.2.2->en_core_web_md==2.2.5) (3.10.0.2)\n",
            "Requirement already satisfied: urllib3<1.27,>=1.21.1 in /usr/local/lib/python3.7/dist-packages (from requests<3.0.0,>=2.13.0->spacy>=2.2.2->en_core_web_md==2.2.5) (1.24.3)\n",
            "Requirement already satisfied: charset-normalizer~=2.0.0 in /usr/local/lib/python3.7/dist-packages (from requests<3.0.0,>=2.13.0->spacy>=2.2.2->en_core_web_md==2.2.5) (2.0.12)\n",
            "Requirement already satisfied: certifi>=2017.4.17 in /usr/local/lib/python3.7/dist-packages (from requests<3.0.0,>=2.13.0->spacy>=2.2.2->en_core_web_md==2.2.5) (2021.10.8)\n",
            "Requirement already satisfied: idna<4,>=2.5 in /usr/local/lib/python3.7/dist-packages (from requests<3.0.0,>=2.13.0->spacy>=2.2.2->en_core_web_md==2.2.5) (2.10)\n",
            "Building wheels for collected packages: en-core-web-md\n",
            "  Building wheel for en-core-web-md (setup.py) ... \u001b[?25l\u001b[?25hdone\n",
            "  Created wheel for en-core-web-md: filename=en_core_web_md-2.2.5-py3-none-any.whl size=98051301 sha256=f73575b865ea2020bdeec10bdad82de8558aeda5a5051871ccbc64202facf6b3\n",
            "  Stored in directory: /tmp/pip-ephem-wheel-cache-rxvd0_um/wheels/69/c5/b8/4f1c029d89238734311b3269762ab2ee325a42da2ce8edb997\n",
            "Successfully built en-core-web-md\n",
            "Installing collected packages: en-core-web-md\n",
            "Successfully installed en-core-web-md-2.2.5\n",
            "\u001b[38;5;2m✔ Download and installation successful\u001b[0m\n",
            "You can now load the model via spacy.load('en_core_web_md')\n"
          ]
        }
      ],
      "source": [
        "!pip install spacy\n",
        "!python -m spacy download en_core_web_md"
      ]
    },
    {
      "cell_type": "code",
      "execution_count": null,
      "metadata": {
        "id": "DjwS0MOubKXY"
      },
      "outputs": [],
      "source": [
        "!pip install tensorflow_transform"
      ]
    },
    {
      "cell_type": "code",
      "execution_count": 270,
      "metadata": {
        "id": "zG-F549KmiV8"
      },
      "outputs": [],
      "source": [
        "import pandas as pd\n",
        "import numpy as np\n",
        "import tensorflow as tf\n",
        "from tensorflow import keras \n",
        "import matplotlib.pyplot as plt\n",
        "import sklearn as sk  \n",
        "import nltk\n",
        "from nltk.tokenize import word_tokenize\n",
        "from nltk.stem import PorterStemmer"
      ]
    },
    {
      "cell_type": "markdown",
      "metadata": {
        "id": "6FAZn8mh92AM"
      },
      "source": [
        "## Importação"
      ]
    },
    {
      "cell_type": "code",
      "execution_count": 271,
      "metadata": {
        "colab": {
          "base_uri": "https://localhost:8080/"
        },
        "id": "DV0PazRDnc-9",
        "outputId": "6e37d957-1051-442f-c08c-2ee926b02f0c"
      },
      "outputs": [
        {
          "output_type": "execute_result",
          "data": {
            "text/plain": [
              "index             0\n",
              "reviewerID        0\n",
              "asin              0\n",
              "reviewerName      0\n",
              "helpful           0\n",
              "reviewText        0\n",
              "overall           0\n",
              "summary           0\n",
              "unixReviewTime    0\n",
              "reviewTime        0\n",
              "dtype: int64"
            ]
          },
          "metadata": {},
          "execution_count": 271
        }
      ],
      "source": [
        "df = pd.read_csv(\"/content/drive/MyDrive/Musical_instruments_reviews.csv\")\n",
        "df.dropna(axis=0,inplace=True)\n",
        "df.reset_index(inplace=True)\n",
        "df.isna().sum()"
      ]
    },
    {
      "cell_type": "markdown",
      "metadata": {
        "id": "8TzlbYIDntK-"
      },
      "source": [
        "## Pré-processamento "
      ]
    },
    {
      "cell_type": "code",
      "execution_count": 272,
      "metadata": {
        "id": "7GJi-T6mtuBd"
      },
      "outputs": [],
      "source": [
        "df['overall'] = pd.Categorical(df['overall'])\n",
        "df['overall'] = df.overall.cat.codes\n",
        "#df['overall'] = [1 if text>5 else 0 for text in df['overall'] ] #Aqui achei que fez mais sentido separar o texto em bom ou ruim,\n",
        "                                                               #pelo menos em um primeiro momento \n",
        "target = df.pop('overall')\n",
        "df = df['reviewText']"
      ]
    },
    {
      "cell_type": "markdown",
      "metadata": {
        "id": "TcsPyLByo2Tn"
      },
      "source": [
        "## Segundo problema, não sei exatamente como codar essa dimensão dos time steps ! "
      ]
    },
    {
      "cell_type": "code",
      "execution_count": 273,
      "metadata": {
        "id": "N2r40qN5oEzZ"
      },
      "outputs": [],
      "source": [
        "from sklearn.model_selection import train_test_split\n",
        "\n",
        "X_train, X_test, y_train, y_test = train_test_split(df, target, train_size=0.7, random_state=42)\n",
        "X_test, X_valid, y_test, y_valid = train_test_split(df, target, train_size=0.5, random_state=42)"
      ]
    },
    {
      "cell_type": "markdown",
      "metadata": {
        "id": "FUKkb8HDkkrI"
      },
      "source": [
        "## Problema de Dataset.from_tensor_slices() por meio de tuplas e não consegue rodar em outras funções "
      ]
    },
    {
      "cell_type": "code",
      "execution_count": 274,
      "metadata": {
        "id": "1J9Bk3c7Z1Ja"
      },
      "outputs": [],
      "source": [
        "X_train = tf.constant(X_train)                 #Tranformando em tensor \n",
        "y_train = tf.constant(y_train, dtype= tf.int32)\n",
        "X_valid = tf.constant(X_valid)\n",
        "y_valid = tf.constant(y_valid, dtype= tf.int32)\n",
        "X_test = tf.constant(X_test)\n",
        "y_test = tf.constant(y_test, dtype= tf.int32)\n",
        "dataset_train = tf.data.Dataset.from_tensor_slices((X_train, y_train))  #Formando datasets\n",
        "dataset_valid = tf.data.Dataset.from_tensor_slices((X_valid, y_valid))\n",
        "dataset_test = tf.data.Dataset.from_tensor_slices((X_test, y_test))"
      ]
    },
    {
      "cell_type": "code",
      "execution_count": 275,
      "metadata": {
        "colab": {
          "base_uri": "https://localhost:8080/"
        },
        "id": "Pdp5XZiAaDWQ",
        "outputId": "f7376316-2a9b-4345-9116-dcae8c1ab340"
      },
      "outputs": [
        {
          "output_type": "stream",
          "name": "stdout",
          "text": [
            "tf.Tensor(b\"This is a pretty good deal if you look at the price of other capos, and you get free shipping.Yeah, it's not as quick to use as the spring loaded ones, but still not bad; better than an elastic strap type.It is also great for creating your own short cut and drop D capos.  With a sharp razor you could do all sorts of crazy stuff.Do not overtighten the screw because the bottom arm is thin. You can add a pad of some sort, or just take care to not to over-tighten it.I'm the type of person that would glue in a small piece of material if it broke through.  So, far it doesn't look like it will though.\", shape=(), dtype=string) tf.Tensor(4, shape=(), dtype=int32)\n"
          ]
        }
      ],
      "source": [
        "for df, target in dataset_train.take(1):\n",
        "  print(df, target)"
      ]
    },
    {
      "cell_type": "code",
      "execution_count": 276,
      "metadata": {
        "id": "Fp2gKDPT1aGr",
        "colab": {
          "base_uri": "https://localhost:8080/"
        },
        "outputId": "47ddaec9-56ac-433b-d5c7-c67e759ec61a"
      },
      "outputs": [
        {
          "output_type": "stream",
          "name": "stdout",
          "text": [
            "('the', 'i', 'a', 'and', 'it', 'to', 'is', 'of', 'for', 'this', 'you', 'that', 'on', 'my', 'with', 'in', 'but', 'have', 's', 't', 'are', 'not', 'as', 'guitar', 'they', 'so', 'one', 'these', 'if', 'or', 'can', 'great', 'like', 'be', 'was', 'very', 'good', 'just', 'use', 'sound', 'all', 'strings', 'well', 'at', 'more', 'your', 'out', 'an', 'up', 'will', 'them', 'when', 'get', 'from', 'pedal', 'than', 'no', 'has', 'would', 'me', 'really', 'what', 'other', 'price', 'some', 'do', 'amp', 'little', 'about', 'there', 've', 'had', 'don', 'much', 'works', 'only', 'quality', 'also', 'nice', 'which', 'used', 'better', 'm', 'any', 'does', 'time', 'tone', 'too', 'easy', 'because', 'using', 'bought', 'stand', 'even', 'need', 'play', 'mic', 'strap', 'by', 'string', 'picks', 'work', 'its', 'buy', 'off', 'playing', 'guitars', 'over', 'now', 'been', 'into', 'way', 're', 'want', 'am', 'tuner', 'made', 'd', 'product', '34', 'after', 'still', 'pedals', 'got', 'cable', 'thing', 'right', 'sounds', 'acoustic', '2', 'set', 'pick', 'bit', 'go', 'two', 'back', 'then', 'years', 'first', 'make', 'best', 'love', 'how', 'bass', '1', 'could', 'while', 'without', 'enough', 'long', 'put', 'most', 'around', 'say', 'lot', 'case', 'recommend', 'fender', 'small', 'new', 'another', 'think', 'tune', 'down', 'few', 'doesn', 'cheap', 'same', 'different', 'power', '3', 'feel', 'last', 'were', 'pretty', 'many', '5', 'fine', 'find', 'did', 'll', '4', 'know', 'cables', 'should', 'perfect', 'makes', 'keep', 'instrument', 'their', 'sure', 'looking', 'high', 'though', 'light', 'far', 'capo', 'electric', 'see', 'something', 'end', 'through', 'never', 'both', 'try', 'may', 'didn', 'metal', 'going', 'solid', 'low', 'always', 'hard', 'music', 'give', 'seems', 'who', 'since', 'fit', 'tried', 'look', 'volume', 'take', 'found', 'where', 'clean', 'problem', 'hold', 'job', 'less', 'neck', 'money', 'heavy', 'tuning', 'those', 'looks', 'worth', 'noise', 'being', 'needed', 'however', 'recording', 'board', 'own', 'tube', 'probably', 'easily', 'before', 'big', 'plastic', 'every', 'size', 'effects', 'microphone', 'top', 'quite', 'tuners', 'built', 'again', '6', 'come', 'box', 'old', 'actually', 'amazon', 'we', 'switch', 'might', 'distortion', 'having', 'getting', 'here', 'expensive', 'behringer', 'unit', 'simple', 'each', 'bag', 'comes', 'line', 'once', 'things', 'highly', 'happy', 'gain', 'bad', 'change', 'came', 'excellent', 'ever', 'sturdy', 'definitely', 'home', 'three', 'studio', 'several', 'almost', 'seem', 'purchased', 'practice', 'between', 'extra', '10', 'reviews', 'clip', 'place', 'people', 'won', 'yet', 'standard', 'amps', 'side', 'wanted', 'cost', 'purchase', 'thought', 'perfectly', 'either', 'plug', 'nothing', 'stars', 'boss', 'battery', 'problems', 'audio', 'others', 'ones', 'review', 'anything', 'bright', 'able', 'said', 'away', 'especially', 'range', 'fits', 'difference', 'why', 'rock', 'couple', 'read', 'head', 'gig', 'overdrive', 'dunlop', 'turn', 'full', '12', 'deal', 'instruments', 'real', 'everything', 'mine', 'longer', 'overall', 'control', 'he', '8', 'stage', 'isn', 'room', 'delay', 'effect', 'such', 'wrong', 'fact', 'level', 'design', 'e', 'amazing', 'easier', 'type', 'ordered', 'times', 'etc', 'stands', 'fingers', 'worked', 'planet', 'live', 'inexpensive', 'brand', 'else', 'player', 'note', 'snark', 'bottom', 'addario', 'holds', 'value', 'strat', 'gets', 'run', 'kind', 'issue', 'exactly', 'adapter', 'recommended', 'expect', 'comfortable', 'stuff', 'color', 'sounding', 'least', 'waves', 'maybe', 'usb', '100', 'style', 'clear', 'black', 'hand', 'short', 'knob', 'device', 'cool', 'buying', 'accurate', 'day', 'done', 'mics', 'point', 'durable', 'loud', 'needs', 'anyone', 'prefer', '20', 'speaker', 'played', 'add', 'haven', 'band', 'break', 'signal', 'quickly', 'model', 'super', 'body', 'months', 'decent', 'item', 'instead', 'build', 'tones', 'plus', 'finish', 'simply', 'grip', 'reverb', 'fast', 'single', 'part', 'close', 'days', 'mixer', 'awesome', 'must', 'boost', 'slightly', 'button', 'jack', 'products', 'weight', 'record', 'second', 'year', 'stay', 'until', 'tight', 'screws', 'feels', 'already', 'tell', 'issues', 'although', 'hear', 'decided', 'headstock', 'knobs', 'reason', 'replace', 'computer', 'large', 'supply', 'trying', 'setting', 'output', 'open', 'sustain', 'nicely', 'under', 'itself', 'went', 'cut', 'gives', 'compared', 'expected', 'straps', 'beat', 'wouldn', 'rather', 'took', 'life', 'piece', 'input', 'uke', 'quick', 'strong', 'leather', 'help', 'ukulele', 'thin', 'rubber', 'headphones', 'next', 'higher', 'our', 'soft', 'tension', 'order', 'adjust', 'cheaper', 'smaller', 'settings', 'pay', 'screw', 'les', 'let', 'wasn', 'leave', 'store', 'lower', 'pickup', 'ok', 'half', 'bucks', 'install', 'fret', 'his', 'yes', 'batteries', 'true', 'inside', 'smooth', 'display', 'paul', 'flat', 'plugged', 'wall', 'channel', 'ago', 'construction', 'front', 'pack', 'wish', 'ball', 'classic', 'space', 'system', 'together', 'sometimes', 'thick', 'mount', 'xlr', 'takes', '30', 'martin', '7', 'usually', 'jazz', '40', 'star', 'making', 'favorite', 'working', 'position', 'action', 'regular', 'drop', 'interface', 'goes', 'pleased', 'hours', 'hole', 'often', 'included', 'along', 'locks', 'blues', 'spend', 'tool', 'ends', 'myself', 'gear', 'software', 'mxr', 'owned', '9', 'amount', 'believe', 'update', 'setup', 'designed', 'sounded', 'started', 'mini', 'fairly', 'feature', 'useful', 'wear', 'installed', 'controls', 'blue', 'adjustable', 'bridge', 'pro', 'arrived', 'cloth', 'gave', 'plenty', 'guess', 'start', 'gauge', 'experience', 'similar', 'speakers', 'extremely', 'joyo', 'cord', 'notes', 'move', 'capos', 'eq', 'mandolin', 'glad', '15', 'doing', 'care', 'matter', 'free', 'anyway', 'features', 'medium', 'digital', 'spot', 'cannot', 'foot', 'original', 'choice', 'couldn', 'stock', 'length', 'floor', 'performance', 'someone', 'gibson', 'equipment', 'vintage', 'steel', 'angle', 'received', 'means', 'basic', '50', 'fun', 'professional', 'spring', 'idea', 'larger', 'holes', 'name', 'version', 'unless', 'models', 'pop', 'mind', 'players', 'us', 'drum', 'difficult', 'material', 'voice', 'check', 'course', 'past', 'uses', 'holder', 'loop', 'nylon', 'helps', 'inch', 'slide', 'seen', 'says', 'wood', 'hands', 'drive', 'finger', 'musician', 'allows', 'save', 'filter', 'opinion', 'shipping', 'beginner', 'four', 'aren', 'left', 'pitch', 'son', 'due', 'pickups', 'available', 'finally', 'whole', 'recently', 'handle', 'heard', 'portable', 'wide', 'vocals', 'keyboard', 'during', 'local', 'ernie', 'surprised', 'epiphone', 'b', 'fantastic', 'pocket', 'shure', 'brands', 'touch', 'rest', 'straight', 'weeks', 'reading', 'five', 'certainly', 'budget', 'main', 'huge', 'stick', 'turned', 'running', 'changing', 'guy', 'supposed', 'fall', 'minutes', 'paid', 'headphone', 'red', 'non', 'handy', 'onto', 'carry', 'except', 'based', 'friend', 'fuzz', 'absolutely', '9v', 'normal', 'completely', 'noticed', 'clamp', 'warm', 'g', 'replacement', 'nut', 'stereo', 'gigs', 'impressed', 'holding', 'quiet', 'thanks', 'heavier', 'base', 'against', 'flexible', 'consider', 'package', 'picking', 'condenser', 'purpose', 'replaced', 'preamp', 'whatever', 'vox', 'mid', 'chords', 'disappointed', 'notice', 'remove', 'liked', 'padding', 'frets', 'lock', 'feedback', 'chorus', 'above', 'sets', 'stays', 'worry', 'violin', 'provide', 'yamaha', 'elixir', 'classical', 'loose', 'cover', 'coming', 'priced', 'parts', 'stable', 'putting', 'secure', 'songs', 'height', 'kit', 'banjo', 'properly', 'keeps', 'week', 'screen', 'various', 'boom', 'ear', 'dial', 'careful', 'seemed', 'mix', 'guitarist', 'allow', 'double', 'feet', 'adjustment', 'hit', 'sharp', 'affordable', 'bend', 'lighter', 'likely', 'tiny', 'broke', 'options', 'marshall', 'dont', 'considering', 'connect', 'sweet', 'complaints', 'natural', 'mean', 'soon', 'important', 'felt', 'versatile', 'yourself', 'tuned', 'added', 'bigger', 'thinking', 'sn', 'fretboard', 'track', 'hardware', 'lead', 'basically', 'twice', 'rack', 'chain', 'treble', 'state', 'everyone', 'complaint', 'cause', 'o', 'microphones', 'looked', 'variety', 'custom', 'function', 'center', 'ac', 'later', 'particular', 'pa', 'wire', 'locking', 'cases', 'ask', 'possible', 'amplifier', 'apart', 'types', 'wow', 'ibanez', 'analog', 'number', 'duty', 'compact', 'pedalboard', 'special', 'option', 'jam', 'arm', 'show', 'buzz', 'ears', 'whether', 'pressure', 'sized', 'wonderful', 'bar', 'including', 'round', 'support', 'wah', 'units', 'beautiful', 'keeping', 'return', 'led', 'monster', 'cleaner', 'unlike', 'attached', 'compressor', 'personal', 'pin', 'colors', 'company', 'results', 'strumming', 'desk', 'patch', 'damage', 'lots', 'otherwise', 'given', 'directly', 'none', 'house', 'lost', 'learning', 'near', 'mode', '25', 'user', '00', 'direct', 'levels', 'white', 'broken', 'pull', 'korg', 'older', 'reliable', 'plays', 'understand', '0', 'perhaps', 'totally', 'pre', 'addition', 'balanced', 'test', 'tremolo', 'forever', 'padded', 'become', 'durability', 'sensitive', 'stiff', 'nearly', 'upgrade', 'shoulder', 'within', 'sort', 'figured', 'coated', 'across', 'bypass', 'ease', 'saw', 'friends', 'online', 'bunch', 'hum', 'convenient', 'manual', 'today', 'vocal', 'od', 'instructions', 'inputs', 'stop', 'buttons', 'picked', 'midi', 'mostly', 'multi', 'combo', '90', 'lose', 'pair', 'surface', 'tape', 'foam', 'solution', 'lights', 'push', 'trouble', 'advertised', 'song', 'market', 'heads', 'tip', 'mike', 'winder', 'packaging', 'mentioned', 'shape', 'learn', 'annoying', 'pins', 'multiple', 'wound', 'fair', 'okay', 'noisy', 'vibration', 'dry', 'mids', 'attach', 'adjustments', 'connectors', 'fan', 'crunch', 'hiss', 'behind', 'spent', 'anywhere', 'sold', 'highs', 'enjoy', 'match', 'figure', 'polish', 'frequency', 'recordings', 'shows', 'dead', 'pros', 'jacks', 'ready', 'reviewers', 'thicker', 'sm', 'hope', 'pieces', 'powered', 'appears', 'youtube', 'taking', 'lp', 'kyser', 'personally', 'cords', 'tend', 'reasonable', 'plugs', 'plan', 'gold', 'pegs', 'driver', 'tubes', 'nickel', 'shop', 'tech', 'deep', 'immediately', 'noticeable', 'pure', 'actual', 'fully', 'minor', 'green', 'im', 'certain', 'drill', 'thickness', 'slight', 'pc', 'windows', 'connector', 'slip', 'c', 'costs', 'changes', 'metronome', 'tascam', 'muff', 'cutter', 'six', 'step', 'micro', 'lightweight', 'hot', 'seconds', 'satisfied', 'ability', 'electronics', 'rig', 'cleaning', 'hang', 'expecting', 'depending', 'tough', 'honestly', 'chance', 'month', 'brighter', 'bring', 'somewhat', 'storage', 'giving', 'future', 'monitors', 'cant', 'adds', 'separate', 'further', 'peg', 'suggest', 'intended', 'watt', 'thumb', 'world', 'em', 'alone', 'video', '11', 'travel', 'dollar', 'presets', 'moving', 'produce', 'dollars', 'require', 'compression', 'compare', 'held', 'loved', 'poor', 'purchasing', 'guys', 'response', 'connection', 'dynamic', 'tested', 'area', 'oh', 'bronze', 'constructed', 'unfortunately', 'chord', 'acoustics', 'gigging', 'remember', 'comparison', 'rich', 'press', 'hour', 'switching', 'edge', 'click', 'obviously', 'key', 'folks', 'relatively', 'machine', 'afford', 'dark', 'choose', 'musicians', 'attack', 'sitting', '80', '60', 'fix', 'outside', 'folds', 'imagine', 'placed', 'shock', 'tighten', 'trust', 'truly', 'saying', 'series', 'limited', 'proper', 'dirty', 'negative', 'plate', 'taylor', 'rating', 'man', 'intonation', 'hook', 'speed', 'channels', 'cabinet', 'middle', 'rhythm', 'provides', 'breaking', 'reasonably', 'piano', 'general', 'rate', 'seller', 'drivers', 'connected', 'x', 'baby', 'pad', 'protect', 'monitor', '99', 'serious', 'nicer', 'u', 'thank', 'shipped', 'materials', '57', 'hate', 'switches', 'exact', 'turning', 'dirt', 'release', 'described', 'faster', 'china', 'items', 'road', '8217', 'via', 'recorder', 'required', 'below', 'tank', 'adding', 'stomp', 'face', 'clarity', 'ds', 'sense', 'feeling', 'hanging', 'description', 'protection', 'copy', 'customer', 'ring', 'loaded', 'example', 'forward', 'picture', 'crisp', 'musical', 'singing', 'safe', 'currently', 'digitech', '58', 'keys', 'tele', 'inches', 'practicing', 'yeti', 'phantom', '13', 'echo', 'book', 'offers', 'harder', 'warranty', 'sent', 'gone', 'send', 'stratocaster', 'trick', 'person', 'looper', 'mention', 'changed', 'perform', 'she', 'mounting', 'additional', 'guitarists', 'tons', 'champ', 'ended', 'bargain', 'adjusted', 'forget', 'wise', 'knock', 'mustang', 'surprisingly', 'clips', 'sm58', 'hosa', 'louder', 'thinner', 'eventually', 'night', 'danelectro', 'drums', 'edit', 'missing', 'weird', 'mounted', 'barely', 'told', 'rugged', 'learned', 'please', 'necessary', 'max', 'tonal', 'average', 'modeling', 'cons', 'despite', 'american', 'typical', 'coating', 'grab', 'offer', 'her', 'wind', 'kinda', 'complain', 'mess', 'cleans', 'starting', 'ii', 'continue', 'kept', 'recorded', '200', 'balance', 'p', 'provided', 'velcro', 'deluxe', 'legs', 'closer', 'rod', 'solo', 'adapters', 'adjusting', 'replacing', 'iii', 'oil', 'internal', 'result', 'rough', 'manufacturer', 'previous', 'securely', 'squier', 'gotten', 'service', 'correct', 'school', 'clock', 'thus', 'traditional', 'distorted', 'crank', 'loves', 'research', 'zero', 'stretch', 'softer', 'chromatic', 'thats', 'background', 'constantly', 'worse', 'website', 'scratch', 'telecaster', 'entire', 'prices', '70', 'ground', 'produces', 'expectations', 'mainly', 'ts', 'installing', 'mixing', 'mellow', 'hercules', 'hanger', 'lifetime', 'ways', 'accuracy', 'drummer', 'boxes', 'electronic', 'dual', 'suppose', 'likes', 'external', 'listen', 'switched', 'literally', 'program', 'positive', 'fault', 'improvement', 'installation', 'hoping', 'returned', 'realize', 'turns', 'block', 'flimsy', 'sit', 'lack', 'seriously', 'taken', 'normally', 'initially', 'weak', 'stuck', 'improve', 'humidity', 'packs', 'wait', 'ns', 'concert', 'tracks', 'ten', 'mechanism', 'table', 'helpful', 'spare', 'latency', '24', 'subtle', 'sorry', 'desktop', 'crazy', 'card', 'clearly', 'unique', 'breaks', 'tunes', 'comment', 'coil', 'paper', 'agree', 'punch', 'master', 'sits', 'carrying', 'experiment', 'apply', 'tortex', 'nor', 'zoom', 'fx', 'samson', 'slinky', 'reviewer', 'concerned', 'upon', 'dropped', 'kids', 'preference', 'elixirs', 'snug', 'reach', 'styles', 'helped', 'outstanding', 'puts', 'points', 'chose', 'dull', 'aware', 'ahead', 'individual', 'meant', 'tap', 'tweaking', 'complete', 'sheet', 'laptop', 'word', 'known', 'call', 'major', 'beautifully', 'him', 'experienced', 'ipad', '16', 'electrics', 'stringed', 'improved', 'ideal', 'strip', 'water', 'phosphor', 'sell', 'failed', 'particularly', 'search', 'functions', 'pattern', 'spending', 'wider', 'terms', 'pads', 'admit', 'prevent', 'happier', 'condition', 'saddle', 'pickguard', 'boy', 'tools', 'devices', 'transparent', 'factory', 'abuse', 'correctly', 'falling', 'depth', 'horrible', 'class', 'church', 'schaller', 'wont', 'ocd', 'appreciate', 'luck', 'loss', 'page', 'alot', 'useless', 'beginners', 'solidly', 'surprise', 'harmonica', 'adequate', 'effective', 'bands', 'brainer', 'doubt', 'self', 'total', 'glue', 'process', 'opened', 'wireless', 'avoid', 'muddy', 'begin', 'tripod', 'terrible', 'awhile', 'strum', 'kick', 'modern', 'circuit', 'third', 'downside', 'beyond', 'flexibility', 'stated', 'specific', 'backup', 'requires', 'harp', 'bending', 'dozen', 'harmonics', 'plain', 'dr', 'mono', 'hurt', 'superior', 'phase', 'investment', 'removed', '150', 'snap', 'amazed', 'crap', 'answer', 'increase', 'include', 'leads', 'sing', 'popular', 'regret', 'f', 'silver', 'mxl', 'garage', 'solved', 'anchors', 'fixed', 'basses', 'components', 'hasn', 'places', 'effort', 'amazingly', 'shorter', 'mounts', 'octave', 'incredible', 'yellow', 'vibe', 'besides', 'wants', 'junk', 'happen', 'common', 'mistake', 'post', 'hooked', 'alternative', 'bottle', 'called', 'w', 'semi', 'leaves', 'active', 'roll', 'lasts', 'clone', 'lasting', 'playability', 'soprano', 'toy', 'moved', 'per', 'gauges', 'cab', 'strength', 'lasted', 'create', 'aluminum', 'sm7b', 'access', 'snarks', 'affect', 'midrange', 'mp3', 'extension', 'pass', 'tweak', 'discovered', 'aside', 'plugging', 'covered', 'current', 'includes', 'kinds', 'sides', 'mim', 'smell', 'wipe', 'preset', 'knew', 'performing', 'responsive', '75', 'stack', 'awkward', 'flawlessly', 'ordering', '2nd', 'purposes', 'shouldn', 'transport', 'tc', 'talking', 'upper', 'shell', 'compartment', 'hi', 'delivers', 'accessories', 'accessory', 'originally', 'bother', 'rarely', 'defective', 'focusrite', 'ovation', 'typically', 'bonus', 'colored', 'scale', 'realized', 'factor', 'operate', 'tall', 'gift', 'daughter', 'logo', 'cuts', 'gotta', 'threads', 'delivery', 'packaged', 'bars', 'primary', 'ukuleles', 'tweed', 'outputs', 'buck', 'pots', 'adaptor', 'tends', 'tubescreamer', 'distance', 'situation', 'ton', 'cranked', 'delays', 'bags', 'knows', 'situations', 'hassle', 'serves', 'contact', 'worried', 'delivered', 'functional', 'pops', 'eyes', 'jr', 'cm', 'nanoweb', 'n', 'lets', 'carbon', 'width', 'gls', 'air', 'advantage', 'wife', 'frequencies', 'generally', 'attractive', 'regardless', 'hangers', 'question', 'finished', 'precise', 'jim', 'radio', 'harsh', 'essentially', 'minimal', 'daisy', 'takamine', 'selling', 'smoother', 'fancy', 'eye', 'usual', 'manufacturers', 'tri', 'modes', 'searching', 'tu', 'taste', 'dc', 'form', 'slot', '18', 'ukelele', 'anymore', 'fat', 'slow', 'differences', 'stopped', 'fell', 'k', 'early', 'pockets', 'paying', 'speak', 'write', 'leaving', 'extended', 'throw', 'runs', 'obvious', 'slipping', 'sticks', 'stress', 'collection', 'clipped', 'garageband', 'mac', 'watts', 'usable', 'beginning', 'standing', 'concern', 'considered', 'seagull', 'arms', 'tinny', 'source', 'beats', 'boutique', 'sale', 'noises', 'usa', 'mediums', 'accurately', 'previously', 'rehearsal', 'pics', 'hearing', 'compressors', 'shaped', 'bang', 'dust', '300', 'practical', 'wires', 'volumes', 'bill', 'insert', 'gate', 'rat', 'christmas', 'incredibly', 'mouth', 'degree', 'download', 'stability', 'sizes', 'section', 'appear', '500', 'finding', 'pain', 'impressive', 'virtually', 'lacking', 'checking', 'frankly', 'di', 'screamer', 'closed', 'fail', 'bench', 'became', 'presence', 'twin', 'daily', 'wonder', 'becomes', 'attachment', '45', 'latest', 'comp', 'h2', 'shelf', 'yeah', 'users', 'primarily', 'comparing', 'port', 'rca', 'sony', 'lows', 'videos', 'testing', 'mute', 'carefully', 'attention', 'orange', 'shine', 'overdriven', 'hardly', 'chinese', 'chrome', 'companies', '21', 'significant', 'solos', 'strats', 'ive', 'sessions', 'rated', 'roland', 'mark', 'com', 'jf', 'tenor', 'waste', 'sm57', 'seat', 'snare', 'breeze', 'list', 'site', 'firmly', 'somewhere', 'portion', 'hundred', 'cutting', 'occasionally', 'footswitch', 'sensitivity', 'female', 'pod', 'suit', 'words', 'blown', 'honest', 'gripe', 'shot', 'suck', 'keyboards', 'hat', 'versions', 'humbuckers', 'damaged', 'bump', 'phaser', 'consistent', '1st', 'truss', 'layer', 'willing', 'artist', 'fingerboard', 'tips', 'connections', 'flex', 'saved', 'writing', 'combination', 'stores', '14', '65', 'finishes', 'tear', 'cap', 'at2020', 'elsewhere', 'allowing', 'interference', 'business', 'trs', 'impossible', 'fiddle', 'internet', 'mixed', 'lol', 'brought', 'patches', 'themselves', 'imo', 'pleasantly', 'suspect', 'housing', 'bulky', 'moment', 'period', 'environment', 'penny', 'dials', 'excited', 'fragile', 'thru', 'country', 'planning', 'steal', 'trigger', 'losing', 'connecting', 'performs', 'whatsoever', 'washer', 'subjective', 'information', 'vibrations', 'drywall', 'outlet', 'risk', 'outer', 'swivel', 'lines', 'prior', 'slick', 'preamps', 'happens', 'miss', 'configuration', 'bullet', 'pyle', 'possibly', 'dropping', 'superb', 'fingertips', 'reasons', 'specifically', 'capable', 'cheers', 'starts', 'select', 'daw', 'voodoo', 'boards', 'unplugged', 'necks', 'lately', 'mod', 'monkey', 'harps', 'tired', 'phone', 'dig', 'narrow', 'iv', 'listening', 'spider', 'ukes', 'strongly', 'audible', 'pluck', 'skeptical', 'ca', 'packed', 'curve', 'identical', 'fresh', 'reduce', 'rounded', 'title', 'attaches', 'load', 'notch', 'pedaltrain', 'vary', 'liking', 'records', 'final', 'present', 'diameter', 'squeeze', 'peavey', 'advice', 'newer', 'tag', 'laying', 'gadget', 'saves', 'darker', 'buzzing', 'car', 'leg', 'date', 'didnt', 'placement', 'earlier', 'static', 'hint', 'potential', 'character', 'interesting', 'volt', 'california', 'dj', 'iphone', 'direction', 'indeed', 'application', 'covers', 'heck', 'sd', 'mm', 'amplug', 'technica', 'male', 'convenience', 'monitoring', 'clipping', 'family', 'guard', 'systems', 'footprint', 'powerful', 'hey', 'recomend', 'everywhere', 'dynamics', 'appearance', 'shiny', 'wanting', 'edges', 'folding', 'imho', 'suggested', 'bolt', 'falls', 'charm', 'assemble', 'epi', 'gentle', 'dava', 'shopping', 'firm', '1000', 'gator', 'checked', 'uncomfortable', 'paint', 'rocks', 'whenever', 'difficulty', 'brother', 'seeing', 'equal', 'cat', 'register', 'socket', 'fortunately', 'brass', 'amplifiers', 'movement', 'performances', 'residue', 'reference', 'file', 'costing', 'greater', 'cheaply', 'messing', 'friendly', 'audacity', 'watch', 'ya', 'therefore', 'significantly', 'opening', 'winner', 'acceptable', 'minute', 'needing', 'powering', 'applications', 'session', 'happened', 'adhesive', 'frequently', 'profile', 'windscreen', 'comments', 'dean', 'rid', 'desired', 'adjusts', 'slippery', 'portability', 'bedroom', 'causing', 'venues', 'questions', 'regularly', 'lemon', 'impedance', 'entry', 'worn', 'purple', 'pictures', 'supplies', 'spots', 'puller', 'blow', 'apparently', 'needle', 'headroom', 'term', 'confidence', 'loops', 'technique', 'twist', 'protected', 'odd', 'decide', 'ups', 'hundreds', 'sonic', 'joint', 'sells', 'unwanted', 'texture', 'terrific', 'greatly', 'memory', 'tighter', 'springs', 'selection', 'sweat', 'ambient', 'noted', 'v', 'handles', 'pulled', 'biggest', 'grips', 'versatility', 'describe', 'fuse', 'thread', 'report', 'filters', 'force', 'weren', 'fold', 'pot', 'living', 'editing', 'stronger', 'sliding', 'heat', 'controller', 'cash', 'traveling', 'engaged', 'interfaces', 'late', 'y', 'levy', 'app', 'dream', 'saving', 'positions', 'efficient', 'dozens', 'grade', 'panel', 'specs', 'benefit', 'hollow', 'settled', 'treat', 'anytime', 'handling', 'brightness', 'depends', 'squire', 'neat', 'wearing', 'ran', '35', 'bank', 'ridiculous', 'recent', 'rotate', 'hitting', 'feed', 'highest', 'stud', 'deliver', 'eliminate', 'muted', 'es', 'guide', 'jj', 'error', 'familiar', 'underneath', 'mail', 'constant', 'lit', 'rings', 'protects', 'blend', 'playable', 'cleaned', 'brush', 'modulation', 'capabilities', 'initial', 'jamming', 'fuller', 'excess', 'art', 'maintenance', 'pinch', 'sticky', 'web', 'hesitate', 'slides', 'shockmount', 'project', 'addarios', 'voices', 'cubase', 'hopefully', 'among', '2012', 'owner', 'overly', 'operation', 'corners', 'amateur', 'dependable', 'strain', 'wax', 'wrap', 'tunings', 'pricey', 'preferred', '48', 'pink', 'asking', 'booster', 'photo', 'gooseneck', 'polarity', 'singer', 'washburn', 'reissue', 'corrosion', 'follow', 'pictured', 'brown', 'doesnt', 'showing', 'dunlops', 'experimenting', 'playback', 'nuts', 'files', 'bends', 'axe', 'gt', 'ultimate', 'importantly', 'decision', 'snake', 'lcd', 'offered', 'toggle', 'worries', 'microfiber', 'mesa', 'wrapped', 'rare', 'visual', 'view', 'kid', 'fill', 'darn', 'books', 'gonna', 'novice', 'critical', 'suede', 'ts9', 'returning', 'instantly', 'somehow', 'phones', 'loosen', 'ac30', 'vibrato', '62', 'warmer', 'passive', 'dreadnought', 'prone', 'hd', '235', 'effectively', 'combined', 'robust', 'tusq', 'act', 'wet', 'trip', 'regarding', 'ehx', 'corner', 'lowest', '5th', 'drops', 'belt', 'popping', 'fenders', 'r', 'reputation', 'suited', 'lighting', 'balls', 'hell', 'pulling', 'protective', 'clamps', 'whammy', 'tightening', '3rd', 'essential', 'respond', 'easiest', 'demos', 'differently', 'screwdriver', 'mogami', 'sg', 'jump', 'cheapest', 'bent', 'knowing', 'detail', 'screwed', 'authentic', 'overpriced', 'threaded', 'ultra', 'functionality', 'cares', 'occasional', 'vs', 'hybrid', 'supplied', 'bow', 'fulltone', 'longevity', 'electrical', 'basis', 'tin', 'meaning', 'claims', 'assume', 'slap', 'ultimately', 'dialed', 'aggressive', 'shines', 'rosewood', 'warning', 'comfort', 'eight', 'row', 'engineer', 'polished', 'drilling', 'permanently', 'bugera', 'receive', 'audience', '32', 'talk', 'mackie', 'stainless', 'ditto', 'cup', '2i2', 'strange', 'building', 'fraction', 'electro', 'zone', 'silk', 'camera', 'teach', 'delicate', 'piezo', 'opposed', 'category', 'directions', 'lightly', 'applicator', 'neither', 'exception', 'fitting', 'vendor', 'complained', 'waiting', 'distinct', 'dot', '2013', 'wrote', 'consistently', 'causes', 'par', 'default', 'sweep', 'eh', 'casual', 'wedgie', 'crappy', 'polishing', 'ableton', 'periods', 'british', 'location', 'cardboard', 'according', 'tricky', 'pleasant', 'favor', 'fretting', 'maintain', 'slinkys', 'necessarily', 'mixers', 'imac', 'silent', 'fab', 'grand', 'glass', 'prime', 'controlled', 'ghs', 'relative', 'group', 'sufficient', 'warmth', 'field', 'washers', 'removing', 'mikes', 'security', 'tightened', 'fly', 'proof', 'visible', 'ft', 'ampeg', 'decades', 'claim', 'respect', 'degrees', 'complaining', 'serve', 'applied', 'starter', 'stubby', 'scratches', 'exchange', 'limitations', 'outs', 'endless', 'packing', 'grail', 'radius', 'shielding', 'distortions', 'covering', 'attaching', 'hendrix', 'stringing', 'sucks', 'palm', 'definition', 'beta', 'lacks', 'karaoke', 'heavily', 'safety', 'smudges', 'slowly', 'nickels', 'nail', 'sp', 'smoothly', 'following', 'joe', 'satriani', 'sticking', 'hohner', 'forth', 'ship', 'students', 'overdrives', 'aspect', 'ebay', 'crybaby', 'hoped', 'strung', 'becoming', 'repair', 'genuine', 'expert', 'reaper', 'stiffness', 'flaws', 'settle', 'greatest', 'stiffer', 'fails', 'line6', 'written', 'hesitation', 'habit', 'spray', 'produced', 'everyday', 'achieve', 'backing', 'alesis', 'method', 'invest', 'tendency', 'meter', 'manner', 'knocked', 'chair', 'carpet', 'trem', 'refund', 'till', 'cardioid', 'placing', 'mass', 'accessible', 'door', 'sooner', 'concerns', 'posts', 'showed', 'hall', 'zipper', 'wave', 'thumbs', 'ie', 'unplug', 'bluesy', 'drawback', 'anybody', 'onstage', 'lovely', 'spares', 'j', 'tv', 'increased', 'lever', 'rub', 'mahogany', 'popped', '95', 'crunchy', 'thicknesses', 'surfaces', 'ships', 'admittedly', 'marks', 'moves', 'shown', 'applying', 'staying', 'practically', 'gilmour', 'minimum', 'speaking', 'bet', 'swear', 'de', 'apartment', 'amplify', 'impression', 'eb', 'drilled', 'tad', 'numerous', 'projects', 'snowball', 'automatically', 'lessons', 'snugly', 'roughly', 'production', 'friction', 'squeak', 'pronounced', 'tour', 'iron', 'clutch', 'regard', 'stored', '4th', 'cute', 'blast', 'concept', 'shubb', 'flip', 'bone', 'performed', 'flats', 'truth', 'repeats', 'matters', 'conclusion', 'kidding', 'angled', 'lift', 'rust', 'walk', 'soundhole', 'god', 'charge', 'complex', 'pleasing', '2010', 'cold', 'awful', 'shocked', '000', 'equivalent', 'windings', 'lengths', 'trade', 'terror', '5mm', 'sat800', 'amplified', 'soldering', 'holy', 'creating', 'studios', 'shame', 'nasty', 'cd', 'harmonix', 'eat', 'asked', 'metallic', 'slips', 'knowledge', 'tie', 'engineering', 'opportunity', 'boot', 'link', 'brings', 'fabric', 'skb', 'toward', 'breakup', 'sheraton', 'flawless', 'granted', 'count', 'lbs', 'pliers', 'purchases', 'arrive', 'exclusively', 'famous', 'shops', 'listed', 'mandolins', 'lean', 'recommendation', 'processor', 'glossy', 'tab', 'sadly', 'basement', 'holders', 'fiber', 'restring', '12ax7', 'accommodate', 'removes', 'filled', 'whereas', 'practices', 'con', 'un', 'unusable', 'capability', 'extend', 'bite', 'receiver', 'tightly', 'coding', 'generic', 'disappointing', 'modified', 'skin', 'substantial', 'component', 'useable', 'dd', 'areas', 'ipod', 'die', 'cymbal', 'tempo', 'comparable', 'needless', 'wounds', 'vertical', 'raise', 'bbe', 'clearer', 'torque', 'zt', 'varying', 'shift', 'interested', 'gently', 'raised', 'posted', 'skills', 'cry', 'universal', 'neighbors', 'sliders', 'ins', 'fear', 'latter', 'usage', 'account', 'instruction', 'yours', 'scratching', 'hammer', 'displays', 'jumbo', 'created', 'worst', '400', 'fork', 'wonderfully', 'facing', 'reduced', 'weighs', '10s', 'recorders', 'favorites', 'individually', 'entirely', 'humidifier', 'pushed', 'supports', 'core', 'enclosure', 'theory', 'anyways', 'hissing', 'engage', 'haha', 'caused', 'martins', 'combinations', 'separately', 'stretching', 'winding', 'canada', 'relief', 'grit', 'hadn', 'forgot', 'alternate', 'lip', 'maple', 'locally', 'whim', 'schubb', 'equally', 'container', 'coils', 'detect', 'sustainer', 'voltage', 'task', 'stops', 'keeper', 'taller', 'trees', 'young', 'david', 'share', 'exp', 'wondering', 'assembly', 'fans', 'manually', 'motion', 'ratings', 'reverse', 'headstocks', 'compensate', 'meet', 'kill', 'pages', 'explain', 'buffer', 'pearl', 'g7th', 'rogue', 'yesterday', 'scooped', 'breakage', 'bear', 'meets', 'gc', 'jacket', 'cheapo', 'damaging', 'xl', 'accidentally', 'comfortably', 'measure', 'researched', 'molded', 'hinges', 'slots', 'boogie', 'drawer', 'dedicated', 'draw', 'summary', 'pitchblack', 'alternatives', 'route', 'quit', 'matched', 'clamped', 'matching', 'towards', 'rear', 'scales', 'lesson', 'casing', 'spread', 'swing', 'unlikely', 'info', 'signature', 'sending', '2000', 'frustrating', 'lay', 'express', 'stretched', 'convinced', 'google', 'rosin', 'definately', 'textured', 'interest', 'folk', 'age', 'bumped', 'reproduction', 'selected', 'resistance', 'frills', 'noticeably', 'fishman', 'sponge', 'win', 'asio', 'elastic', 'justify', '12v', 'choices', 'story', 'garbage', 'rip', 'polyweb', 'venue', 'versus', 'jackson', 'powers', 'depend', 'blocks', 'manufactured', 'ad', 'deeper', '88', 'praise', 'hidden', 'details', 'plated', 'fingerprints', 'glued', 'resonant', 'suggestion', 'lid', 'cabinets', 'nobody', 'brick', 'proven', 'impact', 'label', 'began', 'jasmine', 'reliability', 'x2', 'advanced', 'bluegrass', 'providing', 'snapped', 'pushing', 'sturdier', 'steady', '64', 'teacher', 'disappointment', 'clicks', 'states', '60mm', 'polywebs', 'frame', 'podcast', 'recognized', 'forums', 'steps', 'crate', 'sealed', '808', 'blows', 'studs', 'increases', 'driving', 'hobby', 'opted', 'tremelo', 'beauty', 'akg', 'hair', 'poorly', 'promised', 'consideration', 'supple', 'reviewed', 'wiring', 'circuitry', 'hefty', 'exceed', 'complicated', 'apogee', 'intelli', 'cotton', 'upright', 'harmonicas', 'dramatic', 'flaw', 'rehearsals', '8211', 'spectrum', 'straplocks', 'flanger', 'vine', 'lint', 'glasses', 'quicker', 'warned', 'diaphragm', 'banjos', 'shielded', 'aux', 'fuss', 'twenty', 'straplock', 'muffled', 'cradle', 'boosted', 'fool', 'brilliant', 'funky', 'backpack', 'blame', 'capture', 'boosting', 'magic', 'bulk', 'excessive', 'baritone', 'db', 'competitors', 'singers', 'rocksmith', 'game', 'stayed', 'ps', 'tracking', 'auto', 'stool', 'sub', 'snowflake', '28', 'confusing', 'spin', 'winter', 'duh', 'audiophile', 'glove', 'stompbox', 'thermoplastic', 'expense', 'storing', 'mild', 'updated', 'bare', 'btw', 'rigid', 'stages', 'beware', 'partial', 'frequent', 'xd', '600', 'smart', 'conditions', 'instance', 'creative', 'matches', 'sticker', 'technology', 'isnt', 'premium', 'dreadnaught', 'fashion', 'catch', 'worthy', 'territory', 'reccomend', 'suits', 'died', 'confident', 'gravity', 'student', 'virtual', 'solder', 'saver', 'pounds', '9volt', 'spectraflex', 'tells', 'polishes', 'rests', 'luckily', 'ensure', 'joke', 'podcasting', 'sweaty', 'fiddling', 'articulate', 'news', 'variable', 'acts', 'connects', 'members', 'disconnect', 'scratchy', 'crystal', 'scoop', 'permanent', 'manufacture', 'intermediate', 'juice', 'strictly', 'restrung', 'vinyl', 'cents', 'isolation', 'sheets', 'peace', 'pouch', 'uca202', 'credit', 'quieter', 'clones', 'resulting', 'grime', 'equipped', 'fretted', 'lab', 'majority', 'challenge', 'train', 'clamping', 'rely', 'adult', 'recognize', 'lucky', 'assembled', 'nanowebs', 'secured', 'modification', 'afraid', 'acquired', 'blackface', 'develop', 'cloths', 'envelope', 'guild', 'reverbs', 'king', 'indicator', 'iiis', 'ratio', 'prepared', 'competition', 'sections', 'utilize', 'wired', 'damn', 'husband', 'straplok', 'morley', 'lined', 'cutters', 'possibility', '49', 'naturally', 'heft', 'transmitter', 'inclined', 'condensers', '0mm', 'silly', 'remain', 'resonance', 'walls', 'uni', '2014', 'outdoor', 'ranges', 'hype', 'grill', 'enable', 'bx5a', 'folded', 'prs', 'boosts', 'programs', 'customers', 'toss', 'screens', 'rule', 'realistic', 'fbv', 'nope', 'shoe', 'swap', 'unscrew', 'hotter', 'registers', 'sanding', 'format', 'correction', 'club', 'interfere', 'child', 'locked', '6th', 'summer', 'craftsmanship', 'technical', 'everybody', 'effortless', 'focus', 'frontman', 'carried', 'cube', 'updating', 'junior', 'hola', 'cedar', 'wears', 'looping', 'ample', 'measured', 'overtones', 'net', 'producing', 'whose', 'uncoated', 'threading', 'casio', 'party', 'celluloid', 'spectacular', 'joy', 'ez', 'alright', 'maker', 'responds', 'instant', 'mods', 'reality', 'polytune', 'backrest', 'managed', 'expression', 'handed', 'shoot', 'wav', 'shirt', 'havent', 'nails', 'ultex', 'processing', 'resonator', 'considerably', 'evans', 'underside', 'served', 'possibilities', 'stepping', 'twang', 'cymbals', 'seemingly', 'leaning', 'mobile', 'demo', 'standards', 'ing', 'throwing', 'involved', 'messed', 'environments', 'ride', 'converter', 'sleeve', 'exceptional', 'offering', 'sources', 'existing', 'retaining', 'nady', 'funny', 'contacted', 'upgrading', 'sample', 'begins', 'hide', 'ties', 'event', 'coded', 'precisely', 'farther', 'pleasure', 'simplicity', 'stompboxes', 'spruce', 'hump', 'marring', 'l', 'trim', 'shapes', '335', 'dive', 'thrown', 'newbie', 'cans', 'replacements', 'dim', 'decay', 'unbelievable', 'quietly', 'quarter', '012', 'guessing', 'harm', 'nature', 'tipping', 'downloaded', 'candy', 'hooks', 'maintaining', 'touching', 'guarantee', 'fingering', 'picky', 'jimi', 'maximum', 'absolute', 'xenyx', 'modify', 'reviewing', 'upside', 'pound', 'van', 'death', 'snaps', '1x12', 'oils', 'flashing', 'industry', 'receiving', '4x12', 'compatible', 'synth', 'encourage', '2x12', 'anyhow', 'dealer', 'strobe', 'wart', 'somebody', 'marked', 'intuitive', 'listened', 'comfy', 'unbeatable', 'print', 'softly', '250', 'pignose', 'thoroughly', 'commented', 'simpler', 'bumps', 'lee', 'national', 'letter', 'radiused', 'transfer', 'fooled', 'pricing', 'meteor', 'joints', 'cs', 'sorts', 'unbalanced', 'hence', 'array', 'curved', 'duo', 'mechanical', 'tom', 'stripped', 'pun', 'worthless', 'bundle', 'limits', 'colorful', 'stationary', 'guitarlele', 'isolated', 'wash', 'withstand', 'decade', 'annoyance', 'lastly', 'cuz', 'sign', 'watching', 'solve', 'pw', 'fake', 'tops', 'alvarez', 'alive', 'floating', 'stolen', 'toys', 'tempted', 'shimmer', 'closely', 'bodied', 'album', 'tabs', 'mate', 'matte', 'simultaneously', 'definite', 'protecting', 'sideways', 'fingerstyle', 'disagree', '03', 'fourth', 'jet', 'zippers', 'trash', 'sales', 'beast', 'aquila', 'crackles', 'minimize', 'cent', 'tilt', 'busy', 'breaker', 'judge', 'hub', 'dvd', 'compressed', 'evenly', 'bout', 'negatives', 'floyd', 'children', 'emergency', 'keeley', 'modded', 'linux', 'ms', 'measuring', 'ordinary', 'lush', 'remo', 'sat', 'factors', 'lying', 'telling', 'closest', 'flatwound', 'locations', 'cushioning', 'weekend', 'arsenal', 'activated', 'sucked', '12th', 'engineered', 'similarly', 'readout', 'conjunction', 'names', 'originals', 'celestion', 'tweeter', 'beefy', 'throughout', 'sennheiser', 'sites', 'schallers', 'cards', 'path', 'rooms', 'fallen', 'characteristic', 'professionally', 'unobtrusive', 'digging', 'appropriate', 'convert', 'gripping', 'presented', 'eliminates', 'economical', 'setups', 'configurations', 'lo', 'hinge', 'nose', 'weighted', 'artists', 'address', 'ringing', 'compromise', 'upgraded', 'bullets', 'seven', 'replicate', 'tastes', 'buddy', 'luthier', 'patience', 'ish', 'lug', '2011', 'metallica', 'kills', 'rolling', 'harmonic', 'office', 'precision', 'forum', 'remains', 'h1', 'layers', 'extreme', 'owning', 'woods', 'triple', 'genius', 'hesitant', 'stitching', 'da', 'wanna', 'massive', 'fizzy', 'duncan', 'james', 'slim', '02', 'shred', 'saddles', 'univibe', 'hp', 'reduces', 'rattle', 'sided', 'sterile', 'workmanship', 'knife', 'letters', 'techniques', 'pressed', 'bassman', 'pm0', 'apparent', 'genres', 'patterns', 'vice', 'leds', 'cracked', 'town', 'dent', '80s', 'bx5', 'defined', 'study', 'minus', '120', 'reduction', 'dyna', 'ebony', 'groove', 'performer', 'moderate', 'data', 'splitter', 'punchy', 'ting', 'human', 'hobbyist', 'manhasset', 'curious', 'headset', 'ypg', '535', 'gel', 'freaking', 'customize', 'assuming', 'vocalist', 'image', 'cobalt', 'drag', 'h', 'saturation', 'wraps', 'wee', 'disturbing', 'floppy', 'accustomed', 'sustained', 'standpoint', 'richer', 'touches', 'sandpaper', 'faded', 'wattage', 'fade', 'fullness', 'capacity', 'bells', 'assortment', 'disappoint', 'thrilled', 'printed', 'discover', 'square', 'dimarzio', 'oem', 'finishing', 'abalone', 'torn', 'wore', 'artificial', 'co', 'coloration', 'inconvenient', 'lite', 'nano', 'confused', 'flush', 'schecter', 'guage', 'retune', 'zip', 'scratched', 'idiot', 'rolls', 'crooked', 'wheel', 'signals', 'workable', 'inner', 'import', 'puppy', 'activate', 'outdoors', 'smells', 'met', 'hardshell', 'archtop', 'plush', 'dumb', 'invisible', '802', 'manufacturing', 'interior', 'touring', 'manage', 'flash', 'regrets', '27', 'onboard', 'seiko', 'cordoba', 'cabs', 'boat', 'faulty', 'gap', 'cross', 'wiping', 'dialing', '010', 'closing', 'subject', 'disc', 'compliments', 'overkill', 'bold', 'thrash', 'weekly', 'enhance', 'asio4all', 'aaa', 'ill', 'exist', 'ideas', 'spaces', 'binding', 'transporting', 'fidelity', 'firmware', 'occasion', 'insane', 'bringing', 'calls', 'documentation', 'brackets', 'teeth', 'squeezing', 'improves', 'worrying', 'ensures', 'winders', 'grain', 'killer', 'snob', 'ceiling', 'lunchbox', 'hardwood', 'argue', 'rc', 'characteristics', 'indicate', 'u2', 'tied', 'wasted', 'intensity', '17', 'hated', '46', 'tho', 'stone', 'bassy', 'defects', 'impress', 'angles', 'mere', 'optional', 'shut', 'c1', 'safely', 'letting', 'xm8500', '1980', 'cats', 'inlay', 'requiring', 'capsule', 'qc', 'encountered', 'soul', 'h4n', 'independent', 'pauls', 'unnecessary', 'dimensions', 'sling', 'threw', 'surprising', 'repeat', 'logic', 'cfh', 'pic', '19', 'akai', 'exceeded', 'la', 'presents', 'delrin', 'peddle', 'fabulous', 'finds', 'ts808', 'hung', 'towel', 'organic', 'riffs', 'intend', '1mm', 'cracks', 'spec', 'se', 'plucking', 'signs', 'fingerpicks', '9s', 'buyer', 'deals', 'retail', 'station', 'suitable', 'drives', 'classes', 'thousand', 'oily', 'positioned', 'rag', 'elements', 'addendum', 'headband', 'peterson', 'unplugging', 'stupid', 'dampit', 'hangs', 'opposite', 'variations', 'identify', 'endpin', 'chances', 'pairs', 'sand', 'copper', 'fretboards', 'appeared', 'latches', 'liquid', 'intellitouch', 'tubing', 's6', 'plexi', 'sad', 'lace', 'proximity', 'searched', 'dog', '18v', 'beach', 'twisted', '59', 'arrangement', 'cherub', 'public', 'm1', 'neotech', 'raw', 'xls', 'dad', 'happening', 'shortly', 'selector', 'bones', 'cream', 'loudly', 'enjoyed', 'desire', 'punk', 'saturated', 'organized', 'inserted', 'fond', 'babies', 'violins', 'bases', 'websites', '58a', 'associated', 'eliminated', '800', 'multitude', 'timing', 'suffer', 'ac15', 'enter', 'plating', 'dries', 'mins', 'applies', 'florida', 'dislike', 'butt', 'whistles', '38', 'buzzy', 'lives', 'drawbacks', 'frustration', 'gb', 'muting', 'slipped', 'enjoying', 'ej16', 'bell', 'lighted', 'rush', 'abused', 'fuzzy', 'gem', 'supporting', 'suggestions', 'opinions', 'clumsy', 'crud', 'apprehensive', 'coffee', '440', 'licks', 'functioning', 'precious', 'longest', 'film', 'buds', 'menu', 'germany', 'consistency', 'german', 'eats', 'z', 'borrowed', '29', 'usability', 'ranging', 'tricks', 'dang', 'code', 'presonus', 'partially', 'affects', 'quest', 'tapping', 'console', 'lap', 'soap', 'repeatedly', 'percussion', 'continues', 'rockabilly', 'recieved', 'buckles', 'delight', 'tail', 'criticism', 'trial', 'volts', 'beatles', 'prompt', 'experiences', 'inadvertently', 'estate', 'expectation', 'toe', 'requirements', 'extras', 'calibration', 'readable', 'taught', 'costly', 'skinny', 'loving', 'clearance', 'pipe', 'rocking', 'tossed', '23', 'cleanly', 'pressing', 'jobs', 'telecasters', 'caught', 'winds', 'machines', 'leans', 'directional', 'separated', 'sum', 'adjuster', 'tremendously', '2x', 'city', 'goose', 'tweaks', 'sake', 'swells', '01', 'lettering', 'grippy', 'mando', 'missed', 'amounts', 'regards', 'serviceable', 'nifty', 'sight', 'stepped', 'treated', 'contrast', 'breath', 'sufficiently', 'cumbersome', 'fire', 'notably', 'loads', 'debate', 'counter', 'crackling', 'pointed', '302usb', '212', 'chosen', 'john', 'gorgeous', 'allowed', 'q', 'shredding', 'samples', 'closet', 'training', 'booklet', 'improving', 'distracting', 'decisions', 'immediate', 'physical', 'developed', 'conditioner', 'ons', 'spaced', 'sparkle', 'shield', 'moreover', 'chunky', 'generate', 'deserves', 'mat', 'satisfaction', 'lugging', 'seasoned', 'bb', 'convincing', '700', 'optimized', 'crash', 'chart', 'appreciated', 'anchor', 'computers', 'lazy', 'dec', 'smallest', 'thirty', 'arrival', 'funk', 'fingerboards', 'valuable', 'inserting', 'aa', 'at108', 'amplification', 'technically', 'kits', 'isolate', 'exceptionally', 'merely', 'overhead', 'niche', 'kicks', 'fence', 'orchestra', 'pizza', 'resistant', 'acoustical', 'rubbery', 'xp', 'reamer', 'worthwhile', 'coiled', 'reminiscent', 'grooves', 'shallow', 'manuals', 'honey', 'broadcast', 'rode', 'zippered', 'dano', 'welded', 'perfection', 'blackheart', 'ice', 'sellers', 'lil', 'prevents', 'tray', 'sensor', 'vista', 'secret', 'terribly', 'starcaster', 'inherent', 'vic', '8216', 'cakewalk', 'le', 'firth', 'guts', 'exterior', 'indicators', 'looser', '39', 'wrench', 'unexpected', 'soldered', 'ripped', 'equalizer', 'excuse', 'burn', 'rose', 'pig', 'lame', 'industrial', 'sparkly', 'morning', 'moderately', 'rhythms', 'located', 'bolts', 'vocalists', 'experiencing', 'understanding', 'supposedly', 'bits', 'bob', 'everytime', 'gifts', '1970', 'beater', 'ur', 'scent', 'verb', 'readily', 'dab', 'outlets', 'fatter', 'cracking', 'flight', 'airline', 's1', 'limit', 'deciding', 'empty', 'seal', 'happily', 'retailers', 'prints', 'modeler', 'ep', 'finer', 'smile', 'reset', 'ugly', 'target', 'upset', 'cheesy', 'finicky', 'rd', '351', 'accomplished', 'intermittent', 'adequately', 'xt', 'thousands', 'owns', 'mi', 'watched', 'pilot', 'stamped', 'hz', 'grace', 'million', 'wasnt', 'dunno', 'inline', 'lining', 'host', 'skype', 'overs', 'flying', 'comparisons', 'assorted', 'unlock', 'latch', 'coin', 'hurry', 'colour', 'recall', 'guaranteed', 'wicker', 'weather', 'mint', 'realtime', 'survive', 'gray', 'drumset', 'sick', 'sometime', 'accept', 'shifter', 'splits', 'affected', 'hex', 'keyser', 'twangy', 'ceramic', 'afterwards', 'crack', 'safer', 'shaping', 'neatly', 'narrower', 'numbers', 'plywood', 'remained', 'retains', 'tests', 'mad', 'calling', 'surprises', 'extraneous', 'uku', 'emulate', 'hardwire', 'followed', 'passed', 'sore', 'callouses', 'largely', 'detract', 'complement', 'respectively', 'wimpy', 'unlimited', 'rubbing', 'attest', 'gigged', 'onespot', 'promise', 'inferior', 'split', 'trace', 'duet', 'counts', 'goodness', 'commonly', 'burst', 'unpleasant', 'voila', 'tries', 'rotating', 'science', 'accoustic', 'caps', 'lubricant', 'fuel', 'elixer', '013', 'gritty', 'exceeds', 'suddenly', 'weights', 'mexican', 'random', 'operating', 'm5', 'nick', '09', 'soloing', 'experimentation', 'caveat', 'twelve', 'alas', 'strike', 'sacrifice', 'finest', 'grey', 'nine', 'electrified', 'english', 'imagined', 'reported', 'sleek', 'requirement', 'father', 'chime', 'dulcimer', 'skip', 'shoulders', 'removal', 'engaging', 'park', 'paired', 'talked', 'modest', 'tester', 'odor', 'river', 'considerable', 'aspects', '360', 'aim', 'satisfying', 'misleading', 'street', 'sturdily', 'irig', 'screaming', 'shack', 'tax', 'introduced', 'slider', 'forced', 'aged', 'treatment', 'nowhere', '42', 'unused', 'modtone', 'silky', 'contain', 'retro', 'approximately', 'drawing', 'processors', 'g7', 'related', 'cushion', 'seymour', 'weigh', 'mixes', 'detailed', 'creamy', 'harmony', 'fifty', 'transformer', 'proud', '85', 'slapback', '350', 'gretsch', 'eddie', 'halen', 'basics', 'ain', 'distort', 'diy', 'cleaners', 'released', '5x', 'faith', 'snapping', 'remind', 'pony', 'boxy', 'claimed', 'wasting', 'heights', 'ply', 'glance', 'promptly', 'advise', 'riff', 'creates', 'fight', 'emulation', 'cast', 'novelty', 'v5', 'heart', 'locate', 'confirm', 'graph', 'momentary', 'displayed', 'countless', 'sharper', 'timely', 'spinning', 'tote', 'knee', 'nuff', 'coast', 'wherever', 'cart', 'labs', 'removable', 'apple', 'positioning', '22', 'yoke', 'backwards', 'seated', 'trusted', 'problematic', 'sc', 'phono', 'distorts', 'fish', 'waited', 'qualities', 'versa', 'oskar', 'climate', 'drastically', 'driven', 'ass', 'wins', 'rusty', 'flange', 'humble', 'grovers', 'remarkable', 'fitted', 'collect', 'id', 'projection', 'skill', 'crackle', 'humbucker', 'stratocasters', 'nickle', 'yup', 'mahalo', 'susceptible', 'ohms', 'attenuation', 'delayed', 'nearby', 'el', 'screwing', 'spoken', 'enhances', 'poly', 'laid', 'sp01', 'boys', 'uploaded', 'weld', 'visibility', 'cranking', 'wallet', 'grown', 'rv600', 'activation', 'reminds', 'nonsense', 'ev', 'pays', 'birthday', 'oddly', 'dip', 'wonders', 'solutions', 'guitarr', 'oacute', 'neumann', 'additionally', 'friday', 'hits', 'phillips', 'exp16', 'laugh', 'compliment', 'crowd', 'opens', 'scared', 'tilting', 'confusion', 'swell', 'sonar', 'dps', 'combos', 'downsides', 'operates', 'uca', 'ezdrummer', 'uca222', 'spyder', 'accident', 'collapses', 'thoughts', 'integrated', 'purely', 'utilized', 'stem', 'mechanic', 'alter', 'dented', 'beefier', 'selecting', 'prettier', 'mutes', 'drummers', 'yea', 'ancient', 'gears', 'staple', 'glassy', 'intro', 'describing', 'explained', 'mentioning', 'stain', 'flute', 'wipes', 'deteriorate', 'quantity', 'focused', 'unfinished', 'jamman', 'nyxl', 'stings', 'traveled', 'stroke', 'doctor', 'hummingbird', 'successfully', 'cups', 'avid', 'miracles', 'steve', 'verge', 'rave', 'backside', 'def', 'solely', 'tandem', 'sustaining', 'axes', 'teles', 'ambiance', '300nx', 'compatibility', 'eric', 'george', 'sun', 'tree', 'passages', 'rules', 'med', 'invention', 'truck', 'snobs', 'ol', 'turbo', 'gains', 'mediocre', 'ratchet', 'neutrik', 'sexy', 'sanded', 'polyphonic', 'automatic', 'altogether', 'expand', 'choosing', 'painted', 'clayton', 'boring', 'rapidly', 'switchcraft', 'copies', 'enjoyable', 'podcasts', 'remote', 'rates', 'movements', 'uneven', 'pivot', 'linked', 'articulation', 'triangle', 'freak', 'conventional', 'daylight', 'beloved', 'alike', 'determine', 'powder', 'bracket', 'detected', 'guides', 'eminence', 'modeled', 'knockoff', 'drying', 'resist', 'attempts', 'voicing', 'loyal', 'grabbed', 'lived', 'gorilla', 'resale', 'blind', 'mother', 'clubs', 'sees', 'settling', 'sensing', 'undo', 'randomly', 'trumpet', 'observations', 'neutral', 'diamond', 'rods', 'dp', 'reliefs', 'widest', 'oomph', 'ouch', 'skid', 'obtain', 'bed', 'fl', 'advised', 'tr', 'community', 'discontinued', 'owners', 'pole', 'messy', 'jams', 'drink', 'fellow', 'november', 'december', 'butter', 'oversized', 'justice', 'makers', 'heel', 'indication', 'resolved', 'broad', 'deaf', 'widely', 'chore', 'returns', 'tapered', 'payed', 'mixcraft', 'heartbeat', 'dealing', 'bassist', 'periodically', 'prolonged', 'investing', 'email', 'incorrect', 'yo', 'cutaway', 'rolled', 'pump', 'era', 'ballads', 'contained', 'fifth', 'jewel', 'downward', 'bodies', 'om', 'relationship', 'lively', 'fray', 'tedious', 'seams', 'compares', 'fc4', 'influence', 'golden', 'modelers', 'collapsible', 'furniture', 'vibes', 'explanatory', 'survived', 'tweaked', 'daughters', 'manageable', 'heaven', 'determined', 'satisfy', 'nitrocellulose', 'lacquer', 'sweeps', 'th', 'yer', 'bucket', 'wouldnt', 'bigsby', 'p90', 'energy', 'license', 'enlarge', 'wild', 'parallel', 'omni', 'backed', 'wooden', 'army', 'invested', 'specially', 'structure', 'warehouse', 'ny', 'nonetheless', 'stealth', 'severely', 'hooray', 'savings', 'sloppy', 'functionally', 'shade', 'sparkling', 'jcm', 'esp', 'bothered', 'partner', 'blew', 'carries', 'to800', 'cake', 'fussy', 'attempt', 'success', 'registered', 'private', 'geared', 'dance', 'inserts', 'pen', 'strips', 'isolators', 'vibrate', 'badly', 'behringers', 'stacks', '76', 'clicking', 'former', 'incorrectly', 'limborg', 'untreated', 'chips', 'pivots', 'proved', 'greasy', 'moon', 'challenging', 'mighty', 'seeking', 'axl', 'ticket', 'fyi', 'updates', 'legit', 'magnetic', '1960', 'decibels', 'pickholder', 'preferences', 'chunk', 'tangled', 'zinc', 'senses', 'prove', 'knocking', 'prop', 'reaching', 'approach', 'intention', 'miracle', 'mellower', 'fatso', 'passable', 'sleeves', 'canvas', 'exposed', 'conductor', 'vibrant', 'unhappy', 'kicked', 'crush', 'standalone', 'compartments', 'entertainment', 'honeytone', 'labeled', 'converters', 'nights', 'dies', 'impressions', 'failure', 'valve', '54', 'transmission', 'os', 'slid', 'filing', 'richness', 'shrink', 'berhinger', 'humidifiers', 'transition', 'overnight', 'hyper', 'manipulate', 'replaces', 'humid', 'prolong', 'bleed', 'indicated', 'suction', 'mojomojo', 'vst', 'stylish', 'tablet', 'screamers', 'pinky', 'adapt', 'uh', 'reducing', 'talent', 'circuits', 'suffice', 'fog', 'smoke', 'beer', 'disk', 'backlit', 'reflection', '07', 'pointy', 'values', 'downloading', 'proco', 'lend', 'restringing', 'gloss', 'lowering', 'lanikai', 'proprietary', 'graphics', 'resolution', 'gospel', 'worship', 'impulse', 'micing', 'applause', 'theres', 'satin', 'chromes', 'lexicon', 'variation', 'becuase', 'peak', 'index', '5005', 'biyang', 'turntable', 'spit', 'compensation', 'beating', 'lightning', 'dime', 'sprayed', 'doubts', 'refuse', 'secondary', 'exp16s', 'mk', 'warped', '5w', '70s', 'shortest', 'mood', 'thankfully', 'gogo', 'tunner', 'carpal', 'painful', 'role', 'objects', 'brief', 'designs', 'leash', 'internally', 'increasing', 'pan', 'younger', 'sm7', 'sm5', 'badass', 'shrill', 'dare', 'unity', 'stellar', '322', 'independently', 'shaft', 'riot', '3d', 'cough', 'firebox', 'verbzilla', 'juh', 'humidipaks', 'prized', 'hd500', 'customized', 'organize', 'banks', 'handful', 'scarlett', 'nevertheless', 'visit', 'graphtech', 'switchable', 'pg', 'laguna', 'apps', '450', 'pi', 'alt', 'grunge', 'oriented', 'stocking', 'camping', 'cigar', 'ruining', 'waxing', 'bs', 'inevitably', 'suckers', 'jumping', 'warts', 'suffered', 'fastened', 'washing', 'airplane', 'tame', 'window', 'dangling', 'trips', 'bundled', '60s', 'wha', 'distilled', 'dried', 'ziplock', 'absorb', '81', 'buffered', 'dirtboxes', 'magical', 'measures', 'plates', 'compressing', 'soak', 'slightest', 'masking', 'discernible', 'dissapointed', 'clapton', 'smith', 'delighted', 'viewing', 'programming', '52', 'nyc', 'muffs', 'generations', 'carpeted', 'tubular', 'owe', '55', 'corrode', 'spaghetti', 'remaining', 'depot', 'maintained', 'beside', 'm50', 'april', 'continually', 'gimmick', 'august', 'hartke', 'pounded', 'stairs', 'cared', 'closes', 'specifications', 'canadian', 'committed', 'posture', 'clunky', 'contrary', 'fatigue', 'ergonomic', 'jumped', 'preserve', 'scroll', 'evaluate', 'ss', 'earned', 'nos', 'surely', 'chemical', 'colours', 'hardest', 'hurting', 'http', 'www', 'ref', 'conclude', 'calibrate', 'workstation', 'kernel', 'sophisticated', 'enabled', 'rain', 'consumers', 'fingerpicking', 'disappear', 'ought', 'repaired', 'birds', 'sends', 'sansamp', 'hats', 'companion', 'beef', '10w', 'huh', 'suspected', '15w', 'lifeless', 'tonality', 'hissy', 'compete', 'fullbore', 'dramatically', 'ourselves', 'toast', 'illuminated', 'sixties', 'oxidation', 'strummer', 'unscrewing', 'thorough', 'reached', 'retainer', 'hurts', 'effortlessly', 'pushes', 'judging', 'retailer', 'weber', 'nervous', 'headline', 'shopped', 'mates', 'transform', 'harmonies', 'retain', 'deck', 'rechargeable', 'slit', 'figuring', 'fi', 'cr', 'differ', 'transparency', 'struggled', 'growing', 'cramped', 'encore', 'wedding', 'brittle', 'ios', 'contains', 'lyrics', 'encounter', 'occur', 'gs', 'compliant', 'dragging', 'noisey', 'intonated', 'bat', 'continuous', 'kool', 'shove', 'flatwounds', 'fretless', 'filed', 'pliable', 'hopes', 'trademark', 'ambience', 'lies', 'briefly', 'requested', 'hunt', 'platform', 'modding', 'upgrades', 'laser', 'excellently', 'shake', 'cone', 'decently', 'backups', 'jig', 'idk', 'fairness', 'traded', 'freely', 'helping', 'indestructible', 'rusted', 'topped', 'ymmv', 'descriptions', 'ruin', 'sixth', 'headed', 'insulation', 'surf', 'score', 'bored', 'sorta', 'aka', 'accompanying', 'davas', 'spreads', 'degradation', 'bomb', 'experimented', 'buzzes', 'edited', 'circumstances', 'peavy', 'pg58', 'maxon', 'couch', 'mileage', 'godsend', 'fifteen', 'whisper', 'positively', 'earn', 'christian', 'dealt', 'ac15c1', 'marshalls', '180', 'dimly', 'brassy', 'muss', 'turtle', 'teaching', 'flavor', 'phrase', 'unusual', 'miking', 'defect', 'xotic', 'east', 'behaves', 'rehearse', 'concerts', 'godin', 'topple', 'instructional', 'unable', 'react', 'strikes', 'bose', 'estimate', 'ray', 'zing', 'sings', '160', 'ridiculously', 'forty', '230', 'shorts', 'hip', 'distribution', 'distances', 'worlds', 'buff', 'princeton', 'alignment', 'unsure', 'lt', '009', 'parties', 'cabling', 'stance', 'captured', 'amplugs', 'pristine', 'extends', 'accomodate', 'trusting', 'slack', 'blurb', 'differing', 'interviews', 'striking', '125', 'crowded', 'slapping', 'shifting', 'changer', 'reply', 'professionals', 'gross', 'haul', 'quantities', 'stash', 'slippage', 'satisfactory', 'quirks', 'restore', 'offs', 'mechanics', 'strapped', 'someday', 'jensen', 'drunk', 'exps', 'killing', 'squeaking', 'unstable', 'rattled', 'feelings', 'layered', 'coolest', 'ports', 'cooler', 'corrected', 'ohm', 'growl', 'warmed', 'abusing', 'pulls', 'planned', 'intonate', 'toneprint', 'defiantly', 'chicken', 'plectrum', 'chimey', 'soundboard', 'admirably', 'caution', 'invaluable', 'youre', 'pricy', 'lie', 'lightest', 'goofy', 'generous', 'valued', 'v1', 'reed', 'aroland', 'indicates', 'marketing', 'adjustability', 'magnet', 'cajun', 'anon', 'genre', 'cherry', 'discount', 'leader', 'hears', 'shorting', 'scrapes', 'clue', 'mkii', 'stumbled', 'vt', 'v22', 'pile', 'collecting', 'mojo', 'capacitance', 'policy', 'travelling', 'heil', 'soooo', 'shades', 'vacuum', 'perception', '220', 'explore', 'tripping', 'bounce', 'protector', 'tripods', 'north', 'recommending', 'tippy', 'bulkier', '8221', 'unfortunate', 'displaying', 'struck', 'processed', 'sting', '1202', 'orientation', 'loses', 'remembered', 'bulbs', 'presentation', 'dogs', 'lubricating', 'demand', 'goosenecks', 'nicest', 'vt999', 'hassles', 'cos', 'vol', 'disconnected', 'isolating', 'rotates', 'tremendous', 'brain', 'mm4', 'ph', 'ma', 'accordingly', 'wrestling', 'explanation', 'installs', 'nitro', 'forewarned', 'unscrewed', 'indoors', 'editor', '4033', 'ignore', 'blanket', 'pt', 'camp', 'fills', 'earnie', 'drip', 'floors', 'cradles', 'swings', 'makala', 'competitor', 'fixing', 'spins', 'dealers', 'affecting', 'rounder', 'ratios', 'swiss', 'oops', 'dense', 'notable', 'albeit', 'noticable', 'opt', 'brilliance', 'named', 'ads', 'resting', 'me70', 'assumed', 'examine', 'earth', 'foremost', 'charts', 'classroom', 'fighting', 'competing', 'miniature', 'repeated', 'stoked', 'span', 'moisture', 'wiped', 'failures', 'guitalele', 'facts', 'epoxy', 'andy', 'scream', 'ping', '50s', 'fortune', 'teen', 'logical', 'timbre', 'rubberized', 'elliptical', 'trails', 'gizmo', '100l', '1202fx', 'lesser', '63', 'jimmy', 'cell', 'acoustically', 'leading', '44', 'firewire', 'pcs', 'muscle', 'cello', 'forks', 'physically', 'epiphones', 'milk', 'clever', 'couldnt', 'grasp', 'chameleon', '500ma', 'coats', 'sweetwater', 'pine', 'dependent', 'march', 'grind', 'affinity', 'slotted', 'trusty', 'discern', 'mechanisms', 'notebook', 'el84', 'palomino', 'win7', 'appeal', 'fibers', 'dslr', 'rfi', 'cs400', 'dc9', 'content', 'clockwise', 'alongside', 'michael', 'm68', 'pointing', 'rockin', 'bummer', '7000', 'motu', 'ensemble', 'bronco', 'vast', 'delivering', 'crammed', 'extremes', 'rex', 'sans', 'shotgun', 'wary', 'wishing', '88mm', 'ragged', 'kindle', 'api', '1w', 'florescent', 'lists', 'tea', 'backward', 'simulates', 'fed', 'gripes', 'aesthetics', 'appealing', 'soften', 'lowered', 'compensated', 'food', 'pres', 'dimension', 'toolbox', 'anti', 'aqua', 'imagination', 'oddball', 'triangular', 'reads', 'barring', 'spanish', 'campfire', 'delightful', 'comparative', 'sibilance', 'specifics', 'confidently', 'element', 'history', 'listing', 'uncle', 'recessed', 'hopeful', 'phospher', 'alloy', 'wiggle', 'believer', 'disappears', 'racks', 'collected', 'luggage', 'valid', 'sandwich', 'lengthy', 'casters', 'arrives', 'newly', 'sampler', 'slower', 'filler', 'exl', 'absorbing', 'pleather', 'cheep', 'law', 'plunge', 'buffed', '320', 'blueridge', 'bd', 'employ', 'witch', '25r', 'whats', 'garcia', 'unbelievably', 'ragin', 'floored', 'shockingly', 'softness', 'clutter', 'receptacles', 'gadgets', 'shelves', 'coiling', 'ath', 'reproducing', 'stamp', 'dusty', 'dorky', 'follows', 'invented', 'yep', 'kicking', 'enhanced', 'aquilas', '36', 'dabble', 'throne', 'align', 'inconvenience', 'amateurs', 'touched', 'advertising', 'mags', 'sampling', 'reputable', 'shaky', 'tolex', 'airport', 'unclip', 'horribly', 'trebles', 'utf8', 'plugin', 'splitting', 'prefers', 'detuning', 'mud', 'doa', 'propicks', 'images', 'brutal', 'wayyy', 'irish', 'bouzouki', 'pencil', 'questionable', '1968', 'arch', 'asks', 'tm300', 'preview', 'rotation', 'offset', 'lag', 'gibraltar', 'chasing', 'module', '40w', 'kustom', 'captures', 'victim', 'upfront', 'frustrated', 'nasal', 'reinforced', 'inexperienced', 'sharpness', 'flatness', 'behaving', 'duracell', 'loopers', 'sizing', 'crafted', 'emphasize', 'straploks', 'exl110', '175', 'telescoping', 'exotic', 'nuance', 'waist', 'concentrate', 'torture', 'chest', 'electrostatic', 'fixes', 'successful', 'woofer', 'pointless', 'hm', 'transmit', '300ma', 'sizzle', 'collector', 'hardcore', 'faithful', 'cloned', 'valvetronix', 'overload', 'binder', 'rim', '900', 'quibble', 'bird', 'replaceable', 'blowing', 'yay', 'legacy', 'attempted', 'labella', 'magically', 'arranged', 'clasp', 'inspect', 'relying', 'smooths', 'unsatisfied', 'hitch', 'overtone', '90s', 'stink', 'blindfolded', 'performers', 'artifacts', 'suprised', 'awsome', 'chording', 'confess', 'redundant', 'zager', '47', 'iconic', '20s', 'potentiometers', 'aesthetically', 'modulations', 'collapsing', 'tying', '4x', 'reservation', 'shimmering', 'cycle', '110', 'whilst', 'overcome', 'thedunlop', '2mm', 'nylons', 'retuned', 'obligatory', 'surrounds', 'sunburst', 'unfair', 'execution', 'favorably', 'implies', 'unpacked', 'heavies', 'amber', 'rides', 'config', 'introduce', 'blah', 'benefits', 'fooling', 'arent', '1700ma', 'streaks', 'hollowbody', 'spacing', 'interestingly', 'mountain', 'connectivity', 'military', 'formula', 'marvelous', 'outboard', 'bay', 'internals', '10x', 'premature', 'sr', 'england', 'concerning', 'reaction', 'electret', 'unexpectedly', 'diagrams', 'aftermarket', 'buckle', 'jason', 'subsequently', 'separation', 'agile', 'bound', 'sdhc', 'impractical', 'zooms', 'pcm', 'distributes', 'chug', 'bracing', 'snag', 'irrelevant', 'mt', 'underlying', 'git', 'coat', 'sustains', 'rob', 'us600', 'opting', 'incidentally', '299', 'piggy', 'thinks', 'log', 'pros1', 'chamber', 'wholeheartedly', 'passing', 'starters', 'noiseless', '535q', 'meeting', 'temporary', 'routing', 'generously', 'dairy', 'diagonal', 'substantially', 'rounds', 'conversation', 'workbench', 'wannabe', 'swollen', 'researching', 'executed', 'yanked', 'sleeping', 'blasting', 'limitless', 'wtf', 'fizz', 'verdict', 'vertically', 'enought', '41', 'bi', 'loading', 'horizontally', 'stray', 'unreliable', 'j74', 'cassette', 'jackets', 'fluke', 'crossing', '73', 'kysers', 'movies', 'vision', 'swivels', 'chassis', 'strummed', 'buggy', 'sculpt', 'sim', 'demands', 'backs', 'ladies', 'reports', 'rumble', 'leslie', 'shorted', 'sunlight', 'fraying', 'nod', 'cardiod', 'detects', 'mullard', 'subtracting', 'bin', 'tubescreamers', '1990', 'characterize', 'cosmetic', 'neoprene', 'excellence', 'fist', 'organ', 'tailored', 'mexico', 'concrete', 'measurement', 'lamp', 'jazzy', '50mm', '72', 'tuck', 'cheese', 'rockband', 'patient', 'hiccups', 'cling', 'reluctant', 'flashy', 'shining', 'lpd8', 'jumps', 'plosives', 'mc401', 'recommends', 'optical', 'notches', 'configured', '43', 'parameters', 'trunk', 'conveniently', 'posters', 'uniform', 'machined', 'generation', 'tm', 'simulated', 'unboxed', 'motif', 'marketplace', 'answers', 'unfold', 'bumping', 'reliably', 'twisting', 'contacts', 'fostex', 'sink', 'surround', 'ballpark', 'trebly', 'hellraiser', 'nob', 'extending', 'tangle', 'canare', 'poles', 'cutouts', 'banged', 'profit', 'relation', 'giant', 'whatnot', 'increasingly', 'comparatively', 'doubles', 'remedied', 'tier', 'philips', 'asap', 'consequently', 'travels', 'reader', 'reposition', 'flubby', 'spoiled', 'stocks', 'ages', 'lousy', 'printer', 'johnny', 'mesh', 'alto', 'capacitors', 'dings', 'wannabes', 'woody', 'arrange', 'controllers', 'rendered', 'burned', 'swears', 'voiceover', 'reattach', 'completed', 'statement', 'herco', 'emphasized', 'consumer', 'aimed', 'backplate', 'loosened', 'duct', 'bothering', 'ct', 'breedlove', 'chemicals', 'ce', 'supersonic', 'backlight', '2032', 'rougher', 'utility', 'niece', 'raising', 'anticipated', 'afternoon', 'rename', 'transducer', 'ch', 'simplest', 'drain', 'sheetrock', 'downloadable', 'stopper', 'gas', 'reproduce', 'modules', 'firstly', 'earthwood', 'folder', 'transportation', 'rehearsing', 'snips', 'preventing', 'forgiving', 'appropriately', 'indispensable', 'tuesday', 'stitched', 'implemented', 'drastic', 'smash', 'slinkies', 'buddies', 'enthusiast', 'temperature', 'shy', 'schedule', 'promises', 'pluses', 'kitchen', 'potentially', 'scrolling', 'jazzmaster', 'stunning', 'gerlitz', 'gladly', 'mia', 'synthetic', 'bumper', 'mar', 'photos', 'unseen', 'taper', 'viewed', 'sync', 'flashback', 'instructor', 'abcd', 'overdub', 'combine', 'unnatural', 'corroding', 'enhancement', 'profits', '130', 'relevant', 'leverage', 'conversion', 'crackly', 'recognizes', 'ex', 'mentions', 'groups', 'usps', 'picker', 'honky', 'surrounded', 'bubble', 'coloring', 'broadcasting', 'fading', 'booming', 'austin', 'nobs', '73mm', 'hello', 'laminate', '750', 'wahs', 'intervals', 'flutter', 'welcome', 'programmable', 'sheer', 'modifications', '8in', '5s', 'boston', 'ax', 'realistically', 'ac4', 'miles', 'walking', 'lube', 'chip', 'biggie', 'pdf', 'developing', 'adario', 'dirtbox', 'attempting', 'rickenbacker', 'clams', 'rv', 'handsome', 'grease', 'laminated', 'carvin', 'homemade', 'roller', 'edition', 'loudness', 'bumpers', 'monday', 'bulb', 'tepper', 'securing', 'overdubbing', 'urge', 'daunting', 'humidified', 'yield', 'ding', 'agent', 'subtract', 'gigbag', 'intriguing', 'graphic', 'chains', 'accomplish', 'speech', 'reinforcement', 'hde', 'syndrome', 'crew', 'asian', 'hyped', 'purist', 'accidently', 'wondered', 'reducer', 'substitute', 'thickest', 'viola', 'beams', 'wished', 'himself', '25ft', 'charging', 'noting', 'flow', 'dampen', 'shore', 'simulate', 'draws', 'edgy', 'bough', 'nt', 'indoor', 'm50s', 'jury', 'labor', 'gunk', 'guessed', 'enormous', 'shined', 'bendable', 'nicks', 'gibsons', 'destroy', 'toms', 'presumably', 'noon', 'parlor', 'v67g', 'instances', 'quickest', 'amped', 'expansion', 'choise', 'flatten', 'rocker', 'headpiece', 'realizing', 'rockers', 'goal', 'progression', 'superglue', 'branded', 'elegant', 'inspired', 'mr', 'toontrack', 'windscreens', 'receivers', 'chained', 'ruined', 'purists', 'burning', 'vastly', 'realtek', 'earphones', 'dsp', 'global', 'attachments', 'overwhelming', 'homework', 'claytons', 'rec', 'av', 'improvements', 'haller', 'captain', 'circus', '78', 'arguably', 'false', 'dice', 'jacked', 'careless', 'itunes', 'dislikes', 'granddaughter', 'menus', 'brightest', 'insurance', 'accomplishes', 'flatter', 'nyxls', 'overseas', 'ah', 'steer', 'criteria', 'creation', 'steinberg', 'extendo', 'buyers', 'sucker', '010s', 'engages', 'footrest', '38mm', 'stagg', 'ltd', 'stretches', 'booth', '600l', 'cancer', 'barber', 'suhr', 'music123', 'odds', 'september', 'velcros', 'ness', 'alder', 'finder', 'lookin', 'krk', 'notched', '2gb', 'humidify', 'wedges', 'responded', 'effectiveness', 'ta50r', 'roo', 'cyber', 'razor', 'notoriously', 'hd500x', 'tweakable', 'topic', '48v', 'pitched', 'nov', 'allen', 'straightforward', 'loudspeaker', 'petty', 'daisychain', 'dave', 'sabbath', 'classics', 'emphasis', 'silicon', 'stark', 'girlfriend', 'fastest', 'sewn', 'beveled', 'garish', 'pickgaurd', 'cameras', '15th', 'duets', 'wit', 'battle', 'confined', 'broader', 'severe', 'demonstrate', 'understood', 'dist', 'blends', 'belong', 'blk', 'carnuba', 'assure', 'braced', 'tow', 'priceless', '212r', 'secondly', 'cancels', 'cramp', 'coupled', 'daddario', 'ej', 'amperage', 'quiets', 'st', 'pants', 'parked', 'deserve', 'sockets', 'identifying', 'emg', 'arguing', 'vai', 'cooking', 'mildly', 'discussed', 'extensive', 'drawn', 'textures', 'anolog', 'embarrassed', 'condensor', 'milled', 'unmatched', 'ounce', 'sweeping', 'behave', 'at4033', 'extensively', '69', 'mom', '10ft', 'privia', 'rivals', 'yrs', 'wrist', 'undoubtedly', 'roaring', 'stomped', 'layout', 'talks', 'movie', 'diverse', 'japanese', 'lest', 'md', 'santana', 'smashing', 'greatful', 'rhoads', 'ozzy', 'roof', 'succeed', 'moen', 'fm', 'america', 'western', 'smoothness', 'turner', 'tempting', 'powerfull', 'solidbody', 'gimmicky', 'baggy', 'mouse', 'suffering', 'varies', 'rage', 'obnoxious', 'advertise', 'referring', 'tolerances', 'hookups', 'cons1', 'pause', 'sock', 'microphonic', 'dismiss', 'ergonomically', 'butterfly', 'guardian', 'reminder', 'leathers', 'teens', 'equalization', 'swirl', 'gnx4', 'soloist', 'f335', 'thes', 'baggs', 'para', 'tascams', 'war', 'elaborate', 'goo', 'packet', 'strangely', 'sandy', 'pickers', 'sovtek', 'flavors', 'gretch', 'producto', 'unwieldy', 'communication', 'plant', 'drove', 'tama', 'ignored', 'expanded', 'infinitely', 'slave', 'bind', 'sacrificing', 'asin', 'disengage', 'measurements', 'cordless', 'fortunate', 'examples', 'trashy', 'grate', 'grow', 'suggests', 'counterweight', 'tex', 'mex', 'bias', 'musiciansfriend', 'fairy', 'roomy', 'vibro', '1200', 'coupon', 'classicals', 'judgment', 'insure', 'symmetric', 'rad', 'floats', 'shelling', 'conceived', 'foresight', 'stripe', 'understandable', 'corrugated', 'toughness', 'wheels', 'fuses', 'roundback', 'seperate', 'pounding', 'hoo', '025', 'ugh', 'grounding', 'conspicuous', 'dress', 'qualify', 'transmitting', 'spo', 'washburns', 'workout', 'undone', 'itch', 'panels', 'johnson', 'forefinger', 'remotely', 'circles', 'legendary', 'medal', 'expands', 'pricier', 'dd3', 'fatten', '2007', 'helicon', 'tread', 'crunchbox', 'dod', 'proves', 'collapse', 'vulnerable', '990', '1k', 'existent', 'detectable', 'trivial', 'grant', 'triggers', 'ht', 'teachers', 'melodies', 'transforms', 'proceeded', 'shifted', 'contribute', 'antique', 'fresher', 'circular', 'daddarios', 'thomastiks', 'warn', 'abrasive', 'absorbs', 'veteran', 'offshore', 'gfs', 'exaggerated', 'ingenious', 'extensions', 'knowledgeable', 'rotated', 'explaining', 'beginer', 'cushioned', 'pinstripe', 'thursday', 'separating', 'leaned', 'ocean', 'chromacast', 'doubled', 'thicken', 'scuff', 'feeds', 'afterward', '33', 'hammering', 'established', 'bearings', 'shaller', 'forces', 'educational', 'technician', 'killed', 'modifying', 'sunday', 'postage', 'ti', 'chaining', '053', 'muddied', 'sps', 'sacrifices', 'markley', 'culprit', 'cs3', 'configure', 'ordinarily', 'optimum', 'discussion', 'numbered', 'shipment', 'vendors', 'bridges', 'lowers', 'retuning', 'progress', 'dude', 'candle', 'organization', 'compensates', 'york', 'coaster', 'cork', 'boutiques', 'men', 'hums', 'soundman', 'startup', 'foresee', 'unlucky', 'screeching', 'nowadays', 'faint', 'july', 'newest', 'differnt', 'coax', 'sturdiness', 'sturdiest', 'activates', 'rewired', 'disadvantage', 'faders', 'protools', 'aria', 'arrow', 'respects', 'context', 'conductors', 'stressing', 'contemporary', 'utilizing', 'mushy', 'dimed', 'advertized', 'estimated', 'utmost', 'varieties', 'flammable', 'whichever', 'ashamed', 'squeal', 'responsible', 'sudden', 'wandering', 'classy', 'qid', 'keywords', 'scary', 'disliked', 'guesswork', 'professor', 'camper', 'vise', 'begun', 'stripping', 'sons', 'cad', 'fired', 'carodid', '10db', 'obtained', 'diagram', 'objectively', 'flattering', 'intrigued', 'bizarre', 'stacking', 'taped', 'describes', 'um', 'sgs', 'behalf', 'negatively', 'minuscule', 'remover', 'whining', '1800', 'competitive', 'weapon', 'alnico', '1s', 'luna', 'map', 'trained', 'petal', 'adore', 'snappy', 'mega', 'miked', 'android', 'repairs', 'dreaded', 'g30', 'router', 'resonating', 'trippy', 'carved', 'prongs', 'struggle', 'baggage', 'horror', 'smashed', 'kala', 'webcam', 'leaks', 'leak', 'gcb', 'humming', 'limiter', 'dimples', 'ruler', 'frees', 'begining', 'forcing', 'qualified', '042', 'scissors', 'ole', 'pickle', 'shredders', 'threshold', 'woman', 'sky', 'definetly', 'eyed', 'girl', 'macdonald', 'dents', 'member', 'association', 'jangly', 'restocking', 'routed', 'fades', 'crashing', 'ion', 'skimp', 'unattached', 'aggressively', 'solver', 'refers', 'flexsteels', 'prog', '105', 'pups', 'rigs', 'milliseconds', 'belongs', 'adopted', 'converting', 'tapes', 'generates', 'musican', 'stoner', 'ned', 'bonded', 'request', 'obscure', 'discarded', 'contraption', 's35', 'traditionally', 'mile', 'pets', 'cluttering', 'amplifies', 'cleanest', 'crossed', 'envelopes', 'prematurely', 'referred', 'cured', 'aligned', 'excelsior', 'bypassed', 'discreet', 'buzzed', 'rattles', 'joking', 'bugs', 'revise', 'ballsy', 'ts9dx', 'intact', 'injection', 'unravel', 'annoyed', 'corporate', 'd40', 'occurs', 'apt', 'avoided', 'weaker', 'deville', 'esque', 'rendering', 'screams', 'misplace', 'nephews', 'forking', 'muffle', 'personalize', 'alice', 'ed', 'trading', 'define', 'sledge', 'macbook', 'enjoys', 'sleep', 'tortoise', 'damages', 'enables', 'recomended', 'parametric', 'wylde', 'indent', 'abundance', 'evo', 'filtering', 'endorsement', 'enlarged', 'alphabet', 'permits', 'offensive', 'status', 'prob', 'wobbly', 'bottoms', 'gimmicks', 'difficulties', 'loosely', 'trower', 'bender', 'fingernails', 'grandson', 'partly', 'clarification', 'excels', 'protrude', 'correspond', 'msa7040tb', 'vouch', 'brite', 'acid', 'meters', 'braided', 'clippers', 'turser', 'economy', 'oct', 'dept', 'transferred', 'sn1', 'mistaken', 'affordability', 'crashes', 'intel', 'neater', 'electricity', 'mated', 'aid', 'swiveling', 'network', 'disclaimer', 'bug', 'overboard', 'designing', '149', 'interferes', 'onthe', 'fame', 'imitation', 'prominent', 'armature', 'bothers', 'events', 'competes', 'innovation', 'rectangular', 'fasten', 'fundamental', 'mobility', 'realization', 'mastered', 'swapped', 'ay', 'concede', 'gates', 'disaster', 'weakness', 'strengths', 'gs100', 'rf', 'halfway', 'accepts', 'dots', 'overpower', 'hints', 'hooking', 'altering', 'swapping', 'mexi', 'psu', 'accidents', 'judgement', 'nightmare', 'essence', 'ultracoustic', 'shocking', 'electronically', 'sports', 'cds', 'managing', 'compromised', 'depressing', 'rusting', 'probally', '1970s', 'rips', 'z108', 'fanatic', 'receives', 'capturing', 'whom', '30hz', 'mymxl', 'guidance', 'downright', 'nuances', 'stubborn', 'reccomended', 'distribute', 'variables', 'mice', 'shutoff', 'translates', '2db', '1db', 'silence', 'disturb', 'concur', 'inability', 'usefulness', '710', 'skilled', '1973', 'prefered', 'glide', 'lamps', 'specialized', 'pissed', 'suppressor', 'v2', 'mailing', 'disconnecting', 'xlrs', 'aura', 'ms50g', 'wampler', 'leery', 'grew', 'osx', 'manji', 'comb', 'amping', 'unfamiliar', 'compress', 'tremolos', 'footswitches', 'clicky', 'mf', 'europe', 'tearing', 'redesign', 'lifespan', 'mooer', 'melt', 'insist', 'indicating', 'tabletop', 'echos', '9dx', 'television', '2020', 'transistor', 'faux', 'eliminating', 'ka', 'clueless', 'reveal', 'tutorials', 'breathing', 'reproduces', 'inaccurate', 'involves', 'eating', 'audition', 'occured', 'behold', 'fantastically', 'widths', 'inspiring', 'translated', 'altered', 'backlash', 'worm', 'inbetween', 'cores', 'tailpiece', 'duds', 'drumming', 'buttery', 'universe', 'shower', 'trashed', 'chalk', 'casino', 'handled', 'sweeter', 'dolphin', 'mineral', 'exciting', 'forgotten', 'readjust', 'serving', 'cushions', '14mm', 'designers', 'lectures', 'fumbling', 'barrel', '420', 'humm', 'floorboard', 'mailed', 'bore', 'warmoth', 'bushings', 'sx', 'theses', 'insanely', 'adhere', 'deformed', 'tasks', 'flawed', 'sigh', 'recommendations', 'fs5', 'behavior', 'shuts', 'retainers', 'sequences', 'transducers', 'budge', 'lifelong', 'transfers', 'literal', 'salesman', 'sprays', 'ios7', 'multitrack', 'contents', 'dud', 'respectable', 'accommodates', 'uninstalled', 'revised', 'reinstall', 'percentage', 'psa', 'stinks', 'alcohol', 'discovery', 'flatpicking', 'reveals', 'ufo', 'spacey', 'arise', '3x', 'interact', 'duller', 'loar', 'dg', 'undue', 'airy', 'rejects', 'enclosed', 'region', 'horrid', 'slop', 'stations', 'reception', 'variance', 'ratcheting', 'thumbpicks', 'snagged', 'destroyed', 'whistle', 'placebo', 'recognizing', 'passage', 'stood', 'decoration', 'edging', 'contest', 'merit', 'likey', 'enthusiasm', 'hotel', 'presently', '46mm', 'indiana', 'ghost', '22nd', 'customization', 'keyhole', 'disconcerting', 'smoking', 'roadie', 'gym', 'enhancing', 'dish', 'qualityi', 'stickers', '11s', 'wake', 'reactive', 'reds', 'shall', 'inexcusable', 'explored', 'rp', 'l6', 'uncluttered', 'remarkably', 'hood', 'addicted', 'hoarder', 'foolish', 'diferent', 'eq700', 'selections', 'boo', 'arched', 'thingy', 'pickin', 'bassists', 'unforgiving', 'oval', 'spikes', 'subsequent', 'mans', 'myon', 'compromises', 'audiophiles', 'avoiding', 'cartridge', 'sparingly', 'fearful', 'prepare', 'pvc', 'dampening', 'uber', 'meow', 'failing', 'at2035', 'creativity', 'parents', 'clearing', 'illuminates', 'gaming', 'balancing', 'exquisite', 'creep', 'tiring', 'ignorant', 'bowl', 'corona', 'healthy', 'distinctive', 'brighten', 'shared', 'abusive', 'health', 'rise', 'polar', 'du', '3mm', 'unusually', 'rubbed', 'choir', 'tryed', 'attitude', '3ft', 'roundwound', 'muffling', 'errors', 'eligible', 'pulse', 'lenght', 'herc', 'bye', 'recreates', 'resolve', 'theirs', '245', 'speaks', '12vac', 'ninety', 'mosfet', 'vt30', 'flattened', 'tomorrow', 'arthritis', 'pono', 'whiff', 'singles', 'tonally', 'bummed', 'amplitube', 'solving', 'vague', '2008', 'charged', 'brothers', 'circumference', 'shortcomings', 'featured', 'deployment', 'fatal', 'tug', 'tunners', 'destroying', 'squeaky', 'sax', 'evh', 'brightly', 'imitations', 'octaver', 'jp', 'damp', 'schub', 'poke', 'brilliantly', 'musically', 'imperative', 'inflated', 'fasteners', 'baseball', 'bike', 'lu', 'workhorse', 'thingie', 'puppies', 'abs', 'pickguards', 'rows', 'unshielded', 'emailed', 'genz', 'benz', 'jbl', 'surpassed', 'fg700s', 'intros', 'pedalboards', 'polypropylene', 'ha', 'scientific', 'library', 'elementary', 'depress', 'horizontal', 'intent', 'quack', 'dying', 'inspires', 'intrusive', 'limitation', 'distributor', 'pit', 'visually', 'crust', 'rigors', 'largest', 'ruby', 'thumbscrew', 'wobble', 'clipper', 'responsiveness', '280', 'qk10b', 'jameson', 'davison', 'recordist', '1966', 'mystery', 'curl', 'footer', 'assumptions', 'loosing', 'optimal', 'slicker', 'octaves', 'jangle', 'predecessors', 're27n', 'pr', 'minimizes', 'boomy', 'engineers', 'girls', 'terminal', 'taping', 'unwind', 'debating', 'sprung', 'gut', 'malfunction', 'fusion', 'theatre', 'lz', 'tears', 'cleanish', 'confirmed', 'clang', 'tougher', 'delflex', '140', 'womp', 'rectifier', 'bills', 'baggie', '8th', 'asymmetrical', 'bricks', 'headsets', 'proficient', 'nuclear', 'amz', 'ruggedly', 'gradually', 'kudos', 'silvertone', 'tan', 'plectrums', 'necessity', 'bearing', 'electrician', 'jewelry', 'blackstar', 'earbuds', 'ultralite', 'filling', 'responses', 'dac', 'er', 'metronomes', 'cts', 'stomping', 'occasions', 'shirts', 'teenage', 'roundwounds', 'grungy', 'adarrio', 'fluids', 'considerations', 'scored', 'barrier', 'verify', 'readjusted', 'lute', 'athm50s', 'segments', 'detach', 'sonically', 'warranted', 'oiled', 'digitized', 'assured', '3s', 'mis', 'yokes', 'pace', 'french', 'attracted', 'youth', 'marketed', 'creator', 'salt', 'negligible', '366', 'elicense', 'googling', 'warnings', 'mmgxl', 'disabled', '26', 'g2', '16th', 'puss', '240', 'sam', 'chibson', 'rested', 'restored', 'representation', 'br', 'smartphone', 'klutz', 'squeaks', 'pb', 'releases', 'chops', 'phenomenal', '04', 'submit', 'screencasts', 'mas', 'traveler', 'lucille', 'xcg4', 'bursts', 'disappeared', 'japan', 'exists', 'daddy', 'paperwork', 'occupy', 'readings', 'mistakes', 'habits', 'welds', 'abroad', 'discolor', 'middy', 'contemplated', 'midway', 'mariachi', 'ernies', 'roar', 'surrounding', 'zipped', 'flimsiness', 'pet', '20w', 'harness', 'infinite', 'rebuild', 'mg102c', 'dexterity', 'jargon', 'aids', 'friggin', '5000', 'rocket', 'affixed', 'seating', 'honing', 'arises', 'lugs', 'kinks', 'lengthen', '202', 'alpha', 'loyalty', 'tome', 'sustainability', 'programmed', 'inspection', 'audiotechnica', 'varied', 'oktava', 'linear', 'fbm', 'soulful', 'fluid', 'elixers', 'fretwork', 'exl111', 'brookmays', 'message', 'eyelets', 'eminor', 'lanakai', 'dowel', 'lifted', 'snuggly', 'ripoff', 'glow', 'usd', 'connoisseur', 'ace', 'leveling', 'appearances', 'wuhan', 'bookcase', 'gripper', 'occurred', 'crown', 'realm', 'monitored', 'bevel', 'bendy', 'sponges', 'zoid', 'dmcp', 'gages', 'songwriter', 'ucg102', 'ebow', 'receipt', 'ufo202', 'oasis', 'announced', 'assignable', 'hinder', 'minimalistic', 'sanyo', 'perc', 'barley', 'upload', 'accompaniment', 'backgrounds', 'plantronics', 'panasonic', 'clown', 'gigantor', 'attacks', 'disadvantages', 'itching', 'tak', 'rotomatics', 'breakdown', 'celtic', 'alleviate', 'cousin', 'complications', 'superiority', 'nostalgia', 'kurt', 'cobain', 'overlooked', 'neglected', 'miserable', 'positives', 'brit', 'breakers', 'sooooo', 'possession', 'wal', 'mart', 'stressed', 'flaky', 'softener', 'litte', 'obsolete', 'specials', 'sauce', 'matic', 'turnaround', 'casually', 'usefull', 'rails', 'lax', 'flopping', 'tonelab', 'ergonomics', 'msp4150', 'oversold', 'moot', 'feautures', 'recharged', 'resealable', 'recharge', 'stacked', 'customizing', 'nominal', 'raging', 'painters', 'distorting', 'mg', 'dd7', 'catalog', 'peeling', 'cae', 'aesthetic', 'blink', 'pratice', 'flexable', 'deserved', 'mxl770', 'gurus', 'infomercial', 'unplayable', 'aswell', 'adaptable', 'gtr210', 'px', 'locating', 'bm', 'continued', 'bristol', 'rank', 'flexes', 'rethink', 'plane', 'entitled', 'transformers', '100w', 'halfstack', 'taiwan', 'rat2', 'carlos', 'dinosaur', 'randy', 'jones', 'mo', 'posting', 'vht', 'pdmic58', 'fastening', 'polys', 'chanced', 'relegated', 'pinched', 'apartments', 'timeless', 'bundles', 'furry', 'whoever', 'akin', 'meaty', 'punched', 'literature', 'stumming', 'hawaiian', 'heed', 'recipe', 'streaking', 'cellulose', 'teardrop', 'jammed', 'blinds', 'yout', 'disappearing', 'keyboardists', 'ess', 'artcore', 'entries', '199', 'conditioning', 'preamplifier', 'larry', 'doug', 'plastics', 'distinctly', '135', 'fur', 'fewer', 'boils', 'planets', 'mold', 'trap', 'reorder', 'untill', 'elses', 'oxidized', 'lr', 'buster', 'gp', 'buffalo', 'glob', 'wobbling', 'airplanes', 'dadgad', 'jackd', '96khz', 'xruns', 'jack_iodelay', 'ram', 'rakarrack', '414ce', 'advantages', 'deaden', 'calidad', 'ideally', 'suite', 'slanted', 'gt2', 'plethora', 'cam', 'linkage', 'cobra', 'jagmaster', 'g10', 'labels', 'reaches', 'fave', 'acknowledge', 'listeners', '1969', 'baritones', 'digress', 'defeats', 'confirmation', 'gating', 'advertises', 'conservative', 'sabine', 'mama', 'bravo', 'c5', 'd112', 'overheads', 'congas', 'shed', 'jiggle', 'gee', 'preconceived', 'notions', 'decayed', 'indications', 'vanish', 'uhm', 'tights', 'allergies', 'inevitable', 'needn', 'adaptation', 'loudest', 'resonate', 'smoothing', 'beaters', 'workshops', 'transported', 'retractable', 'liven', 'smooshed', 'services', 'environmentally', 'butler', 'booms', 'patched', 'tracing', 'offerings', 'klon', 'thump', 'claiming', 'flab', '110v', 'horns', 'rom', 'dealy', 'ziploc', 'accounts', '100ma', 'educated', 'techie', 'controversy', 'borrow', 'inspiration', 'stopping', 'concepts', 'minds', 'corresponding', 'soundtank', 'theblue', 'prevented', 'starpower', 'assist', 'anchored', 'imaging', 'devise', 'cf', 'resides', 'aw2', 'imt', 'visited', 'advance', 'afghanistan', 'chipping', 'wicked', 'allegedly', 'creepy', 'motown', 'damping', 'tarnished', 'f335bl', 'steroids', 'shark', 'couplers', 'automated', 'unknown', 'gore', 'faves', 'dissappointed', 'malekko', 'ekko', 'alley', 'restaurants', 'irritating', 'detachable', 'senior', 'contour', 'grating', 'searing', 'batman', 'detaches', 'swore', 'mixup', 'indestructable', 'ludwig', 'finely', 'stuffers', 'saturday', 'geat', '6ft', 'marginally', 'diminishing', 'thereafter', 'dough', 'household', 'skimming', 'scuffs', 'confuse', 'painfully', 'thoughtfully', 'unthinkable', 'sealant', 'intimidated', 'representative', 'nanos', 'xm1800s', 'reconsider', 'descent', 'x1', 'continual', 'anniversary', 'compositions', 'object', 'tease', 'rookie', 'rt', 'resonation', 'ridges', 'arizona', 'brazilian', 'adirondack', 'recreating', 'ts800', 'audibly', 'merits', 'flick', 'suprising', 'musics', 'indonesian', 'boomers', 'forwards', 'convince', 'brace', 'catching', 'banging', 'physics', 'diminish', 'catalinbread', 'weary', 'lifting', 'swipe', 'evidence', 'converted', 'appealed', 'tensions', 'manages', 'subdued', 'neurological', 'figuratively', 'bombing', 'emperor', 'peal', 'revisit', 'frickin', 'cranks', 'influenced', 'influences', 'imagining', '16s', 'deterioration', 'blemish', 'pedaling', 'alternatively', 'squint', 'lemons', 'blade', 'quirk', 'trail', '2006', 'gels', 'dawg', 'disposable', 'glory', 'megadeth', 'forgive', 'csp202', 'furman', 'it3', 'potentiometer', 'titanium', 'shelled', 'eighth', 'sculpture', 'shubbs', 'irritation', 'prize', 'withstood', 'forefront', 'refined', 'acrylic', 'lubricants', 'rejection', 'restart', 'ext', 'vids', 'neighborhood', 'avail', 'gota', 'thinly', 'exceptions', 'operational', 'bbq', 'stradivarius', 'sr_1_1', 'techs', 'bud', 'dan', 'thinning', 'atr2100', 'instrumental', 'perceptible', 'uncolored', 'clearest', 'fuzzies', 'ct100', 'division', 'deserving', 'spilling', 'exh', 'objective', 'hatred', 'exponentially', 'clam', 'bonham', 'strums', 'blocking', '099', 'thejim', 'nc65', 'pint', 'frequencied', 'distracted', 'simplifies', 'duration', 'ee', '1993', '58s', '1800s', '2000s', 'conscious', 'tl', 'slash', 'dissapoint', 'responding', 'blonde', 'freakin', 'inspected', 'brave', 'hd28', 'flattop', 'refurbished', 'relay', 'wifi', 'slab', 'zipping', 'poking', 'wrenches', 'stories', 'paste', 'deduct', 'authority', 'magazine', 'bum', 'residual', '83', 'halloween', 'choral', 'pleasently', 'tock', 'mechanically', 'monthly', 'presume', 'graphite', 'withd', 'passion', 'shaking', 'meh', 'genuinely', 'imply', 'guytone', 'bight', 'pures', 'displeased', 'brough', 'adorable', 'deeply', 'effected', 'neo', 'rinse', 'js', 'retails', 'peeled', 'msrp', 'visualize', 'template', 'squarely', '325', 'manager', 'galore', '3gs', 'amplitude', 'conducive', 'adults', 'inexpensively', 'formal', 'twinkle', 'authored', 'pamphlet', 'expander', 'eqs', 'loan', 'mykyser', 'touted', 'acknowledged', '16ny', 'netbook', 'fluctuations', 'straighten', 'porous', 'auralex', 'coupling', 'hafler', 'discovering', 'fields', 'slimmer', 'russians', 'inputting', 'upstairs', 'pianist', 'rollers', 'rotosounds', 'lake', 'outright', 'scene', 'longtime', 'jarring', 'appreciating', 'percussive', 'verbatim', 'perspective', 'rhythmic', 'achieved', 'summarize', 'aficionado', 'improvise', 'deg', 'gender', '4inch', 'intimate', 'continuously', 'jade', 'grippiness', 'auditory', 'doo', 'gamble', 'elusive', 'steinberger', 'albert', 'collins', 'lonely', 'crisper', 'articulating', 'ds1', 'tender', 'predictably', 'gal', 'unbelieveable', 'fellows', 'refunded', 'j53', 'counterparts', 'styled', 'dimarzios', 'balladeer', '1967', 'inopportune', 'evaporate', 'oxygen', 'nit', 'stale', 'favorable', 'rapid', 'cinch', 'springy', 'similarities', 'stamps', 'grabs', 'regen', 'naked', 'newborn', 'integrity', 'heres', 'coupler', 'complements', 'borderline', 'capped', 'hss', 'dragged', 'laundry', 'trustworthy', 'mindful', 'exhibits', 'announcers', 'pulsing', 'levys', '119', 'sweeten', '12at7', 'bg', '225', 'intentions', 'hotrod', 'grainy', '6505', 'aggravating', 'brushing', 'champion', 'lifesaver', 'existed', 'velvety', 'gratification', 'rackmount', 'drama', 'robbers', 'cringe', 'liability', 'dislodged', 'stow', 'racked', 'backpacker', 'portastudio', '5ft', 'ipods', 'sharpen', 'bj', 'giggin', 'ant', 'squiers', 'chorusing', 'extream', 'sworn', 'impending', 'insisting', 'keyboardist', 'mon', 'goin', 'differentiate', '1962', 'd35', 'strapping', 'abit', 'demoed', 'gratuitous', 'jan', 'svt', 'angry', 'pens', '45deg', '1e', '2e', 'oactaves', 'numerical', 'viewable', 'ecb003', 'women', 'phonemes', 'buggers', 'littl', 'gradual', 'containers', 'overpaid', 'committing', '355', 'voicings', 'gleaming', 'raves', 'lied', 'extreamly', 'perpendicular', 'stylized', 'showcase', 'injure', 'sister', 'shocks', 'article', '6v6', 'flipping', 'represent', 'mapped', 'consulting', '7701b', 'standand', 'thegibson', 'jagged', 'strand', 'giging', 'jay', 'fro', 'mahagony', 'pwma', 'feather', 'troubles', 'pwma230', 'sn2', 'cram', 'offending', 'twists', 'luv', 'toggles', 'woven', 'chintzy', 'frayed', 'copyright', '129', 'treasure', 'protectors', 'valveking', 'micros', 'dick', 'dale', 'alkaline', 'kaiser', 'tutorial', 'wan', 'flops', 'robin', 'tours', 'befor', 'atmosphere', 'goto', 'dread', 'tarnishing', 'interval', 'styrofoam', 'complimentary', 'reproduced', 'phat', 'hammered', 'truer', 'monstrous', 'expose', 'drumstick', 'thx', 'greats', 'orient', 'xxl', 'goth', 'webpage', 'deceiving', 'frying', 'assignment', 'abnormal', 'anticipating', 'lieu', 'contract', 'roughest', 'deliberately', 'subtlety', 'girth', 'pivoting', 'highlighted', 'clumsiness', 'wander', 'formed', 'roles', 'unresponsive', 'caring', 'crucial', 'ksm32', 'footers', 'jacquard', 'mortar', 'unsightly', 'thatcons', 'interfering', 'uninstall', 'defeat', 'saga', 'somthing', 'moreso', 'texas', 'harshness', 'cloudlifter', 'bolted', 'ether', 'sb', 'approx', 'bic', 'hastle', 'smiles', 'ham', 'busted', 'gizmos', 'costa', 'writer', 'hesitated', 'ubiquitous', 'aims', 'encased', 'wrapping', 'petite', 'investments', 'native', 'drown', 'markings', 'reversible', 'hawaii', 'softwares', 'calm', 'dimensional', 'similarity', 'upkeep', 'truley', 'university', 'discolored', 'runaway', 'informed', 'wording', 'experts', 'moist', 'khz', 'seek', 'justified', 'standardize', 'binders', 'upping', 'reversed', 'standby', 'bam', 'mainstay', 'media', 'flew', '6db', 'recalibrated', 'seeming', 'undersides', 'properties', 'barr', 'stat', 'micrometer', 'memories', 'rodded', '170', 'goretex', 'interconnect', 'bestest', 'approved', 'rescue', 'insertion', 'hazard', 'choruses', 'sovereign', 'min', 'parent', 'pail', 'sequence', 'sour', 'macs', 'namm', '290', 'suzuki', 'painless', 'chills', 'padi', 'iec', 'vu', 'db0', 'oclock', 'asleep', 'nitpick', 'maudio', 'magnificent', 'sl', 'continuum', 'fishbowl', 'morello', '1500', 'drains', 'microcube', '240v', 'bowed', 'horses', 'courses', 'djing', 'recycled', 'ha400', 'overdubs', 'continuing', 'cancel', 'hindered', 'yt', 'switcher', 'plunk', 'pincer', 'thunk', 'thinnest', 'multifunction', 'releasing', 'refer', 'expound', 'solves', 'tablets', '4050', 'interfaceand', 'den', 'rumbling', 'popper', 'sandbag', '4000', '82', 'substituted', 'neighbor', 'plans', 'microphoneor', 'competent', 'facility', 'surgery', 'topping', 'thumps', 'tables', 'headaches', 'packets', 'godawful', 'jamhub', 'fingerease', 'adobe', 'blog', 'inf', 'wdma_usb', 'infwdma_usb', 'wdma_usbinf', 'bakwdma_usbpnf', 'routinely', 'az', 'restaurant', 'fee', 'santa', 'fumble', 'sag', 'speeds', 'bangs', 'hondo', '390', '375', 'chromed', 'clipboard', 'dreadnoughts', 'invite', 'cops', 'phenomena', 'growls', 'efficiency', 'criticisms', 'smallish', 'ppl', 'pt10', 'fattening', 'shells', 'scam', 'overtime', 'porch', '07mkii', 'verbs', 'trad', 'endorse', 'edirol', 'encouraging', 'buried', 'agc', 'panning', 'impatient', '128', 'meg', 'leopard', 'h4', 'mastering', 'judged', 'importance', 'cr2032', 'steels', 'barre', 'progressions', 'trio', 'elec', 'toshiba', '115', 'cave', 'staggered', 'bores', 'stewart', 'gotoh', 'grover', 'goldtop', 'toolkit', 'merchandise', 'uncomfortably', 'godlyke', 'doubtful', 'dosn', 'innovative', '08', 'quitar', 'scoured', 'lucked', 'workaround', 'fs8', 'temp', 'disable', 'shortboard', 'tire', 'decribed', 'meaningful', 'tails', 'frank', 'zappa', 'ream', 'commodity', 'grandkids', 'clipon', 'scott', 'staircase', 'corrosive', 'snd', 'russell', 'crapple', 'hosting', 'hosts', 'stabilized', 'believed', 'addresses', 'west', 'bugger', 'placements', 'nudge', 'lh', 'san', 'gage', 'nt2', 'stabilize', 'intruments', '595', 'lacked', 'principle', 'danger', 'bus', 'ditch', 'explosion', 'rebooted', 'rebooting', '96', 'throughput', 'reboot', 'mission', 'waveform', 'perimeter', 'melody', 'eagle', 'allparts', 'bulletstrat', 'transmits', '017', '016', 'unwound', 'contamination', 'entertain', 'blaring', 'atop', 'sparse', 'microwave', 'doors', 'crushing', '60db', '2k', 'announcer', 'southern', 'announcements', 'gathered', 'batch', 'born', 'bayou', 'microtuners', 'acknowledges', 'dre', 'enthusiastic', 'deficiencies', 'bluish', 'ounces', 'deficiency', 'suitcase', 'toting', 'intending', 'versitale', 'squashy', 'darkness', 'beatiful', '440s', 'hiding', 'footage', 'launched', 'vegas', 'opera', 'eadgbe', 'recognition', 'blatantly', 'quaint', 'hawking', 'guarded', 'composing', 'locker', 'police', 'chours', 'antics', 'lj', 'doctored', 'vlz3', 'blackout', 'degrade', 'barcus', 'berry', 'raving', 'quid', 'boxing', 'sunshine', 'consuming', 'maximize', 'smoked', 'tapewounds', 'composition', 'divider', 'intelligent', 'beringer', 'resonates', 'vibrational', 'knots', 'shim', 'convienient', 'illumination', 'meantime', 'afforded', 'boast', 'beatle', 'perfectunder', 'fingerlike', 'chairs', '1957', 'laden', 'incident', 'breakfast', 'fs7850b', 'steep', 'wine', 'cursor', 'aspiring', 'outputting', 'interchangeable', 'flamenco', 'drowned', 'eko', 'ranger', '53', 'metalic', 'ej15', 'deadening', '1000ma', 'bingo', 'connecters', 'rats', 'bandmates', 'wiser', 'octive', 'appearence', 'dismay', 'syringe', '1400', 'aout', 'condensed', 'danaelectro', '1950', 'mywashburn', 'orlando', 'moi', 'colbie', 'caillat', 'estimation', 'differs', 'toned', 'squat', 'redrilling', 'piles', 'tile', 'dunlap', 'overbearing', 'elliot', 'stapled', 'sol', 'scratchiness', 'panic', 'snip', 'dm', '4s', 'ks8291xx', 'cleared', 'clears', 'schemes', 'dr600', 'ducking', 'milliamps', 'ldquo', 'rdquo', '339', 'stats', 'korea', 'elbow', 'dynamite', 'smeared', 'authorized', 'bloody', 'tesla', 'bungee', 'vibrating', 'monsters', 'thesamson', 'samd5', 'md5', 'award', 'dissatisfied', 'possitioning', 'pong', 'blinks', 'slayer', 'newbies', 'marauder', '1940s', 'disintegrated', 'webbing', 'daws', 'visits', 'coaxing', 'intents', 'bookshelf', 'misplaced', 'dismal', 'reacts', 'jm', 'caved', 'insulated', 'ux2', 'january', 'doorstep', 'exploring', 'whack', 'ikea', 'tipped', 'x64', 'dismayed', 'plucked', 'belts', 'animal', 'joined', 'squeezes', 'supporter', 'pelvis', 'darken', 'contours', 'triangles', 'tm50bk', 'freedom', 'gators', 'pretend', 'ea', 'speakon', 'miliseconds', 'distinguish', 'south', 'cacophony', 't5', 'unacceptable', 'minuses', 'thumbwheel', 'hf', 'owed', 'stratacoustic', 'feared', 'amenable', 'discourage', 'itchy', 'president', 'pipes', 'property', 'droping', 'theire', 'ubs', 'blinking', 'foreseeable', 'unattractive', 'mystical', 'toes', 'paperback', 'grape', 'symbol', 'discrete', 'eighteen', 'transit', 'tossing', 'peddles', 'itrack', 'perplexing', 'responsibility', 'thieves', 'variax', 'cozy', 'meat', 'screened', 'kmc', 'inc', 'cc245', 'upwards', 'upward', 'gaps', 'unquestionably', 'accidental', 'bulletproof', 'flap', 'trepidation', 'coordinator', 'buys', 'ffsalsa', 'pinkie', 'memorizing', 'adept', 'exercises', 'theyamaha', 'curls', 'corroded', 'disengaging', 'team', 'transmitted', '3x3', 'pencils', 'grass', 'mains', 'intentionally', 'terminals', 'ts7', 'srv', 'alchemy', 'agreeable', 'pairing', 'harming', 'omg', 'sophistication', 'dash', 'hughes', 'kettner', 'chocolate', 'bh5h', 'bh110', '10a125', '4ohm', 'lone', 'ge', 'tinniness', '8ohm', 'tumble', 'faces', 'te', 'zingy', '31', 'dock', 'fx600', 'introduces', 'flag', 'oscar', 'schmidt', 'ou6', 'eliminator', 'bombs', 'allman', 'seam', 'relieved', 'unbearable', 'progressively', 'evaluation', 'headache', 'reflects', 'arrogant', 'podium', 'compelled', 'percent', 'theater', 'std', 'installations', '1spot', 'utterly', 'manipulation', 'soaked', 'kickin', 'lpb', 'customerservice', 'peghead', 'eltjo', 'trombone', 'clarinet', 'zakk', 'blemishes', 'shimmed', 'housings', 'buffing', 'confort', 'wolfgang', 'vci', 'flakes', 'duties', 'reinstalled', 'transferring', 'tt', 'costumer', 'resolder', 'ldc', 'taylors', 'prep', 'hossen', 'crescendo', 'intricate', 'subtleties', 'hugely', 'journey', 'rainy', 'strokes', 'wiggles', 'tightness', 'imaginable', 'weddings', 'productions', 'interaction', 'saxophone', 'preacher', 'midnight', 'reiterate', 'ae', 'incidental', 'mishap', 'leary', 'scheme', 'outwards', 'velvet', 'swaps', '2003a', 'u87', 'hideous', 'suffers', 'ata', 'secures', 'accessed', 'smoothed', 'streaming', 'eleven', 'intermittently', 'throat', 'weaknesses', 'challenged', 'dancers', 'limp', 'yard', 'asset', 'moments', 'cycles', 'operated', 'slam', 'violinist', 'foldable', 'evident', 'unhelpful', 'essentials', 'sealing', 'retraction', 'persuaded', 'curiosity', 'presentable', 'learner', 'piping', 'stiched', 'envy', 'admired', 'diminutive', 'favoring', 'narration', 'flop', 'jjs', 'v32', 'grommets', 'wk', 'tide', 'timefactor', 'dub', 'erase', 'lent', 'tiger', '2005', 'freaky', 'chipped', 'tore', 'shoo', 'bop', 'wadda', 'bwoosh', 'ohhh', 'dura', 'tinkering', 'lumber', 'nuisance', 'grows', 'crushed', 'escaping', 'swooshing', 'kiss', 'acting', 'junky', 'transmitters', 'ver', 'rp255', 'navigate', '50g', 'blades', 'accents', 'rep', 'youngster', 'progressing', 'neon', 'cruddy', 'oscillation', 'v8', 'affiliation', 'advertisement', 'bypassing', 'senheiser', 'intonating', 'retired', 'downgraded', 'wedge', 'trumps', 'investigating', 'mainstream', 'et', 'career', 'cage', 'theshure', 'typed', 'generator', 'fumes', 'marking', 'begginers', 'noodle', 'wage', '8220', 'crisscross', 'translate', 'underrated', 'pstk103', 'retracted', 'confines', 'mayer', '20hz', 'straining', 'oz', 'omission', 'ey', 'testament', 'gaskets', 'bot', 'awg', 'college', 'pitches', 'brains', 'nearest', 'configuring', 'busses', 'launching', 'revert', 'detune', 'hue', 'charles', 'surprized', 'pawn', 'vibratone', 'endorsed', 'scraping', 'pup', 'cruise', 're20', 'ribbon', 'complexity', 'generated', 'rk345', 'distributors', 'rolloff', 'hickory', 'polymer', 'melodic', 'conections', 'bcuz', '032', '034', 'discuss', 'peaks', 'attenuate', 'jeans', 'worldwide', 'logically', 'injects', '12db', 'indefinitely', 'backline', 'inadequate', 'beneath', 'scenario', 'illuminating', 'prelude', 'stowed', 'mitchell', 'leaked', 'epic', 'stairway', 'honoring', 'spills', 'razorback', 'ml', 'graded', 'reflect', 'l4', 'comping', 'contexts', 'rws', 'musicman', 'hofner', 'leo', 'sharpie', 'employees', 'rewarded', 'wishes', 'deja', 'roto', 'awkwardness', 'v30', 'mixdspnet', 'communicate', 'refused', 'transaction', 'heartily', 'hero', 'cheapskate', 'telescope', 'insult', 'integral', 'categories', 'overwhelm', 'cheapy', 'unheard', 'granularity', 'gradients', 'stall', 'represents', 'definatly', 'emulated', 'velveteen', 'solvent', 'acidic', 'moore', 'punishment', 'hiccup', 'perceived', 'counting', 'scare', 'tlc', 'definetely', 'accesories', 'county', 'nc', 'heaviness', 'leatherman', 'sweetest', 'withan', 'tactile', 'mirror', 'lease', 'xl120', 'achievement', 'lightening', 'sennheisers', 'tick', 'trimmed', 'represented', 'danelectrode', '3v', 'spotty', 'mandos', 'disclosure', 'centre', 'hastily', 'caliper', 'soured', 'leap', 'investigate', 'belies', 'marine', 'splash', 'pixie', 'underpowered', 'render', 'idling', 'cinema', 'kevlar', 'compactness', 'noodling', 'risking', 'proceed', 'belly', 'pigs', 'guards', 'snout', 'deceptively', 'lover', 'soooooo', 'vc5212', 'guests', 'weakling', 'downfall', 'serial', 'patriot', 'chandler', 'carrier', 'elevated', 'evening', 'supplying', 'individuals', 'innovations', 'deadens', 'boil', 'outward', 'obstruct', 'reuse', 'diatonic', 'origins', 'diameters', 'curvatures', 'airing', 'tipple', 'violas', 'seasons', 'cavity', 'wes', 'montgomery', 'experement', 's100', 'verified', 'insignificant', 'enjoyment', 'grin', '29s', 'sentimental', 'comforter', 'exchanges', 'bx8a', 'electic', 'rs', 'jumper', 'lulz', 'cheat', 'workshop', 'desks', 'jersey', 'palate', 'microsoft', 'violate', 'logitech', 'faults', 'projected', 'fuzzes', 'root', 'korn', 'june', 'communications', 'remembers', 'soundcloud', 'dope', 'hunks', 'piercing', 'scandinavian', 'sept', 'avoids', 'published', 'eventual', 'awe', '66', 'thereby', 'impede', 'notwithstanding', 'ts5', 'amplifying', 'struggling', 'encourages', 'powdery', 'ms16', 'someplace', 'le6', 'registration', 'ai', 'ilok', '05', 'mbox', 'discounts', 'season', 'browsing', 'brn', 'extender', 'emptor', 'bait', 'minidisc', 'links', 'versitile', 'designation', 'akward', 'rout', 'x4', 'housed', '011', '013s', '7mm', 'announcement', 'fears', 'viable', 'bro', 'phonics', 'depressed', 'cease', 'mash', 'gang', 'frv', 'tint', 'mellowed', 'vacation', 'ash', 'iffy', 'circle', 'functioned', 'harmonizer', 'patrie', '8230', 'relaxed', 'phosphorus', 'dumped', 'shrunk', 'rattling', 'bluetooth', 'repairing', 'technological', 'toyish', 'tuba', 'progressive', 'tapped', 'advertisements', 'tempos', 'edged', 'generators', '9vdc', 'grisman', 'grocery', 'layering', 'wavering', 'superbly', 'procedure', 'spun', '210', 'bottleneck', 'decreases', 'simulation', 'thrones', 'ipads', 'instrumentalist', 'armed', 'reccommend', '4in', 'sopranino', '100maoutput', 'exceeding', 'cannon', 'kona', 'k2', 'envision', 'foundation', 'crapped', 'overextended', 'wobbles', 'routine', 'axis', 'hisses', 'styling', 'c01ucw', 'deform', 'que', 'saludos', 'desde', 'venezuela', 'noisier', 'indicative', 'em600', 'tech21', 'm9', 'sd10', 'inspecting', 'spanky', 'decrease', 'metalheads', 'eaten', 'underwear', 'grommet', 'pantera', 'shakes', 'defender', 'angel', 'flasher', 'yorozuya', 'yokoshima', 'readouts', 'possesses', 'unaware', 'plinking', 'cc', 'ford', 'peel', 'overlapped', 'smudge', 'lumping', 'rant', 'bc', 'pice', 'hexagonal', 'downer', 'export', 'swinging', 'messin', 'curtain', 'shorten', 'frozen', 'official', 'pronunciation', 'pronounce', 'misc', '5db', 'magnifying', 'puppets', 'exl115', 'analysis', 'contacting', 'installer', 'hoop', 'sewing', 'curt', 'mangan', 'doritos', 'beaten', 'tent', 'fryette', 'smelly', 'dinged', 'unhook', 'acdc', 'killswitch', 'larrivee', 'ac4tv', 'bing', 'profx8', 'd5', 'conditioned', 'bottles', 'normalize', 'panty', 'hose', 'jm4', 'attribute', 'workarounds', 'rope', 'philharmonic', 'distorion', 'avenge', 'comming', 'reward', 'income', 'arse', 'disbelief', 'obtrusive', 'edrums', 'jerk', 'approaching', 'financial', 'incentive', 'develops', 'foray', 'bucker', 'upgradable', 'keen', 'ce3', 'gutiar', 'ending', 'unwated', 'slinkeys', 'rythms', 'hamilton', 'camstudio', 'dictation', 'ukeleles', 'imports', 'shuttle', 'meanwhile', 'consists', '2009', 'crumble', 'sketchy', 'fashioned', 'fisted', 'resetting', 'tolerance', 'lithium', '6024', 'paging', '48vdc', 'conclusions', 'lineup', 'playin', 'customizable', '60w', 'yairi', 'bread', 'outlast', 'songwriting', 'rigidity', '10th', 'cactus', 'at3035', 'qs8', 'rp5', 'dremel', 'warping', 'gouging', 'experimental', '123', 'maneuver', 'hammerhead', '103', 'lexan', 'vfe', '551s', 'barney', 'jumpy', '75w', 'hc', 'staring', 'snatch', 'brook', 'mays', 'icepick', 'fierce', 'humidifying', 'seperately', 'fattens', 'dropout', 'reasoning', 'maggot', 'groovy', 'hihat', 'locktite', '4oz', 'bolt1', 'bolt2', '0s', 'dif', 'contoured', 'dm70', 'dm80', 'purples', 'rinky', 'dink', 'amplifiedparts', 'dicey', 'costlier', 'retained', '53mm', 'srh840', 'soundstage', 'outclass', 'm179', '2035', 'duet2', 'brightens', 'foreign', 'dripping', 'exl110bt', 'rehersal', '1994', 'yeh', 'tanks', 'glides', 'ecru', 'proposition', 'birth', 'reproductive', 'complains', 'thumpy', 'mel', 'unified', 'b4', '1300', 'nova', 'platinum', 'spreading', 'saliva', 'sweating', 'hone', '20db', 'gun', 'ans', 'assuring', 'evaluating', 'economic', 'mic2200', 'knocks', 'interview', 'restoring', 'nicked', 'budding', 'ampkit', 'jamup', 'jcm900', 'thermometer', 'loudbox', 'adjacent', 'grounded', 'shedding', 'decays', 'boasts', 'lacquered', 'kaput', 'humidipak', 'annoy', 'ppc108', '1x8', 'wantto', 'lava', 'laziness', 'aging', '75lbs', 'atleast', 'rivets', 'exl110s', 'ej26', 'satchurator', 'blinding', '179', 'disposal', 'fedex', 'ego', 'ezd2', 'ezd1', 'expansions', 'ezx', 'lps', 'carlsberg', 'burner', 'hubby', 'lapel', 'gtr', 'earns', 'endorsing', '085', 'intense', 'johnj', 'steinway', 'remeber', 'onkyo', 'chewing', 'weee', 'plural', 'fulldrive', 'legged', 'rythmn', 'watter', 'spike', 'lunch', 'ec', 'stamina', '500s', '222', 'fussiness', 'serrated', 'folders', 'tucked', 'cannabis', 'undamaged', 'mainland', 'mah', 'overtighten', 'sims', 'problemo', 'willif', '500x', 'vehicle', 'unsatisfying', 'stems', 'nitpicking', 'pq', '9280', 'c0', 'modifiers', 'bett', '00e', 'consumption', 'lllove', 'translucent', 'chainedpowerwerks', 'pw50', 'systemheads', 'bargained', 'transformed', 'heartbreakers', 'albums', 'parking', 'presentor', 'seies', 'costco', 'cp', 'cp33', 'hootenany', 'sweeeet', 'rcommended', 'ipad2', 'acx', 'steelseries', 'th02', 'excelled', 'noggin', 'confining', 'pluging', 'sexist', 'hunter', 'germanium', 'dreary', 'saturates', 'palette', 'bleak', 'untrained', 'bargaintasticif', 'controle', 'srews', 'scheduled', 'mcquade', 'a5th', 'd4th', 'g3rd', 'c2nd', 'e1st', 'ayou', 'carols', 'century', 'evenings', 'dupdate', 'readabilty', 'piecing', 'turners', 'cellos', 'cbg', 'uphill', 'sm58lc', 'rightly', 'scenarios', 'demonstrated', 'expounded', 'coincidentally', 'os2', 'merges', 'axess', 'mp1504', 'reserve', 'pretends', 'homedepot', 'chat', 'deadened', 'grope', 'jc', 'fier', 'pkg', 'crapware', 'wierd', 'menas', 'cushined', 'tuing', 'haslle', 'destortion', 'banishment', 'neededa', 'affection', '2x12inch', 'headstand', 'backlite', 'rigt', 'washes', 'handwash', 'withand', 'toloop', 'havethe', 'byproduct', 'capableamp', 'cancellation', 'speakerand', 'clobbers', 'woosh', 'lossing', 'endurance', 'digi', 'amamzon', 'crane', 'pertaining', 'unamplified', 'ben', 'applicators', 'soundproof', 'tightest', 'asmartin', 'stretchy', 'dampened', 'overdoing', 'upscale', 'viewpoints', 'disactivate', 'usebehringer', 'quart', 'pour', 'float', 'traps', 'membrane', 'abilities', 'phrases', 'turf', 'excellenti', 'happyi', 'amazonthe', 'cheesey', 'pinhole', 'malfunctions', 'soundblaster', 'rockerverb', '85s', 'sunrise', 'tonesuck', 'optimally', 'expecially', 'surmise', 'grooved', 'consisting', 'mimicking', 'ahhhhhh', 'pleases', 'dah', 'diehard', 'mc404', '1999', 'dabs', 'nah', 'stuffer', 'replica', 'superchamp', 'dkmg', 'hsc', 'asfss6', 'dropouts', 'doubling', 'advancements', 'masses', 'esteban', 'noticably', 'equiptmentfrom', 'keyboardmakes', 'scissor', 'casios', 'expensiveroland', 'rpu', 'refurbishing', 'alternating', 'unintentionally', 'thinmy', 'stub', 'interpretation', 'bessie', 'simon', 'garfunkel', 'scarborough', 'harrison', 'lightfor', 'sap', 'mandolinists', 'wegan', 'dimebag', 'darrels', 'ge7', 'honkey', 'lineing', 'anal', 'shuffle', 'lukewarm', 'greg', 'abrams', 'afterall', 'nation', 'nickelback', 'franchise', 'kardashian', 'practic', 'at100', 'likeable', 'flames', 'hater', 'odb', 'overshadows', 'popularity', 'pumpkins', 'creamier', 'equipments', 'deads', 'jerry', 'sex', 'pistols', 'simualtion', 'themoen', 'moowhich', 'hemisphere', 'autoharps', 'zeroes', 'purposely', 'sole', 'elixirstring', 'ther', 'reproducible', 'pondering', 'glut', 'ensuing', '1976', 'discipline', 'loctite', 'shelving', 'crumbling', 'pathetically', 'ziotek', 'tacks', 'velour')\n"
          ]
        }
      ],
      "source": [
        "from collections import Counter \n",
        "import tensorflow_datasets as tfds\n",
        "\n",
        "vocab_size = 10000\n",
        "tk = tfds.deprecated.text.Tokenizer()\n",
        "#for df,target in dataset:\n",
        "\n",
        "lowercase = True  # set this to `False` if case-sensitivity is important.\n",
        "vocabulary = Counter()\n",
        "for text, target in dataset_train:\n",
        "    if lowercase:\n",
        "       text = tf.strings.lower(text)  #Deixa todos os caractéres minúsculos\n",
        "    tokens = tk.tokenize(text.numpy())  #Tokenize vai separar os temors das strings em tokens, só que antes o argumento text vai de tensor para numpy array\n",
        "    vocabulary.update(tokens)      \n",
        "\n",
        "vocabulary, _ = zip(*vocabulary.most_common(vocab_size))\n",
        "\n",
        "print(vocabulary)\n",
        "\n",
        "encoder = tfds.deprecated.text.TokenTextEncoder(vocabulary, #Transforma palavras(tokens) em números inteiros\n",
        "                                              lowercase=lowercase,\n",
        "                                              oov_buckets = round(len(vocabulary)*0.1),\n",
        "                                              tokenizer=tk)\n",
        "\n",
        "max_len = 100\n",
        "\n",
        "\n",
        "def encode(text, target):\n",
        "    text_encoded = encoder.encode(text.numpy())\n",
        "    if max_len:\n",
        "        text_encoded = text_encoded[:max_len] #Limite máximo de tokens por frase\n",
        "    return text_encoded, target\n",
        "\n",
        "\n",
        "def encode_pyfn(text, target):\n",
        "  text_encoded, target = tf.py_function(encode,     #py_function foi finalmente a forma encontrada de rodar uma função no modo Eager do tensor\n",
        "                                          inp=[text, target],\n",
        "                                          Tout=(tf.int32, tf.int32)) #tout = type of output \n",
        "  return text_encoded, target\n",
        "\n",
        "\n"
      ]
    },
    {
      "cell_type": "code",
      "source": [
        "for r in dataset_train.take(1):\n",
        "  print(r)\n",
        " #agora os textos foram codificados em números ! "
      ],
      "metadata": {
        "colab": {
          "base_uri": "https://localhost:8080/"
        },
        "id": "7qSmXQUJ2D_t",
        "outputId": "68893253-b382-4c5c-e38b-9ba8e6cc00f7"
      },
      "execution_count": 277,
      "outputs": [
        {
          "output_type": "stream",
          "name": "stdout",
          "text": [
            "(<tf.Tensor: shape=(), dtype=string, numpy=b\"This is a pretty good deal if you look at the price of other capos, and you get free shipping.Yeah, it's not as quick to use as the spring loaded ones, but still not bad; better than an elastic strap type.It is also great for creating your own short cut and drop D capos.  With a sharp razor you could do all sorts of crazy stuff.Do not overtighten the screw because the bottom arm is thin. You can add a pad of some sort, or just take care to not to over-tighten it.I'm the type of person that would glue in a small piece of material if it broke through.  So, far it doesn't look like it will though.\">, <tf.Tensor: shape=(), dtype=int32, numpy=4>)\n"
          ]
        }
      ]
    },
    {
      "cell_type": "code",
      "source": [
        "  \n",
        "dataset_train = dataset_train.map(encode_pyfn).padded_batch(batch_size=300, drop_remainder=True,#ao msm tempo que ocorre o padding (tokens não existentes igual a 0) ocorre a divisão em batches\n",
        "                                                            padded_shapes=([None], [])).prefetch(1) #prefetch para acelerar os cálculos\n",
        "\n",
        "dataset_valid = dataset_valid.map(encode_pyfn).padded_batch(batch_size=300, drop_remainder=True, #Drop remainder não forma batches menores em divisão imperfeita    \n",
        "                                                padded_shapes=([None], [])).prefetch(1)  \n",
        "   \n",
        "dataset_test = dataset_test.map(encode_pyfn).padded_batch(batch_size=300, drop_remainder=True,\n",
        "                                                padded_shapes=([None], [])).prefetch(1)        "
      ],
      "metadata": {
        "id": "j5_kvSaQzAKk"
      },
      "execution_count": 278,
      "outputs": []
    },
    {
      "cell_type": "code",
      "source": [
        "dataset_train"
      ],
      "metadata": {
        "colab": {
          "base_uri": "https://localhost:8080/"
        },
        "id": "SfEZWchH3yIT",
        "outputId": "c58111ef-2f75-4e4e-bf61-ea9364f52749"
      },
      "execution_count": 279,
      "outputs": [
        {
          "output_type": "execute_result",
          "data": {
            "text/plain": [
              "<PrefetchDataset element_spec=(TensorSpec(shape=(300, None), dtype=tf.int32, name=None), TensorSpec(shape=(300,), dtype=tf.int32, name=None))>"
            ]
          },
          "metadata": {},
          "execution_count": 279
        }
      ]
    },
    {
      "cell_type": "markdown",
      "metadata": {
        "id": "6t3dHHS2-M-A"
      },
      "source": [
        "## Modelo Simples RNN \n"
      ]
    },
    {
      "cell_type": "code",
      "execution_count": 220,
      "metadata": {
        "id": "1genUjDN-PSr"
      },
      "outputs": [],
      "source": [
        "embed_size = 64\n",
        "vocab_size = len(vocabulary)\n",
        "num_oov_buckets = round(vocab_size*0.20)\n",
        "model1 = keras.models.Sequential([\n",
        "keras.layers.Embedding(input_dim=vocab_size + num_oov_buckets, output_dim= embed_size, input_shape=[None]),\n",
        "keras.layers.SimpleRNN(64, return_sequences=True), #return sequences permite rodar outra camada de RNN \n",
        "keras.layers.SimpleRNN(32),\n",
        "keras.layers.Dense(5, activation='softmax')\n",
        "])\n"
      ]
    },
    {
      "cell_type": "code",
      "execution_count": 222,
      "metadata": {
        "colab": {
          "base_uri": "https://localhost:8080/"
        },
        "id": "ZiUpFy-SHffT",
        "outputId": "7b5d31b5-f4b6-46cf-d7f3-aeab1914e6dc"
      },
      "outputs": [
        {
          "output_type": "stream",
          "name": "stdout",
          "text": [
            "Epoch 1/20\n",
            "23/23 [==============================] - 14s 492ms/step - loss: 0.9454 - accuracy: 0.6788 - val_loss: 0.9293 - val_accuracy: 0.6831\n",
            "Epoch 2/20\n",
            "23/23 [==============================] - 11s 462ms/step - loss: 0.8688 - accuracy: 0.7190 - val_loss: 0.9136 - val_accuracy: 0.6818\n",
            "Epoch 3/20\n",
            "23/23 [==============================] - 11s 468ms/step - loss: 0.7545 - accuracy: 0.7530 - val_loss: 0.9456 - val_accuracy: 0.6804\n",
            "Epoch 4/20\n",
            "23/23 [==============================] - 10s 455ms/step - loss: 0.6690 - accuracy: 0.7839 - val_loss: 0.9239 - val_accuracy: 0.6953\n"
          ]
        }
      ],
      "source": [
        "from tensorflow.keras.optimizers import Adam\n",
        "early_stopping_cb = keras.callbacks.EarlyStopping(patience=3, min_delta=0.02, baseline=90.00, restore_best_weights=True) \n",
        "\n",
        "\n",
        "model1.compile(optimizer=Adam(learning_rate=0.001), loss='sparse_categorical_crossentropy', metrics=['accuracy'])\n",
        "history1 = model1.fit(dataset_train, validation_data= dataset_valid, epochs=20, callbacks=[early_stopping_cb])\n",
        "model1.save('Modelo_simples_RNN.h5')\n",
        "\n",
        "#o argumento \"validation_split não funciona para tensorflow datasets ! \""
      ]
    },
    {
      "cell_type": "code",
      "execution_count": 223,
      "metadata": {
        "id": "b6lB-CQx1cAh",
        "colab": {
          "base_uri": "https://localhost:8080/",
          "height": 324
        },
        "outputId": "a0da53ca-9a83-4869-db1d-b910ed508d19"
      },
      "outputs": [
        {
          "output_type": "display_data",
          "data": {
            "text/plain": [
              "<Figure size 576x360 with 1 Axes>"
            ],
            "image/png": "[encoded data removed]"
          },
          "metadata": {
            "needs_background": "light"
          }
        }
      ],
      "source": [
        "pd.DataFrame(history1.history).plot(figsize=(8, 5))\n",
        "plt.grid(True)\n",
        "plt.gca().set_ylim(0, 1) \n",
        "plt.show()"
      ]
    },
    {
      "cell_type": "markdown",
      "metadata": {
        "id": "YeFxqLc6AG51"
      },
      "source": [
        "## LTSM Unidirecional "
      ]
    },
    {
      "cell_type": "code",
      "execution_count": 224,
      "metadata": {
        "id": "Cq5p04kpAKfD"
      },
      "outputs": [],
      "source": [
        "model2 = keras.models.Sequential([\n",
        "keras.layers.Embedding(vocab_size + num_oov_buckets, embed_size, input_shape=[None]),                                                              \n",
        "keras.layers.LSTM(64, return_sequences=True),\n",
        "keras.layers.LSTM(32),\n",
        "keras.layers.Dense(5, activation='softmax')\n",
        "])"
      ]
    },
    {
      "cell_type": "code",
      "execution_count": 225,
      "metadata": {
        "id": "fKHY1i4PH30P",
        "colab": {
          "base_uri": "https://localhost:8080/"
        },
        "outputId": "3a95363f-c38f-42de-838e-735b3d3c32d1"
      },
      "outputs": [
        {
          "output_type": "stream",
          "name": "stdout",
          "text": [
            "Epoch 1/20\n",
            "23/23 [==============================] - 76s 3s/step - loss: 1.2253 - accuracy: 0.6629 - val_loss: 0.9646 - val_accuracy: 0.6710\n",
            "Epoch 2/20\n",
            "23/23 [==============================] - 16s 697ms/step - loss: 0.9613 - accuracy: 0.6787 - val_loss: 0.9541 - val_accuracy: 0.6710\n",
            "Epoch 3/20\n",
            "23/23 [==============================] - 16s 690ms/step - loss: 0.9470 - accuracy: 0.6787 - val_loss: 0.9482 - val_accuracy: 0.6710\n",
            "Epoch 4/20\n",
            "23/23 [==============================] - 16s 688ms/step - loss: 0.9319 - accuracy: 0.6787 - val_loss: 0.9383 - val_accuracy: 0.6714\n",
            "Epoch 5/20\n",
            "23/23 [==============================] - 18s 798ms/step - loss: 0.8978 - accuracy: 0.6848 - val_loss: 0.9244 - val_accuracy: 0.6761\n",
            "Epoch 6/20\n",
            "23/23 [==============================] - 20s 876ms/step - loss: 0.8690 - accuracy: 0.7017 - val_loss: 0.9309 - val_accuracy: 0.6771\n",
            "Epoch 7/20\n",
            "23/23 [==============================] - 16s 698ms/step - loss: 0.8617 - accuracy: 0.7119 - val_loss: 0.9208 - val_accuracy: 0.6753\n"
          ]
        }
      ],
      "source": [
        "from tensorflow.keras.optimizers import Adam\n",
        "early_stopping_cb = keras.callbacks.EarlyStopping(patience=3, min_delta=0.02, baseline=90.00, restore_best_weights=True) \n",
        "\n",
        "\n",
        "model2.compile(optimizer=Adam(learning_rate=0.001), loss='sparse_categorical_crossentropy', metrics=['accuracy'])\n",
        "history2 = model2.fit(dataset_train, validation_data= dataset_valid, epochs=20, callbacks=[early_stopping_cb])\n",
        "model2.save('LSTM_unidirecional.h5')"
      ]
    },
    {
      "cell_type": "code",
      "execution_count": 227,
      "metadata": {
        "id": "XXznhGTAx4yJ",
        "colab": {
          "base_uri": "https://localhost:8080/",
          "height": 324
        },
        "outputId": "ad601359-7fc9-4e80-d853-c284b5689fcd"
      },
      "outputs": [
        {
          "output_type": "display_data",
          "data": {
            "text/plain": [
              "<Figure size 576x360 with 1 Axes>"
            ],
            "image/png": "[encoded data removed]"
          },
          "metadata": {
            "needs_background": "light"
          }
        }
      ],
      "source": [
        "pd.DataFrame(history2.history).plot(figsize=(8, 5))\n",
        "plt.grid(True)\n",
        "plt.gca().set_ylim(0, 1) \n",
        "plt.show()"
      ]
    },
    {
      "cell_type": "markdown",
      "metadata": {
        "id": "r99iu8WBAKtO"
      },
      "source": [
        "# LTSM Bidirecional \n"
      ]
    },
    {
      "cell_type": "code",
      "execution_count": 294,
      "metadata": {
        "id": "mHABJNWGAMx-"
      },
      "outputs": [],
      "source": [
        "model3 = keras.models.Sequential([\n",
        "keras.layers.Embedding(vocab_size + num_oov_buckets, embed_size),\n",
        "keras.layers.Bidirectional(keras.layers.LSTM(32, return_sequences=True)),\n",
        "keras.layers.Bidirectional(keras.layers.LSTM(32)),\n",
        "keras.layers.Dense(5)\n",
        "])"
      ]
    },
    {
      "cell_type": "code",
      "execution_count": 293,
      "metadata": {
        "id": "YmGAL171H5LJ",
        "colab": {
          "base_uri": "https://localhost:8080/"
        },
        "outputId": "318b8339-0e3f-4fe4-de61-701f7b364fc2"
      },
      "outputs": [
        {
          "output_type": "stream",
          "name": "stdout",
          "text": [
            "Epoch 1/20\n",
            "23/23 [==============================] - 17s 548ms/step - loss: 1.1997 - accuracy: 0.6883 - val_loss: 1.2234 - val_accuracy: 0.6767\n",
            "Epoch 2/20\n",
            "23/23 [==============================] - 15s 653ms/step - loss: 1.0728 - accuracy: 0.7138 - val_loss: 1.5396 - val_accuracy: 0.6945\n",
            "Epoch 3/20\n",
            "23/23 [==============================] - 12s 503ms/step - loss: 1.3307 - accuracy: 0.7577 - val_loss: 1.6510 - val_accuracy: 0.6922\n",
            "Epoch 4/20\n",
            "23/23 [==============================] - 12s 517ms/step - loss: 0.9923 - accuracy: 0.7528 - val_loss: 1.2999 - val_accuracy: 0.6931\n"
          ]
        }
      ],
      "source": [
        "from tensorflow.keras.optimizers import Adam\n",
        "early_stopping_cb = keras.callbacks.EarlyStopping(patience=3, min_delta=0.02, baseline=90.00, restore_best_weights=True) \n",
        "\n",
        "\n",
        "model3.compile(optimizer=Adam(learning_rate=0.001), loss='sparse_categorical_crossentropy', metrics=['accuracy'])\n",
        "history3 = model3.fit(dataset_train, validation_data= dataset_valid, epochs=20, callbacks=[early_stopping_cb])\n",
        "model3.save('Modelo_melhorado.h5')"
      ]
    },
    {
      "cell_type": "code",
      "execution_count": 295,
      "metadata": {
        "id": "1_hhgKP5x6vo",
        "colab": {
          "base_uri": "https://localhost:8080/",
          "height": 324
        },
        "outputId": "8d2c5f33-06fe-4bf8-c0de-d3206bbab562"
      },
      "outputs": [
        {
          "output_type": "display_data",
          "data": {
            "text/plain": [
              "<Figure size 576x360 with 1 Axes>"
            ],
            "image/png": "[encoded data removed]"
          },
          "metadata": {
            "needs_background": "light"
          }
        }
      ],
      "source": [
        "pd.DataFrame(history3.history).plot(figsize=(8, 5))\n",
        "plt.grid(True)\n",
        "plt.gca().set_ylim(0, 1) \n",
        "plt.show()"
      ]
    },
    {
      "cell_type": "markdown",
      "metadata": {
        "id": "eG_7sxKdx9h6"
      },
      "source": [
        "## Meios de comparação no sklearn"
      ]
    },
    {
      "cell_type": "code",
      "source": [
        "df = pd.read_csv(\"/content/drive/MyDrive/Musical_instruments_reviews.csv\")\n",
        "df = pd.DataFrame(df)\n",
        "df.dropna(axis=0,inplace=True)\n",
        "df.reset_index(inplace=True)\n",
        "df.isna().sum()"
      ],
      "metadata": {
        "colab": {
          "base_uri": "https://localhost:8080/"
        },
        "id": "Q9zoeM6J3pPq",
        "outputId": "18d548e1-b9a3-407b-f48b-4b3df43525d5"
      },
      "execution_count": 258,
      "outputs": [
        {
          "output_type": "execute_result",
          "data": {
            "text/plain": [
              "index             0\n",
              "reviewerID        0\n",
              "asin              0\n",
              "reviewerName      0\n",
              "helpful           0\n",
              "reviewText        0\n",
              "overall           0\n",
              "summary           0\n",
              "unixReviewTime    0\n",
              "reviewTime        0\n",
              "dtype: int64"
            ]
          },
          "metadata": {},
          "execution_count": 258
        }
      ]
    },
    {
      "cell_type": "code",
      "source": [
        "df['overall'] = pd.Categorical(df['overall'])\n",
        "df['overall'] = df.overall.cat.codes\n",
        "\n",
        "target = df.pop('overall')\n",
        "df = df['reviewText']"
      ],
      "metadata": {
        "id": "qALroZJM3ph2"
      },
      "execution_count": 259,
      "outputs": []
    },
    {
      "cell_type": "code",
      "source": [
        "from sklearn.model_selection import train_test_split\n",
        "\n",
        "X_train, X_test, y_train, y_test = train_test_split(df, target, train_size=0.7, random_state=42)\n",
        "X_test, X_valid, y_test, y_valid = train_test_split(df, target, train_size=0.5, random_state=42)"
      ],
      "metadata": {
        "id": "QFskhWI_CSNQ"
      },
      "execution_count": 260,
      "outputs": []
    },
    {
      "cell_type": "code",
      "source": [
        "nltk.download(\"wordnet\")\n",
        "nltk.download(\"stopwords\")\n",
        "nltk.download(\"punkt\")\n",
        "\n",
        "\n",
        "from nltk import word_tokenize\n",
        "from nltk.corpus import stopwords\n",
        "import re\n",
        "def Prep(text):\n",
        "  text.lower()         #normaliza tudo para minúsculas\n",
        "  text = re.sub(r\"[^\\w\\s]\", \" \", text) #padrão ReGeX em que seja tudo menos(^) palavras(\\w) e espaços (\\s)\n",
        "  text = re.sub(r\"[\\s\\s]\", \" \", text) #substituindo dois espaços por um só\n",
        "  text = re.split('\\s+', text) #Pré tokenização separando termos por espaços entre eles\n",
        "  stemmer = PorterStemmer()\n",
        "  words = []\n",
        "  for i in text: \n",
        "    words.append(word_tokenize(i))  #Finalmente quebra os termos em tokens \n",
        "  stemmed_words = []\n",
        "  en_stopwords =  stopwords.words('english') #importando stopwords(artigos,interjeições,preposições)\n",
        "  for word in words:\n",
        "    for i in word:\n",
        "      if i not in en_stopwords:          \n",
        "        stemmed_words.append(stemmer.stem(i))       #se não for é adicionado \n",
        "  return  \" \".join(str(np.array(stemmed_words)).split()) #Une tudo por espaços \n"
      ],
      "metadata": {
        "colab": {
          "base_uri": "https://localhost:8080/"
        },
        "id": "wFSkxS7m37CL",
        "outputId": "952c0bab-0e88-43f8-95ff-ec4cef139455"
      },
      "execution_count": 261,
      "outputs": [
        {
          "output_type": "stream",
          "name": "stdout",
          "text": [
            "[nltk_data] Downloading package wordnet to /root/nltk_data...\n",
            "[nltk_data]   Package wordnet is already up-to-date!\n",
            "[nltk_data] Downloading package stopwords to /root/nltk_data...\n",
            "[nltk_data]   Package stopwords is already up-to-date!\n",
            "[nltk_data] Downloading package punkt to /root/nltk_data...\n",
            "[nltk_data]   Package punkt is already up-to-date!\n"
          ]
        }
      ]
    },
    {
      "cell_type": "code",
      "source": [
        "for i in range(len(df)):\n",
        "    result = Prep(df[i])\n",
        "    df[i] = result"
      ],
      "metadata": {
        "id": "DwOOKPhz4AyP"
      },
      "execution_count": 262,
      "outputs": []
    },
    {
      "cell_type": "code",
      "source": [
        "from sklearn.feature_extraction.text import CountVectorizer, TfidfVectorizer \n",
        "                                     #Une o Tfidf com o a função CountVectorizer (Bag of words)\n",
        "                                     #fazendo então a vetorização com um processo de balancear as ocorrências das palavras(e por conseguinte os pesos)\n",
        "vectorizer = TfidfVectorizer()\n",
        "X_train = vectorizer.fit_transform(X_train)\n",
        "X_valid, X_test =  vectorizer.transform(X_valid), vectorizer.transform(X_test)"
      ],
      "metadata": {
        "id": "qj7Ew1fc8W7Z"
      },
      "execution_count": 263,
      "outputs": []
    },
    {
      "cell_type": "code",
      "execution_count": 264,
      "metadata": {
        "id": "WHiAswQW_fs1",
        "colab": {
          "base_uri": "https://localhost:8080/"
        },
        "outputId": "43ed4b87-1e57-443e-bf08-89895b786942"
      },
      "outputs": [
        {
          "output_type": "execute_result",
          "data": {
            "text/plain": [
              "SVC(kernel='linear')"
            ]
          },
          "metadata": {},
          "execution_count": 264
        }
      ],
      "source": [
        "from sklearn import svm\n",
        "clf_svm = svm.SVC(kernel='linear')\n",
        "clf_svm.fit(X=X_train, y=y_train)"
      ]
    },
    {
      "cell_type": "code",
      "source": [
        "predicao = clf_svm.predict(X_test) \n",
        "\n",
        "sk.metrics.mean_squared_error(y_test, predicao)"
      ],
      "metadata": {
        "colab": {
          "base_uri": "https://localhost:8080/"
        },
        "id": "fLXZ0BdK8rpT",
        "outputId": "f36f449d-aac9-4940-bc12-7a27386bf765"
      },
      "execution_count": 265,
      "outputs": [
        {
          "output_type": "execute_result",
          "data": {
            "text/plain": [
              "0.7107373362018384"
            ]
          },
          "metadata": {},
          "execution_count": 265
        }
      ]
    },
    {
      "cell_type": "code",
      "source": [
        "clf_svm.score(X_test, y_test)"
      ],
      "metadata": {
        "colab": {
          "base_uri": "https://localhost:8080/"
        },
        "id": "0znNC0XG9EQv",
        "outputId": "890a81bc-9e38-4870-9898-093ca82cf530"
      },
      "execution_count": 266,
      "outputs": [
        {
          "output_type": "execute_result",
          "data": {
            "text/plain": [
              "0.7787991394484647"
            ]
          },
          "metadata": {},
          "execution_count": 266
        }
      ]
    }
  ],
  "metadata": {
    "colab": {
      "collapsed_sections": [],
      "name": "Projeto 6.ipynb",
      "provenance": [],
      "mount_file_id": "1J8_dqJMUS6xCpLK6EtS4eMwPN3dfEdum",
      "authorship_tag": "ABX9TyN4pLfRRsP4caVcm8PXPI8Z",
      "include_colab_link": true
    },
    "kernelspec": {
      "display_name": "Python 3",
      "name": "python3"
    },
    "language_info": {
      "name": "python"
    },
    "accelerator": "GPU"
  },
  "nbformat": 4,
  "nbformat_minor": 0
}