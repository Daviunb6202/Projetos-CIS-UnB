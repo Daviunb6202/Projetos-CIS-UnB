{
  "cells": [
    {
      "cell_type": "markdown",
      "metadata": {
        "id": "view-in-github",
        "colab_type": "text"
      },
      "source": [
        "<a href=\"https://colab.research.google.com/github/Daviunb6202/Projetos-CIS-UnB/blob/main/Projeto_3.ipynb\" target=\"_parent\"><img src=\"https://colab.research.google.com/assets/colab-badge.svg\" alt=\"Open In Colab\"/></a>"
      ]
    },
    {
      "cell_type": "code",
      "execution_count": 114,
      "metadata": {
        "id": "YwpS_6lNqLNW",
        "colab": {
          "base_uri": "https://localhost:8080/"
        },
        "outputId": "d3857257-395c-4145-8d8f-eaa80497f4a2"
      },
      "outputs": [
        {
          "output_type": "stream",
          "name": "stdout",
          "text": [
            "Requirement already satisfied: imbalanced-Learn in /usr/local/lib/python3.7/dist-packages (0.8.1)\n",
            "Requirement already satisfied: scipy>=0.19.1 in /usr/local/lib/python3.7/dist-packages (from imbalanced-Learn) (1.4.1)\n",
            "Requirement already satisfied: joblib>=0.11 in /usr/local/lib/python3.7/dist-packages (from imbalanced-Learn) (1.1.0)\n",
            "Requirement already satisfied: scikit-learn>=0.24 in /usr/local/lib/python3.7/dist-packages (from imbalanced-Learn) (1.0.2)\n",
            "Requirement already satisfied: numpy>=1.13.3 in /usr/local/lib/python3.7/dist-packages (from imbalanced-Learn) (1.19.5)\n",
            "Requirement already satisfied: threadpoolctl>=2.0.0 in /usr/local/lib/python3.7/dist-packages (from scikit-learn>=0.24->imbalanced-Learn) (3.0.0)\n",
            "Requirement already satisfied: openpyxl in /usr/local/lib/python3.7/dist-packages (3.0.9)\n",
            "Requirement already satisfied: et-xmlfile in /usr/local/lib/python3.7/dist-packages (from openpyxl) (1.1.0)\n"
          ]
        }
      ],
      "source": [
        "#Bibliotecas importadas \n",
        "Instalar se precisar\n",
        "#!pip install imbalanced-Learn\n",
        "#!pip install openpyxl --upgrade --pre\n",
        "import time\n",
        "import openpyxl\n",
        "from imblearn.over_sampling import SMOTE\n",
        "from sklearn import preprocessing, compose, decomposition, model_selection, pipeline, metrics, ensemble, tree, multiclass\n",
        "import numpy as np \n",
        "import sklearn\n",
        "import pandas as pd \n",
        "import os,sys \n",
        "from functools import reduce\n",
        "from collections import Counter\n",
        "import matplotlib.pyplot as plt\n",
        "import seaborn as sns"
      ]
    },
    {
      "cell_type": "code",
      "execution_count": 158,
      "metadata": {
        "colab": {
          "base_uri": "https://localhost:8080/"
        },
        "id": "XEw8qvMaqa6c",
        "outputId": "ddf095a6-406f-42c5-c244-8bce149eb8db"
      },
      "outputs": [
        {
          "output_type": "stream",
          "name": "stdout",
          "text": [
            "Unnamed: 0              0\n",
            "fixed acidity           0\n",
            "volatile acidity        0\n",
            "citric acid             0\n",
            "residual sugar          0\n",
            "chlorides               0\n",
            "free sulfur dioxide     0\n",
            "total sulfur dioxide    0\n",
            "density                 0\n",
            "pH                      0\n",
            "sulphates               0\n",
            "alcohol                 0\n",
            "quality                 0\n",
            "wine_is_red             0\n",
            "dtype: int64\n",
            "0      1.0\n",
            "1      1.0\n",
            "2      0.0\n",
            "3      0.0\n",
            "4      0.0\n",
            "      ... \n",
            "995    0.0\n",
            "996    0.0\n",
            "997    1.0\n",
            "998    0.0\n",
            "999    0.0\n",
            "Name: wine_is_red, Length: 1000, dtype: float64\n",
            "   fixed acidity  volatile acidity  citric acid  ...  alcohol  quality  wine_is_red\n",
            "0            5.9              0.61         0.08  ...     11.1      6.0          1.0\n",
            "1            8.2              1.00         0.09  ...      9.0      6.0          1.0\n",
            "2            6.4              0.24         0.49  ...     10.5      6.0          0.0\n",
            "3            6.6              0.23         0.26  ...     10.0      6.0          0.0\n",
            "4            7.2              0.24         0.29  ...     10.1      6.0          0.0\n",
            "\n",
            "[5 rows x 13 columns]\n",
            " Tempo gasto: 2.2958357334136963 \n"
          ]
        }
      ],
      "source": [
        "#primeira visualização do dataset e separação de X e y\n",
        "t0 = time.time() \n",
        "vinho = pd.read_excel('/content/drive/MyDrive/winequality.xlsx') \n",
        "features = vinho.columns\n",
        "print(vinho[features].isna().sum())\n",
        "vinho.drop(vinho.columns[0], axis=1, inplace=True)\n",
        "X = vinho.iloc[:1000,:-2]\n",
        "y = vinho.iloc[:1000,-2]\n",
        "y2 = vinho.iloc[:1000,-1]\n",
        "print(y2)\n",
        "print(vinho.head()[0:5])\n",
        "t1 = time.time()\n",
        "print(f' Tempo gasto: {t1- t0} ')"
      ]
    },
    {
      "cell_type": "code",
      "execution_count": 159,
      "metadata": {
        "colab": {
          "base_uri": "https://localhost:8080/"
        },
        "id": "8gwjzPKjx-0e",
        "outputId": "dadba315-2af1-4316-b25e-ae46d27f541c"
      },
      "outputs": [
        {
          "output_type": "stream",
          "name": "stdout",
          "text": [
            "6.0    376\n",
            "7.0    376\n",
            "5.0    376\n",
            "4.0    376\n",
            "9.0    376\n",
            "8.0    376\n",
            "3.0    376\n",
            "Name: quality, dtype: int64\n",
            " Tempo gasto: 0.0296170711517334 \n"
          ]
        }
      ],
      "source": [
        "#Usando do tecnica de proporcao de labels sinteticas\n",
        "t0 = time.time()\n",
        "#Apenas a maioria nao sofrera sampling\n",
        "\n",
        "smote = SMOTE(k_neighbors =1)\n",
        " #Valor do parametro muda conforme o numero de linhas selecionadas do dataset\n",
        "\n",
        "#o fit_resample e o novo fit ao usar o SMOTE \n",
        "X_sm, y_sm = smote.fit_resample(X,y)\n",
        "\n",
        "#train test split do target multiclasse\n",
        "\n",
        "#stratify mantem as proporcoes\n",
        "X_train, X_test, y_train, y_test = sklearn.model_selection.train_test_split(X_sm, y_sm, test_size = 0.2, random_state=42, stratify=y_sm)\n",
        "print(y_train.value_counts()) \n",
        "\n",
        "t1 = time.time()\n",
        "print(f' Tempo gasto: {t1- t0} ')"
      ]
    },
    {
      "cell_type": "code",
      "execution_count": 153,
      "metadata": {
        "colab": {
          "base_uri": "https://localhost:8080/"
        },
        "id": "nH9K5dYHlQu3",
        "outputId": "247f512b-3d16-4b33-c594-9a8277292684"
      },
      "outputs": [
        {
          "output_type": "stream",
          "name": "stdout",
          "text": [
            "1.0    1279\n",
            "0.0     620\n",
            "Name: wine_is_red, dtype: int64\n",
            " Tempo gasto: 0.008827447891235352 \n",
            "[0. 1.]\n"
          ]
        }
      ],
      "source": [
        "t0 = time.time()\n",
        "#contabilizacao de ocorrencia de cada caso\n",
        "class_1 , class_0 = y2.value_counts()\n",
        "\n",
        "#amostragem de um tipo label a fim de igualar as proporcoes\n",
        "df_class_0 = vinho[vinho.iloc[:,-1]==0].sample(class_1)\n",
        "df_class_1 = vinho[vinho.iloc[:,-1]==1]\n",
        "\n",
        "#novo dataframe corrigido\n",
        "vinho_balanc = pd.concat([df_class_0, df_class_1], axis=0)\n",
        "\n",
        "#separacao do novo X e novo target binario\n",
        "X = vinho_balanc.iloc[:,:-2]\n",
        "y2 = vinho_balanc.iloc[:,-1]\n",
        "\n",
        "\n",
        "#Train test split do target binario, proporcao mantida com o stratify\n",
        "\n",
        "X_train, X_test, y_train, y_test = sklearn.model_selection.train_test_split(X, y2, test_size = 0.2, random_state=42, stratify=y2)\n",
        "print(y_train.value_counts()) \n",
        "\n",
        "t1 = time.time()\n",
        "print(f' Tempo gasto: {t1- t0} ')\n",
        "print(np.unique(y_train))"
      ]
    },
    {
      "cell_type": "code",
      "execution_count": 161,
      "metadata": {
        "id": "ujORddgnEuio",
        "colab": {
          "base_uri": "https://localhost:8080/"
        },
        "outputId": "21db3e8d-b790-4608-9fd0-c490e0207cea"
      },
      "outputs": [
        {
          "output_type": "stream",
          "name": "stdout",
          "text": [
            " Tempo gasto: 0.03644371032714844 \n"
          ]
        }
      ],
      "source": [
        "#Funcoes pre processamento\n",
        "t0 = time.time()\n",
        "\n",
        "stand = sklearn.preprocessing.StandardScaler()\n",
        "padr = sklearn.preprocessing.MinMaxScaler()\n",
        "\n",
        "X_train_padr = stand.fit_transform(X_train)\n",
        "X_test_padr = stand.transform(X_test)\n",
        "\n",
        "X_train_norm = padr.fit_transform(X_train)\n",
        "X_test_norm = padr.transform(X_test)\n",
        "\n",
        "t1 = time.time()\n",
        "print(f' Tempo gasto: {t1- t0} ')"
      ]
    },
    {
      "cell_type": "code",
      "execution_count": 163,
      "metadata": {
        "id": "TYQbV75pJiWS",
        "colab": {
          "base_uri": "https://localhost:8080/"
        },
        "outputId": "4eab9039-2b42-4879-dc20-caed0d7cd369"
      },
      "outputs": [
        {
          "output_type": "stream",
          "name": "stdout",
          "text": [
            " Tempo gasto: 0.021966934204101562 \n"
          ]
        }
      ],
      "source": [
        "#Reducao de dimensionalidade do dataset via PCA \n",
        "t0 = time.time() \n",
        "\n",
        "pca = sklearn.decomposition.PCA(n_components= 2) \n",
        "pcs = pca.fit_transform(X_train_padr)\n",
        "pcs_df = pd.DataFrame(pcs)\n",
        "pc_test = pca.transform(X_test_padr)\n",
        "\n",
        "t1 = time.time() \n",
        "print(f' Tempo gasto: {t1- t0} ')"
      ]
    },
    {
      "cell_type": "code",
      "execution_count": 121,
      "metadata": {
        "colab": {
          "base_uri": "https://localhost:8080/",
          "height": 516
        },
        "id": "pOWVlHd5frF3",
        "outputId": "45eccb36-5fce-4682-b75a-f3ed1aaf7ff2"
      },
      "outputs": [
        {
          "output_type": "stream",
          "name": "stdout",
          "text": [
            " Tempo gasto: 0.2940559387207031 \n"
          ]
        },
        {
          "output_type": "display_data",
          "data": {
            "image/png": "[encoded data removed]",
            "text/plain": [
              "<Figure size 720x576 with 4 Axes>"
            ]
          },
          "metadata": {
            "needs_background": "light"
          }
        }
      ],
      "source": [
        "#Correlacoes dos componentes principais\n",
        "t0 = time.time() \n",
        "\n",
        "pd.plotting.scatter_matrix(pcs_df, alpha=0.5, c=y_train, figsize=(10,8))\n",
        "\n",
        "t1 = time.time() \n",
        "\n",
        "print(f' Tempo gasto: {t1- t0} ')"
      ]
    },
    {
      "cell_type": "code",
      "source": [
        "\n",
        "def euclidian_distance(row, X_train):\n",
        "  m = np.empty(X_train.shape[0])\n",
        "  for row2 in range(len(np.asarray(X_train)[:,0])):\n",
        "    m[row2] = np.sqrt(np.sum(np.subtract(row, X_train[row2])**2))\n",
        "  return m\n",
        "\n",
        "\n",
        "\n",
        "class knn:\n",
        "  \n",
        "  def __init__(self, k):\n",
        "    self.k = k \n",
        "\n",
        "  def fit(self, X, y):\n",
        "    self.X_train = X\n",
        "    self.y_train = y\n",
        "\n",
        "  def predict(self, X2):\n",
        "    self.X_test = X2\n",
        "    predicted_labels = self._predict(X2)\n",
        "    return predicted_labels\n",
        "\n",
        "  def _predict(self, x):\n",
        "    predict = np.empty(self.X_test.shape[0])\n",
        "    for row in range(len(np.asarray(self.X_test)[:,0])):\n",
        "      dist = euclidian_distance(np.asarray(self.X_test)[row, :], self.X_train)\n",
        "      indices = np.argsort(dist)[:self.k]\n",
        "      k_labels = [str(np.asarray(self.y_train.iloc[ind])) for ind in indices]\n",
        "      most_common = Counter(k_labels).most_common(1)\n",
        "      predict[row] = float(most_common[0][0])\n",
        "    return predict"
      ],
      "metadata": {
        "id": "arWGhXNuOkVm"
      },
      "execution_count": 122,
      "outputs": []
    },
    {
      "cell_type": "code",
      "execution_count": 162,
      "metadata": {
        "colab": {
          "base_uri": "https://localhost:8080/"
        },
        "id": "PF3OUmsPx71C",
        "outputId": "3f7e101c-0047-4d00-dbc2-118cf61330c1"
      },
      "outputs": [
        {
          "output_type": "stream",
          "name": "stdout",
          "text": [
            " Tempo gasto de knn: 20.864271879196167 \n",
            "acuracia : 0.8358662613981763\n",
            " f1 : 0.8259193474041177 \n"
          ]
        }
      ],
      "source": [
        "#Para rodar knn \n",
        "#Lembrar que pode-se escolher X_train e X_test normatizados e padronizados\n",
        "t0 = time.time() \n",
        "\n",
        "k = knn(k=3)\n",
        "k.fit(X_train_norm, y_train)\n",
        "predict = k.predict(X_test_norm)\n",
        "t1 = time.time() \n",
        "print(f' Tempo gasto de knn: {t1- t0} ')\n",
        "y_score= sklearn.metrics.accuracy_score(y_test, predict)\n",
        "print(f'acuracia : {y_score.mean()}')\n",
        "\n",
        "f1 = sklearn.metrics.f1_score(y_test, predict, average = 'macro')\n",
        "print(f' f1 : {f1} ')"
      ]
    },
    {
      "cell_type": "code",
      "execution_count": 164,
      "metadata": {
        "colab": {
          "base_uri": "https://localhost:8080/"
        },
        "id": "7frQf97fyDAL",
        "outputId": "b62aea22-55ba-43cc-f514-8c4b93a45d47"
      },
      "outputs": [
        {
          "output_type": "stream",
          "name": "stdout",
          "text": [
            " Tempo gasto de knn: 16.61841344833374 \n",
            "acuracia : 0.6930091185410334\n",
            " f1 : 0.6755080509835211 \n"
          ]
        }
      ],
      "source": [
        "#Para rodar X pós PCA no knn\n",
        "t0 = time.time()\n",
        "\n",
        "k = knn(k=3)\n",
        "k.fit(pcs, y_train)\n",
        "predict = k.predict(pc_test)\n",
        "\n",
        "\n",
        "t1 = time.time()\n",
        "print(f' Tempo gasto de knn: {t1- t0} ')\n",
        "y_score= sklearn.metrics.accuracy_score(y_test, predict)\n",
        "print(f'acuracia : {y_score.mean()}')\n",
        "f1 = sklearn.metrics.f1_score(y_test, predict, average = 'macro')\n",
        "print(f' f1 : {f1} ')"
      ]
    },
    {
      "cell_type": "code",
      "execution_count": 150,
      "metadata": {
        "colab": {
          "base_uri": "https://localhost:8080/",
          "height": 558
        },
        "id": "x8CPZHk61axm",
        "outputId": "90e039f2-3ded-4a31-8d68-915e4d8092a2"
      },
      "outputs": [
        {
          "output_type": "stream",
          "name": "stdout",
          "text": [
            "              precision    recall  f1-score   support\n",
            "\n",
            "         3.0       0.99      1.00      0.99        94\n",
            "         4.0       0.96      1.00      0.98        94\n",
            "         5.0       0.66      0.67      0.67        94\n",
            "         6.0       0.58      0.31      0.40        94\n",
            "         7.0       0.68      0.83      0.75        94\n",
            "         8.0       0.84      1.00      0.91        94\n",
            "         9.0       1.00      1.00      1.00        94\n",
            "\n",
            "    accuracy                           0.83       658\n",
            "   macro avg       0.82      0.83      0.82       658\n",
            "weighted avg       0.82      0.83      0.82       658\n",
            "\n"
          ]
        },
        {
          "output_type": "display_data",
          "data": {
            "image/png": "[encoded data removed]",
            "text/plain": [
              "<Figure size 288x288 with 1 Axes>"
            ]
          },
          "metadata": {
            "needs_background": "light"
          }
        }
      ],
      "source": [
        "#métricas do knn multiclasse\n",
        "\n",
        "quant = np.arange(0,7,1)\n",
        "label = [str(x) for x in np.unique(y_test)]\n",
        "print(sklearn.metrics.classification_report(y_test, predict))\n",
        "conf_mx = sklearn.metrics.confusion_matrix(y_test, predict)\n",
        "plt.matshow(conf_mx, cmap= plt.cm.Blues) \n",
        "plt.xticks(quant, label)\n",
        "plt.yticks(quant, label)\n",
        "plt.title('Colunas são predições\\ne linhas são valores reais\\n')\n",
        "plt.show()"
      ]
    },
    {
      "cell_type": "code",
      "source": [
        "#Métricas para knn binário\n",
        "\n",
        "print(sklearn.metrics.classification_report(y_test, predict))\n",
        "print('Colunas são predições\\ne linhas são valores reais\\n')\n",
        "print(sklearn.metrics.confusion_matrix(y_test, predict))"
      ],
      "metadata": {
        "colab": {
          "base_uri": "https://localhost:8080/"
        },
        "id": "-k7MYs6TY093",
        "outputId": "2011eab8-35c5-4fc3-e45d-893a3cb5452c"
      },
      "execution_count": 157,
      "outputs": [
        {
          "output_type": "stream",
          "name": "stdout",
          "text": [
            "              precision    recall  f1-score   support\n",
            "\n",
            "         0.0       0.97      0.97      0.97       155\n",
            "         1.0       0.99      0.99      0.99       320\n",
            "\n",
            "    accuracy                           0.98       475\n",
            "   macro avg       0.98      0.98      0.98       475\n",
            "weighted avg       0.98      0.98      0.98       475\n",
            "\n",
            "Colunas são predições\n",
            "e linhas são valores reais\n",
            "\n",
            "[[151   4]\n",
            " [  4 316]]\n"
          ]
        }
      ]
    },
    {
      "cell_type": "code",
      "execution_count": 127,
      "metadata": {
        "colab": {
          "base_uri": "https://localhost:8080/"
        },
        "id": "JF855MtLw223",
        "outputId": "636a15d3-e680-478d-b6f6-d725612aa448"
      },
      "outputs": [
        {
          "output_type": "stream",
          "name": "stdout",
          "text": [
            "0.8461302588004415 0.7537126995142263\n",
            " Tempo gasto: 1.0542054176330566 \n"
          ]
        }
      ],
      "source": [
        "#Outro classificador1t0 = time.time()\n",
        "clf1 = sklearn.ensemble.RandomForestClassifier(n_estimators=10, max_depth=None, min_samples_split=2, random_state=42)\n",
        "score1 = sklearn.model_selection.cross_val_score(clf1, X_train, y_train, cv=5)\n",
        "score2 = sklearn.model_selection.cross_val_score(clf1, X_test, y_test, cv=5)\n",
        "print(score1.mean(),score2.mean())\n",
        "t1 = time.time()\n",
        "\n",
        "print(f' Tempo gasto: {t1- t0} ')"
      ]
    },
    {
      "cell_type": "code",
      "execution_count": 128,
      "metadata": {
        "colab": {
          "base_uri": "https://localhost:8080/"
        },
        "id": "6fbpK2B1xig8",
        "outputId": "8192678f-7eaf-42e1-bc98-8cb5ac54d7ac"
      },
      "outputs": [
        {
          "output_type": "stream",
          "name": "stdout",
          "text": [
            "0.8563841530724886 0.7461369419384687\n",
            " Tempo gasto: 0.7146763801574707 \n"
          ]
        }
      ],
      "source": [
        "#Outro classificador 2\n",
        "t0 = time.time()\n",
        "clf2 = sklearn.ensemble.ExtraTreesClassifier(n_estimators=10, random_state=42)\n",
        "score1 = sklearn.model_selection.cross_val_score(clf2, X_train, y_train, cv=5)\n",
        "score2 = sklearn.model_selection.cross_val_score(clf2, X_test, y_test, cv=5)\n",
        "print(score1.mean(),score2.mean())\n",
        "t1 = time.time()\n",
        "\n",
        "print(f' Tempo gasto: {t1- t0} ')"
      ]
    },
    {
      "cell_type": "code",
      "execution_count": 129,
      "metadata": {
        "colab": {
          "base_uri": "https://localhost:8080/"
        },
        "id": "Kt8ddWqJx5JL",
        "outputId": "18e60e0d-fc6c-4309-8198-ae3e08979d2f"
      },
      "outputs": [
        {
          "output_type": "stream",
          "name": "stdout",
          "text": [
            "0.7944473705095924 0.6838075410594495\n",
            " Tempo gasto: 0.18875503540039062 \n"
          ]
        }
      ],
      "source": [
        "#Outro classificador 3\n",
        "t0 = time.time()\n",
        "clf3 = sklearn.tree.DecisionTreeClassifier(max_depth=None, random_state=42)\n",
        "score1 = sklearn.model_selection.cross_val_score(clf3, X_train, y_train, cv=5)\n",
        "score2 = sklearn.model_selection.cross_val_score(clf3, X_test, y_test, cv=5)\n",
        "print(score1.mean(),score2.mean())\n",
        "t1 = time.time()\n",
        "\n",
        "print(f' Tempo gasto: {t1- t0} ')"
      ]
    },
    {
      "cell_type": "code",
      "source": [
        "#Bagging em cima do melhor classificador multiclasse\n",
        "\n",
        "bag_model = sklearn.ensemble.BaggingClassifier(clf1,\n",
        "n_estimators= 100,\n",
        "max_samples=0.7,\n",
        "max_features=0.5)\n",
        "t0 = time.time()\n",
        "bag_model.fit(X_train_padr, y_train)\n",
        "t1 = time.time()\n",
        "score = bag_model.score(X_test_padr, y_test)\n",
        "print(f' Acurácia: {score} ') \n",
        "print(f' Tempo gasto para o bagging: {t1- t0} ')"
      ],
      "metadata": {
        "colab": {
          "base_uri": "https://localhost:8080/"
        },
        "id": "NopFQ35VZBHw",
        "outputId": "508a9959-98ba-40b8-ee37-c47630810ee0"
      },
      "execution_count": 133,
      "outputs": [
        {
          "output_type": "stream",
          "name": "stdout",
          "text": [
            " Acurácia: 0.8799392097264438 \n",
            " Tempo gasto para o bagging: 4.264060974121094 \n"
          ]
        }
      ]
    },
    {
      "cell_type": "code",
      "source": [
        "#Gridsearch dos melhores parametros para o classificador que se saiu melhor entre os 3 abaixo\n",
        "t0 = time.time()\n",
        "\n",
        "params = [{'n_estimators': [3,10,30, 50,100], 'max_features': [0.3,0.5,0.7], 'max_samples': [0.3, 0.5, 0.7]}]\n",
        "grid = sklearn.model_selection.GridSearchCV(bag_model, param_grid = params, cv=5, scoring = 'neg_mean_squared_error', return_train_score =True)\n",
        "grid.fit(X_train, y_train)\n",
        "print(grid.best_params_, grid.best_estimator_)\n",
        "\n",
        "t1 = time.time()\n",
        "print(f' Tempo gasto para o gridsearch: {t1- t0} ')\n",
        "#as melhores medidas do baggingclassifier já foram atualizadas acima!"
      ],
      "metadata": {
        "colab": {
          "base_uri": "https://localhost:8080/"
        },
        "id": "KZx8jCJzZHjE",
        "outputId": "c51e57d9-da3c-4d35-c5ed-65baac0481ea"
      },
      "execution_count": 132,
      "outputs": [
        {
          "output_type": "stream",
          "name": "stdout",
          "text": [
            "{'max_features': 0.5, 'max_samples': 0.7, 'n_estimators': 100} BaggingClassifier(base_estimator=RandomForestClassifier(n_estimators=10,\n",
            "                                                        random_state=42),\n",
            "                  max_features=0.5, max_samples=0.7, n_estimators=100)\n",
            " Tempo gasto para o gridsearch: 303.1578185558319 \n"
          ]
        }
      ]
    },
    {
      "cell_type": "code",
      "source": [
        "#Logistic Regression\n",
        "log_model = sklearn.linear_model.LogisticRegression(max_iter = 1000000)\n",
        "\n",
        "log_model.fit(X_train_padr, y_train)\n",
        "log_predict = log_model.predict(np.asarray(X_test_padr))\n",
        "print(sklearn.metrics.confusion_matrix(y_test, log_predict))\n",
        "\n",
        "y_score = sklearn.model_selection.cross_val_score(log_model, X_train, y_train, cv=3, scoring='accuracy')\n",
        "print(f'acuracia : {y_score.mean()}')\n",
        "\n",
        "f1 = sklearn.metrics.f1_score(y_test, log_predict, average = 'macro')\n",
        "print(f' f1 : {f1} ')\n",
        "\n",
        "print(sklearn.metrics.classification_report(y_test, log_predict))"
      ],
      "metadata": {
        "colab": {
          "base_uri": "https://localhost:8080/"
        },
        "id": "RwSCf0hjdCJH",
        "outputId": "e7296b67-44e4-4d0b-b2f5-3cfeb2ae8d90"
      },
      "execution_count": 135,
      "outputs": [
        {
          "output_type": "stream",
          "name": "stdout",
          "text": [
            "[[63  9  2 12  0  8  0]\n",
            " [ 5 61 22  6  0  0  0]\n",
            " [14 24 29 16  4  7  0]\n",
            " [16 14 14 19 15 14  2]\n",
            " [ 7  5  2 13 34 33  0]\n",
            " [10  0  0  1 17 66  0]\n",
            " [ 0  0  0  0  0  0 94]]\n",
            "acuracia : 0.545214799192041\n",
            " f1 : 0.5403997549713478 \n",
            "              precision    recall  f1-score   support\n",
            "\n",
            "         3.0       0.55      0.67      0.60        94\n",
            "         4.0       0.54      0.65      0.59        94\n",
            "         5.0       0.42      0.31      0.36        94\n",
            "         6.0       0.28      0.20      0.24        94\n",
            "         7.0       0.49      0.36      0.41        94\n",
            "         8.0       0.52      0.70      0.59        94\n",
            "         9.0       0.98      1.00      0.99        94\n",
            "\n",
            "    accuracy                           0.56       658\n",
            "   macro avg       0.54      0.56      0.54       658\n",
            "weighted avg       0.54      0.56      0.54       658\n",
            "\n"
          ]
        }
      ]
    },
    {
      "cell_type": "markdown",
      "source": [
        "Resultados:\n",
        "\n",
        "Observação: o dataset teve as proporções de classes balanceadas e, portanto, possui medida de acurácia confiável. Mas devido à demora para rodar o knn em todo dataset, a análise foi feita em cima das primeiras mil linhas, o que deve ter abaixado um pouco as notas.\n",
        "\n",
        "KNN: com k=3, ofereceu uma acurácia de 0.84 no test set e f1_score de 0.82 para números padronizados. Os resultados são ligeiramente melhores para números normatizados. Durou por volta de 17 segundos.\n",
        "\n",
        "No plot dos resultados, podemos ver que o maior erro de predição ocorreu nas categorias 5 e 6. Destaque para dificuldade de identificar muitas das labels 6 corretamente(baixo recall).\n",
        "\n",
        "KNN + PCA: Também usando k=3, houve uma queda de mais de 20% nas duas notas. Mas o PCA originado de normatização performa 1-2% melhor. O tempo de processamento ficou apenas 1 segundo menor.\n",
        "\n",
        "Já durante o plot dos resultados, ficou evidente a má performance nos valores 5,7,8 e principalmente 6.\n",
        "\n",
        "Foram usados outros classificadores do modelo de 'trees' para comparação, com seus resultados disponíveis como output. Em cima disso foram rodados um bootstrap agreggator e um GridSearchCV para encontrar seus melhores parâmetros.\n",
        "\n",
        "\n",
        "--------- Target binário \n",
        "\n",
        "KNN:com k=3, ofereceu uma acurácia satisfatória de 0.96 no test set e f1_score de 0.95 para números normatizados. Dessa vez os resultados são ligeiramente melhores para números padronizados. Durou por volta de 9,5 segundos.\n",
        "\n",
        "KNN + PCA: Também usando k=3, houve uma queda de por volta de 1% apenas nas duas notas. Mas o PCA originado de padronização performa 1-2% melhor. O tempo de processamento ficou apenas meio segundo menor.\n",
        "\n",
        "Em ambos os plots/métricas, a margem para falsos positivos e falsos negativos foi mínima.\n",
        "\n",
        "Por fim, foi usado um modelo de regressão logística a fim de comparação."
      ],
      "metadata": {
        "id": "oJM-aM8xQdFB"
      }
    }
  ],
  "metadata": {
    "colab": {
      "collapsed_sections": [],
      "name": "Projeto 3.ipynb",
      "provenance": [],
      "mount_file_id": "1ibut1qnENUAB3p28AX8vxOUgI6dVcFCL",
      "authorship_tag": "ABX9TyNzOQGJR/sWNj1llwkZSUPx",
      "include_colab_link": true
    },
    "kernelspec": {
      "display_name": "Python 3",
      "name": "python3"
    },
    "language_info": {
      "name": "python"
    }
  },
  "nbformat": 4,
  "nbformat_minor": 0
}